{
  "cells": [
    {
      "cell_type": "markdown",
      "metadata": {
        "id": "8l_IRHAF0khd"
      },
      "source": [
        "# Collection To JSON Schema"
      ]
    },
    {
      "cell_type": "code",
      "execution_count": 2,
      "metadata": {
        "colab": {
          "base_uri": "https://localhost:8080/"
        },
        "id": "AWRIZ9qxGO67",
        "outputId": "f5c1bc5e-de44-4a16-c3d8-0810bafb30ba"
      },
      "outputs": [
        {
          "name": "stdout",
          "output_type": "stream",
          "text": [
            "Collecting pymongo[srv]\n",
            "  Downloading pymongo-4.7.1-cp310-cp310-manylinux_2_17_x86_64.manylinux2014_x86_64.whl (669 kB)\n",
            "\u001b[2K     \u001b[90m━━━━━━━━━━━━━━━━━━━━━━━━━━━━━━━━━━━━━━━━\u001b[0m \u001b[32m670.0/670.0 kB\u001b[0m \u001b[31m11.0 MB/s\u001b[0m eta \u001b[36m0:00:00\u001b[0m\n",
            "\u001b[?25hCollecting dnspython<3.0.0,>=1.16.0 (from pymongo[srv])\n",
            "  Downloading dnspython-2.6.1-py3-none-any.whl (307 kB)\n",
            "\u001b[2K     \u001b[90m━━━━━━━━━━━━━━━━━━━━━━━━━━━━━━━━━━━━━━━━\u001b[0m \u001b[32m307.7/307.7 kB\u001b[0m \u001b[31m31.9 MB/s\u001b[0m eta \u001b[36m0:00:00\u001b[0m\n",
            "\u001b[?25hInstalling collected packages: dnspython, pymongo\n",
            "Successfully installed dnspython-2.6.1 pymongo-4.7.1\n"
          ]
        }
      ],
      "source": [
        "!pip install pymongo[srv]"
      ]
    },
    {
      "cell_type": "code",
      "execution_count": 4,
      "metadata": {
        "id": "Zv8eumyqJzCM"
      },
      "outputs": [],
      "source": [
        "import pymongo\n",
        "from pymongo import MongoClient\n",
        "import json"
      ]
    },
    {
      "cell_type": "code",
      "execution_count": 5,
      "metadata": {
        "id": "rrbxLE-_J0c2"
      },
      "outputs": [],
      "source": [
        "# Connect to your MongoDB Atlas cluster\n",
        "# Replace the connection string with your own\n",
        "client = MongoClient(\"mongodb+srv://<username>:<password>@cluster0.r8pymzo.mongodb.net/\")"
      ]
    },
    {
      "cell_type": "code",
      "execution_count": 6,
      "metadata": {
        "id": "AX3hj6YiLJBi"
      },
      "outputs": [],
      "source": [
        "# Access the sample_mflix database\n",
        "db = client.sample_mflix"
      ]
    },
    {
      "cell_type": "code",
      "execution_count": 7,
      "metadata": {
        "id": "zEs1HB1KLL_1"
      },
      "outputs": [],
      "source": [
        "# Function to extract schema for a given collection\n",
        "def get_collection_schema(collection_name):\n",
        "    collection = db[collection_name]\n",
        "    sample_document = collection.find_one()\n",
        "    schema = {}\n",
        "    for field, value in sample_document.items():\n",
        "        field_type = type(value).__name__\n",
        "        if isinstance(value, list):\n",
        "            if value:\n",
        "                if isinstance(value[0], dict):\n",
        "                    inner_fields = {}\n",
        "                    for inner_doc in value:\n",
        "                        inner_fields.update(get_collection_schema(collection_name))\n",
        "                    schema[field] = {\"type\": \"array\", \"description\": f\"List of objects with fields: {inner_fields}\"}\n",
        "                else:\n",
        "                    inner_type = type(value[0]).__name__\n",
        "                    schema[field] = {\"type\": \"array\", \"description\": f\"List of {inner_type}s\"}\n",
        "            else:\n",
        "                schema[field] = {\"type\": \"array\"}\n",
        "        else:\n",
        "            schema[field] = {\"type\": field_type}\n",
        "    return schema"
      ]
    },
    {
      "cell_type": "code",
      "execution_count": 8,
      "metadata": {
        "id": "bJ8ysWo2LQ9K"
      },
      "outputs": [],
      "source": [
        "# Function to generate the JSON schema for all collections\n",
        "def generate_schema():\n",
        "    collections_schema = {}\n",
        "    for collection_name in db.list_collection_names():\n",
        "        collections_schema[collection_name] = {\"name\": collection_name, \"description\": f\"Contains detailed information about {collection_name}.\"}\n",
        "        collections_schema[collection_name][\"fields\"] = get_collection_schema(collection_name)\n",
        "    return collections_schema"
      ]
    },
    {
      "cell_type": "code",
      "execution_count": 9,
      "metadata": {
        "id": "i9U65kAzLVjH"
      },
      "outputs": [],
      "source": [
        "# Generate the schema\n",
        "schema = generate_schema()"
      ]
    },
    {
      "cell_type": "code",
      "execution_count": 10,
      "metadata": {
        "colab": {
          "base_uri": "https://localhost:8080/"
        },
        "id": "SAShGRwkLYtv",
        "outputId": "90d7abb1-68f0-4fc9-ad56-c82e21005d4c"
      },
      "outputs": [
        {
          "data": {
            "text/plain": [
              "{'sessions': {'name': 'sessions',\n",
              "  'description': 'Contains detailed information about sessions.',\n",
              "  'fields': {'_id': {'type': 'ObjectId'},\n",
              "   'user_id': {'type': 'str'},\n",
              "   'jwt': {'type': 'str'}}},\n",
              " 'movies': {'name': 'movies',\n",
              "  'description': 'Contains detailed information about movies.',\n",
              "  'fields': {'_id': {'type': 'ObjectId'},\n",
              "   'plot': {'type': 'str'},\n",
              "   'genres': {'type': 'array', 'description': 'List of strs'},\n",
              "   'runtime': {'type': 'int'},\n",
              "   'cast': {'type': 'array', 'description': 'List of strs'},\n",
              "   'poster': {'type': 'str'},\n",
              "   'title': {'type': 'str'},\n",
              "   'fullplot': {'type': 'str'},\n",
              "   'languages': {'type': 'array', 'description': 'List of strs'},\n",
              "   'released': {'type': 'datetime'},\n",
              "   'directors': {'type': 'array', 'description': 'List of strs'},\n",
              "   'rated': {'type': 'str'},\n",
              "   'awards': {'type': 'dict'},\n",
              "   'lastupdated': {'type': 'str'},\n",
              "   'year': {'type': 'int'},\n",
              "   'imdb': {'type': 'dict'},\n",
              "   'countries': {'type': 'array', 'description': 'List of strs'},\n",
              "   'type': {'type': 'str'},\n",
              "   'tomatoes': {'type': 'dict'},\n",
              "   'num_mflix_comments': {'type': 'int'}}},\n",
              " 'embedded_movies': {'name': 'embedded_movies',\n",
              "  'description': 'Contains detailed information about embedded_movies.',\n",
              "  'fields': {'_id': {'type': 'ObjectId'},\n",
              "   'plot': {'type': 'str'},\n",
              "   'genres': {'type': 'array', 'description': 'List of strs'},\n",
              "   'runtime': {'type': 'int'},\n",
              "   'cast': {'type': 'array', 'description': 'List of strs'},\n",
              "   'num_mflix_comments': {'type': 'int'},\n",
              "   'poster': {'type': 'str'},\n",
              "   'title': {'type': 'str'},\n",
              "   'fullplot': {'type': 'str'},\n",
              "   'languages': {'type': 'array', 'description': 'List of strs'},\n",
              "   'released': {'type': 'datetime'},\n",
              "   'directors': {'type': 'array', 'description': 'List of strs'},\n",
              "   'writers': {'type': 'array', 'description': 'List of strs'},\n",
              "   'awards': {'type': 'dict'},\n",
              "   'lastupdated': {'type': 'str'},\n",
              "   'year': {'type': 'int'},\n",
              "   'imdb': {'type': 'dict'},\n",
              "   'countries': {'type': 'array', 'description': 'List of strs'},\n",
              "   'type': {'type': 'str'},\n",
              "   'tomatoes': {'type': 'dict'},\n",
              "   'plot_embedding': {'type': 'array', 'description': 'List of floats'}}},\n",
              " 'theaters': {'name': 'theaters',\n",
              "  'description': 'Contains detailed information about theaters.',\n",
              "  'fields': {'_id': {'type': 'ObjectId'},\n",
              "   'theaterId': {'type': 'int'},\n",
              "   'location': {'type': 'dict'}}},\n",
              " 'users': {'name': 'users',\n",
              "  'description': 'Contains detailed information about users.',\n",
              "  'fields': {'_id': {'type': 'ObjectId'},\n",
              "   'name': {'type': 'str'},\n",
              "   'email': {'type': 'str'},\n",
              "   'password': {'type': 'str'}}},\n",
              " 'comments': {'name': 'comments',\n",
              "  'description': 'Contains detailed information about comments.',\n",
              "  'fields': {'_id': {'type': 'ObjectId'},\n",
              "   'name': {'type': 'str'},\n",
              "   'email': {'type': 'str'},\n",
              "   'movie_id': {'type': 'ObjectId'},\n",
              "   'text': {'type': 'str'},\n",
              "   'date': {'type': 'datetime'}}}}"
            ]
          },
          "execution_count": 10,
          "metadata": {},
          "output_type": "execute_result"
        }
      ],
      "source": [
        "schema"
      ]
    },
    {
      "cell_type": "code",
      "execution_count": 49,
      "metadata": {
        "id": "nFRJIcoEL0cz"
      },
      "outputs": [],
      "source": [
        "# # Write the schema to a JSON file - Everything in a single file\n",
        "# # Don't Run This\n",
        "# with open(\"movie.json\", \"w\") as f:\n",
        "#     json.dump({\"collections\": schema}, f, indent=4)\n",
        "\n",
        "# print(\"Schema generation complete. Schema saved as 'movie.json'.\")"
      ]
    },
    {
      "cell_type": "code",
      "execution_count": 11,
      "metadata": {
        "id": "VF7KGY5NOSKY"
      },
      "outputs": [],
      "source": [
        "# Function to generate the schema for a single collection and write it to a JSON file\n",
        "def generate_collection_schema(collection_name):\n",
        "    schema = {\"name\": collection_name, \"description\": f\"Contains detailed information about {collection_name}.\"}\n",
        "    schema[\"fields\"] = get_collection_schema(collection_name)\n",
        "    with open(f\"{collection_name}.json\", \"w\") as f:\n",
        "        json.dump(schema, f, indent=4)"
      ]
    },
    {
      "cell_type": "code",
      "execution_count": 12,
      "metadata": {
        "id": "yTjiC9XWOUuX"
      },
      "outputs": [],
      "source": [
        "# Generate schema for each collection and write to separate files\n",
        "for collection_name in db.list_collection_names():\n",
        "    generate_collection_schema(collection_name)"
      ]
    },
    {
      "cell_type": "markdown",
      "metadata": {
        "id": "c8sQWfIy0hLf"
      },
      "source": [
        "# LLM"
      ]
    },
    {
      "cell_type": "code",
      "execution_count": 13,
      "metadata": {
        "colab": {
          "base_uri": "https://localhost:8080/"
        },
        "id": "hC5Hj-eEAKMT",
        "outputId": "9f88b42c-8ce6-4664-f777-05a9af4b0ec6"
      },
      "outputs": [
        {
          "name": "stdout",
          "output_type": "stream",
          "text": [
            "Collecting openai\n",
            "  Downloading openai-1.25.1-py3-none-any.whl (312 kB)\n",
            "\u001b[?25l     \u001b[90m━━━━━━━━━━━━━━━━━━━━━━━━━━━━━━━━━━━━━━━━\u001b[0m \u001b[32m0.0/312.9 kB\u001b[0m \u001b[31m?\u001b[0m eta \u001b[36m-:--:--\u001b[0m\r\u001b[2K     \u001b[91m━━━━━━━━━\u001b[0m\u001b[90m╺\u001b[0m\u001b[90m━━━━━━━━━━━━━━━━━━━━━━━━━━━━━━\u001b[0m \u001b[32m71.7/312.9 kB\u001b[0m \u001b[31m2.0 MB/s\u001b[0m eta \u001b[36m0:00:01\u001b[0m\r\u001b[2K     \u001b[90m━━━━━━━━━━━━━━━━━━━━━━━━━━━━━━━━━━━━━━━━\u001b[0m \u001b[32m312.9/312.9 kB\u001b[0m \u001b[31m5.1 MB/s\u001b[0m eta \u001b[36m0:00:00\u001b[0m\n",
            "\u001b[?25hRequirement already satisfied: anyio<5,>=3.5.0 in /usr/local/lib/python3.10/dist-packages (from openai) (3.7.1)\n",
            "Requirement already satisfied: distro<2,>=1.7.0 in /usr/lib/python3/dist-packages (from openai) (1.7.0)\n",
            "Collecting httpx<1,>=0.23.0 (from openai)\n",
            "  Downloading httpx-0.27.0-py3-none-any.whl (75 kB)\n",
            "\u001b[2K     \u001b[90m━━━━━━━━━━━━━━━━━━━━━━━━━━━━━━━━━━━━━━━━\u001b[0m \u001b[32m75.6/75.6 kB\u001b[0m \u001b[31m7.8 MB/s\u001b[0m eta \u001b[36m0:00:00\u001b[0m\n",
            "\u001b[?25hRequirement already satisfied: pydantic<3,>=1.9.0 in /usr/local/lib/python3.10/dist-packages (from openai) (2.7.1)\n",
            "Requirement already satisfied: sniffio in /usr/local/lib/python3.10/dist-packages (from openai) (1.3.1)\n",
            "Requirement already satisfied: tqdm>4 in /usr/local/lib/python3.10/dist-packages (from openai) (4.66.2)\n",
            "Requirement already satisfied: typing-extensions<5,>=4.7 in /usr/local/lib/python3.10/dist-packages (from openai) (4.11.0)\n",
            "Requirement already satisfied: idna>=2.8 in /usr/local/lib/python3.10/dist-packages (from anyio<5,>=3.5.0->openai) (3.7)\n",
            "Requirement already satisfied: exceptiongroup in /usr/local/lib/python3.10/dist-packages (from anyio<5,>=3.5.0->openai) (1.2.1)\n",
            "Requirement already satisfied: certifi in /usr/local/lib/python3.10/dist-packages (from httpx<1,>=0.23.0->openai) (2024.2.2)\n",
            "Collecting httpcore==1.* (from httpx<1,>=0.23.0->openai)\n",
            "  Downloading httpcore-1.0.5-py3-none-any.whl (77 kB)\n",
            "\u001b[2K     \u001b[90m━━━━━━━━━━━━━━━━━━━━━━━━━━━━━━━━━━━━━━━━\u001b[0m \u001b[32m77.9/77.9 kB\u001b[0m \u001b[31m7.9 MB/s\u001b[0m eta \u001b[36m0:00:00\u001b[0m\n",
            "\u001b[?25hCollecting h11<0.15,>=0.13 (from httpcore==1.*->httpx<1,>=0.23.0->openai)\n",
            "  Downloading h11-0.14.0-py3-none-any.whl (58 kB)\n",
            "\u001b[2K     \u001b[90m━━━━━━━━━━━━━━━━━━━━━━━━━━━━━━━━━━━━━━━━\u001b[0m \u001b[32m58.3/58.3 kB\u001b[0m \u001b[31m6.2 MB/s\u001b[0m eta \u001b[36m0:00:00\u001b[0m\n",
            "\u001b[?25hRequirement already satisfied: annotated-types>=0.4.0 in /usr/local/lib/python3.10/dist-packages (from pydantic<3,>=1.9.0->openai) (0.6.0)\n",
            "Requirement already satisfied: pydantic-core==2.18.2 in /usr/local/lib/python3.10/dist-packages (from pydantic<3,>=1.9.0->openai) (2.18.2)\n",
            "Installing collected packages: h11, httpcore, httpx, openai\n",
            "Successfully installed h11-0.14.0 httpcore-1.0.5 httpx-0.27.0 openai-1.25.1\n"
          ]
        }
      ],
      "source": [
        "!pip install openai"
      ]
    },
    {
      "cell_type": "code",
      "execution_count": 50,
      "metadata": {
        "colab": {
          "base_uri": "https://localhost:8080/"
        },
        "id": "LwwljVE4028U",
        "outputId": "39c22dc4-6a8e-4cb3-fa30-d96326282e61"
      },
      "outputs": [
        {
          "name": "stdout",
          "output_type": "stream",
          "text": [
            "Final Descriptions:\n",
            "{'_id': ChatCompletion(id='chatcmpl-9La4fqfqsbH6lQJZ2P16mNWatDJXS', choices=[Choice(finish_reason='stop', index=0, logprobs=None, message=ChatCompletionMessage(content='A unique identifier for each document in a database.', role='assistant', function_call=None, tool_calls=None))], created=1714930585, model='gpt-3.5-turbo-0125', object='chat.completion', system_fingerprint='fp_3b956da36b', usage=CompletionUsage(completion_tokens=10, prompt_tokens=19, total_tokens=29)), 'plot': ChatCompletion(id='chatcmpl-9La4fpz5BjKF0juY8lKr7h8dDiH0h', choices=[Choice(finish_reason='length', index=0, logprobs=None, message=ChatCompletionMessage(content='A young woman navigates the cutthroat world of high fashion modeling while uncovering dark secrets about the', role='assistant', function_call=None, tool_calls=None))], created=1714930585, model='gpt-3.5-turbo-0125', object='chat.completion', system_fingerprint='fp_a450710239', usage=CompletionUsage(completion_tokens=20, prompt_tokens=18, total_tokens=38)), 'genres': ChatCompletion(id='chatcmpl-9La4g7OCER0eBpRl9iror2Mwyzv81', choices=[Choice(finish_reason='stop', index=0, logprobs=None, message=ChatCompletionMessage(content='A collection of different types or styles of music, literature, or art.', role='assistant', function_call=None, tool_calls=None))], created=1714930586, model='gpt-3.5-turbo-0125', object='chat.completion', system_fingerprint='fp_a450710239', usage=CompletionUsage(completion_tokens=15, prompt_tokens=20, total_tokens=35)), 'runtime': ChatCompletion(id='chatcmpl-9La4h7WQZBxpKjRGoE3N6MjDePSFP', choices=[Choice(finish_reason='stop', index=0, logprobs=None, message=ChatCompletionMessage(content='The duration in which a program or process is active and executing on a computer.', role='assistant', function_call=None, tool_calls=None))], created=1714930587, model='gpt-3.5-turbo-0125', object='chat.completion', system_fingerprint='fp_3b956da36b', usage=CompletionUsage(completion_tokens=16, prompt_tokens=18, total_tokens=34)), 'cast': ChatCompletion(id='chatcmpl-9La4h6IMNbu9cMwjEwf3r8yXFYzgv', choices=[Choice(finish_reason='stop', index=0, logprobs=None, message=ChatCompletionMessage(content='A list of names of the cast members starring in a production.', role='assistant', function_call=None, tool_calls=None))], created=1714930587, model='gpt-3.5-turbo-0125', object='chat.completion', system_fingerprint='fp_a450710239', usage=CompletionUsage(completion_tokens=13, prompt_tokens=20, total_tokens=33)), 'poster': ChatCompletion(id='chatcmpl-9La4iYpgwni7G19Tie6z1N9UQ3VXk', choices=[Choice(finish_reason='stop', index=0, logprobs=None, message=ChatCompletionMessage(content='\"Captivating images that tell a story at a glance.\"', role='assistant', function_call=None, tool_calls=None))], created=1714930588, model='gpt-3.5-turbo-0125', object='chat.completion', system_fingerprint='fp_3b956da36b', usage=CompletionUsage(completion_tokens=12, prompt_tokens=18, total_tokens=30)), 'title': ChatCompletion(id='chatcmpl-9La4j8sN3X1nM8egPRlqGhdnHm11W', choices=[Choice(finish_reason='stop', index=0, logprobs=None, message=ChatCompletionMessage(content='\"Revolutionizing the way we connect and communicate.\"', role='assistant', function_call=None, tool_calls=None))], created=1714930589, model='gpt-3.5-turbo-0125', object='chat.completion', system_fingerprint='fp_3b956da36b', usage=CompletionUsage(completion_tokens=11, prompt_tokens=18, total_tokens=29)), 'fullplot': ChatCompletion(id='chatcmpl-9La4jDe6B61VVR6XkyNsO1fjAWkuX', choices=[Choice(finish_reason='stop', index=0, logprobs=None, message=ChatCompletionMessage(content='\"An in-depth narrative detailing the unfolding events and complexities of the story.\"', role='assistant', function_call=None, tool_calls=None))], created=1714930589, model='gpt-3.5-turbo-0125', object='chat.completion', system_fingerprint='fp_a450710239', usage=CompletionUsage(completion_tokens=15, prompt_tokens=19, total_tokens=34)), 'languages': ChatCompletion(id='chatcmpl-9La4k3gWeqbtHIEQWsoNMNnzSLxHa', choices=[Choice(finish_reason='stop', index=0, logprobs=None, message=ChatCompletionMessage(content='A collection of string values representing different programming languages.', role='assistant', function_call=None, tool_calls=None))], created=1714930590, model='gpt-3.5-turbo-0125', object='chat.completion', system_fingerprint='fp_3b956da36b', usage=CompletionUsage(completion_tokens=10, prompt_tokens=20, total_tokens=30)), 'released': ChatCompletion(id='chatcmpl-9La4k4YSOPtSr1EDaZzajgcYjdf1f', choices=[Choice(finish_reason='stop', index=0, logprobs=None, message=ChatCompletionMessage(content='A diverse and innovative collection of new music that pushes boundaries and challenges conventional genres.', role='assistant', function_call=None, tool_calls=None))], created=1714930590, model='gpt-3.5-turbo-0125', object='chat.completion', system_fingerprint='fp_a450710239', usage=CompletionUsage(completion_tokens=16, prompt_tokens=18, total_tokens=34)), 'directors': ChatCompletion(id='chatcmpl-9La4ldeXW9GeBlBCKvjcVmA4emfap', choices=[Choice(finish_reason='stop', index=0, logprobs=None, message=ChatCompletionMessage(content='A collection of names and contact information for directors in various industries.', role='assistant', function_call=None, tool_calls=None))], created=1714930591, model='gpt-3.5-turbo-0125', object='chat.completion', system_fingerprint='fp_3b956da36b', usage=CompletionUsage(completion_tokens=13, prompt_tokens=20, total_tokens=33)), 'rated': ChatCompletion(id='chatcmpl-9La4mRrpHkjLMX9qrjxX4WrACapJ3', choices=[Choice(finish_reason='stop', index=0, logprobs=None, message=ChatCompletionMessage(content='\"Revealing the satisfaction level of a product or service through user feedback and reviews.\"', role='assistant', function_call=None, tool_calls=None))], created=1714930592, model='gpt-3.5-turbo-0125', object='chat.completion', system_fingerprint='fp_3b956da36b', usage=CompletionUsage(completion_tokens=18, prompt_tokens=18, total_tokens=36)), 'awards': ChatCompletion(id='chatcmpl-9La4nwDpZvgwzh6JR5OpbKK83POSn', choices=[Choice(finish_reason='stop', index=0, logprobs=None, message=ChatCompletionMessage(content='Honoring excellence and achievement in various industries and areas of expertise.', role='assistant', function_call=None, tool_calls=None))], created=1714930593, model='gpt-3.5-turbo-0125', object='chat.completion', system_fingerprint='fp_3b956da36b', usage=CompletionUsage(completion_tokens=13, prompt_tokens=18, total_tokens=31)), 'lastupdated': ChatCompletion(id='chatcmpl-9La4oiYjXNy60ciGnOjyc8sSCv6Z7', choices=[Choice(finish_reason='stop', index=0, logprobs=None, message=ChatCompletionMessage(content='Timestamp indicating the most recent update or modification.', role='assistant', function_call=None, tool_calls=None))], created=1714930594, model='gpt-3.5-turbo-0125', object='chat.completion', system_fingerprint='fp_3b956da36b', usage=CompletionUsage(completion_tokens=9, prompt_tokens=19, total_tokens=28)), 'year': ChatCompletion(id='chatcmpl-9La4oc1nmEqW3zwR09WEePTuTIqcn', choices=[Choice(finish_reason='stop', index=0, logprobs=None, message=ChatCompletionMessage(content='A field indicating the specific year in question.', role='assistant', function_call=None, tool_calls=None))], created=1714930594, model='gpt-3.5-turbo-0125', object='chat.completion', system_fingerprint='fp_3b956da36b', usage=CompletionUsage(completion_tokens=9, prompt_tokens=18, total_tokens=27)), 'imdb': ChatCompletion(id='chatcmpl-9La4p0pgXifme6Vhzyhk7luRYKVlE', choices=[Choice(finish_reason='stop', index=0, logprobs=None, message=ChatCompletionMessage(content='\"An online database of movies, television shows, and entertainment industry professionals.\"', role='assistant', function_call=None, tool_calls=None))], created=1714930595, model='gpt-3.5-turbo-0125', object='chat.completion', system_fingerprint='fp_a450710239', usage=CompletionUsage(completion_tokens=15, prompt_tokens=18, total_tokens=33)), 'countries': ChatCompletion(id='chatcmpl-9La4pNvknbRa4zQgXEhyzP4SvatAq', choices=[Choice(finish_reason='stop', index=0, logprobs=None, message=ChatCompletionMessage(content='A list of string values representing different countries.', role='assistant', function_call=None, tool_calls=None))], created=1714930595, model='gpt-3.5-turbo-0125', object='chat.completion', system_fingerprint='fp_3b956da36b', usage=CompletionUsage(completion_tokens=9, prompt_tokens=20, total_tokens=29)), 'type': ChatCompletion(id='chatcmpl-9La4q32LWLcpJ4i24388SyN4uPPuu', choices=[Choice(finish_reason='stop', index=0, logprobs=None, message=ChatCompletionMessage(content='Classify the type of product or service being offered.', role='assistant', function_call=None, tool_calls=None))], created=1714930596, model='gpt-3.5-turbo-0125', object='chat.completion', system_fingerprint='fp_3b956da36b', usage=CompletionUsage(completion_tokens=11, prompt_tokens=18, total_tokens=29)), 'tomatoes': ChatCompletion(id='chatcmpl-9La4rET0JxcC9wgqPEymFLXQVs5ue', choices=[Choice(finish_reason='stop', index=0, logprobs=None, message=ChatCompletionMessage(content='A vibrant sea of ripe red tomatoes ready for picking.', role='assistant', function_call=None, tool_calls=None))], created=1714930597, model='gpt-3.5-turbo-0125', object='chat.completion', system_fingerprint='fp_3b956da36b', usage=CompletionUsage(completion_tokens=11, prompt_tokens=18, total_tokens=29)), 'num_mflix_comments': ChatCompletion(id='chatcmpl-9La4rDbovpudeG5gW7TPhrG8Fn3El', choices=[Choice(finish_reason='stop', index=0, logprobs=None, message=ChatCompletionMessage(content='Number of comments left on movies in the Mflix database.', role='assistant', function_call=None, tool_calls=None))], created=1714930597, model='gpt-3.5-turbo-0125', object='chat.completion', system_fingerprint='fp_3b956da36b', usage=CompletionUsage(completion_tokens=12, prompt_tokens=21, total_tokens=33))}\n"
          ]
        }
      ],
      "source": [
        "import os\n",
        "import time\n",
        "import json\n",
        "from openai import OpenAI\n",
        "\n",
        "# Function to generate description using OpenAI Language Model\n",
        "def generate_description(prompt):\n",
        "    client = OpenAI(\n",
        "        api_key = \"<OpenAI_API-Key>\", # Replace with your OpenAI API Key\n",
        "    )\n",
        "\n",
        "    chat_completion = client.chat.completions.create(\n",
        "        model=\"gpt-3.5-turbo\",\n",
        "        messages=[\n",
        "            {\n",
        "                \"role\": \"user\",\n",
        "                \"content\": prompt,\n",
        "            }\n",
        "        ],\n",
        "        max_tokens = 20\n",
        "    )\n",
        "\n",
        "    return chat_completion\n",
        "\n",
        "# Load JSON file\n",
        "with open('movies.json', 'r') as f:\n",
        "    data = json.load(f)\n",
        "\n",
        "# Extract field names and descriptions\n",
        "fields = data['fields']\n",
        "field_descriptions = {key: value.get('description', '') for key, value in fields.items()}\n",
        "\n",
        "# Generate description for each field with rate limiting\n",
        "field_generated_descriptions = {}\n",
        "for key, value in field_descriptions.items():\n",
        "    description = generate_description(f\"Generate a single line description for the {key} field: {value}\")\n",
        "    field_generated_descriptions[key] = description\n",
        "\n",
        "# Print final descriptions\n",
        "print(\"Final Descriptions:\")\n",
        "print(field_generated_descriptions)"
      ]
    },
    {
      "cell_type": "code",
      "execution_count": 51,
      "metadata": {
        "colab": {
          "base_uri": "https://localhost:8080/"
        },
        "id": "Mz3GUhOL1Jnb",
        "outputId": "1d741f58-8a4f-49b2-f257-794d19fee7ac"
      },
      "outputs": [
        {
          "name": "stdout",
          "output_type": "stream",
          "text": [
            "Keys: ['_id', 'plot', 'genres', 'runtime', 'cast', 'poster', 'title', 'fullplot', 'languages', 'released', 'directors', 'rated', 'awards', 'lastupdated', 'year', 'imdb', 'countries', 'type', 'tomatoes', 'num_mflix_comments']\n",
            "Values: [ChatCompletion(id='chatcmpl-9La4fqfqsbH6lQJZ2P16mNWatDJXS', choices=[Choice(finish_reason='stop', index=0, logprobs=None, message=ChatCompletionMessage(content='A unique identifier for each document in a database.', role='assistant', function_call=None, tool_calls=None))], created=1714930585, model='gpt-3.5-turbo-0125', object='chat.completion', system_fingerprint='fp_3b956da36b', usage=CompletionUsage(completion_tokens=10, prompt_tokens=19, total_tokens=29)), ChatCompletion(id='chatcmpl-9La4fpz5BjKF0juY8lKr7h8dDiH0h', choices=[Choice(finish_reason='length', index=0, logprobs=None, message=ChatCompletionMessage(content='A young woman navigates the cutthroat world of high fashion modeling while uncovering dark secrets about the', role='assistant', function_call=None, tool_calls=None))], created=1714930585, model='gpt-3.5-turbo-0125', object='chat.completion', system_fingerprint='fp_a450710239', usage=CompletionUsage(completion_tokens=20, prompt_tokens=18, total_tokens=38)), ChatCompletion(id='chatcmpl-9La4g7OCER0eBpRl9iror2Mwyzv81', choices=[Choice(finish_reason='stop', index=0, logprobs=None, message=ChatCompletionMessage(content='A collection of different types or styles of music, literature, or art.', role='assistant', function_call=None, tool_calls=None))], created=1714930586, model='gpt-3.5-turbo-0125', object='chat.completion', system_fingerprint='fp_a450710239', usage=CompletionUsage(completion_tokens=15, prompt_tokens=20, total_tokens=35)), ChatCompletion(id='chatcmpl-9La4h7WQZBxpKjRGoE3N6MjDePSFP', choices=[Choice(finish_reason='stop', index=0, logprobs=None, message=ChatCompletionMessage(content='The duration in which a program or process is active and executing on a computer.', role='assistant', function_call=None, tool_calls=None))], created=1714930587, model='gpt-3.5-turbo-0125', object='chat.completion', system_fingerprint='fp_3b956da36b', usage=CompletionUsage(completion_tokens=16, prompt_tokens=18, total_tokens=34)), ChatCompletion(id='chatcmpl-9La4h6IMNbu9cMwjEwf3r8yXFYzgv', choices=[Choice(finish_reason='stop', index=0, logprobs=None, message=ChatCompletionMessage(content='A list of names of the cast members starring in a production.', role='assistant', function_call=None, tool_calls=None))], created=1714930587, model='gpt-3.5-turbo-0125', object='chat.completion', system_fingerprint='fp_a450710239', usage=CompletionUsage(completion_tokens=13, prompt_tokens=20, total_tokens=33)), ChatCompletion(id='chatcmpl-9La4iYpgwni7G19Tie6z1N9UQ3VXk', choices=[Choice(finish_reason='stop', index=0, logprobs=None, message=ChatCompletionMessage(content='\"Captivating images that tell a story at a glance.\"', role='assistant', function_call=None, tool_calls=None))], created=1714930588, model='gpt-3.5-turbo-0125', object='chat.completion', system_fingerprint='fp_3b956da36b', usage=CompletionUsage(completion_tokens=12, prompt_tokens=18, total_tokens=30)), ChatCompletion(id='chatcmpl-9La4j8sN3X1nM8egPRlqGhdnHm11W', choices=[Choice(finish_reason='stop', index=0, logprobs=None, message=ChatCompletionMessage(content='\"Revolutionizing the way we connect and communicate.\"', role='assistant', function_call=None, tool_calls=None))], created=1714930589, model='gpt-3.5-turbo-0125', object='chat.completion', system_fingerprint='fp_3b956da36b', usage=CompletionUsage(completion_tokens=11, prompt_tokens=18, total_tokens=29)), ChatCompletion(id='chatcmpl-9La4jDe6B61VVR6XkyNsO1fjAWkuX', choices=[Choice(finish_reason='stop', index=0, logprobs=None, message=ChatCompletionMessage(content='\"An in-depth narrative detailing the unfolding events and complexities of the story.\"', role='assistant', function_call=None, tool_calls=None))], created=1714930589, model='gpt-3.5-turbo-0125', object='chat.completion', system_fingerprint='fp_a450710239', usage=CompletionUsage(completion_tokens=15, prompt_tokens=19, total_tokens=34)), ChatCompletion(id='chatcmpl-9La4k3gWeqbtHIEQWsoNMNnzSLxHa', choices=[Choice(finish_reason='stop', index=0, logprobs=None, message=ChatCompletionMessage(content='A collection of string values representing different programming languages.', role='assistant', function_call=None, tool_calls=None))], created=1714930590, model='gpt-3.5-turbo-0125', object='chat.completion', system_fingerprint='fp_3b956da36b', usage=CompletionUsage(completion_tokens=10, prompt_tokens=20, total_tokens=30)), ChatCompletion(id='chatcmpl-9La4k4YSOPtSr1EDaZzajgcYjdf1f', choices=[Choice(finish_reason='stop', index=0, logprobs=None, message=ChatCompletionMessage(content='A diverse and innovative collection of new music that pushes boundaries and challenges conventional genres.', role='assistant', function_call=None, tool_calls=None))], created=1714930590, model='gpt-3.5-turbo-0125', object='chat.completion', system_fingerprint='fp_a450710239', usage=CompletionUsage(completion_tokens=16, prompt_tokens=18, total_tokens=34)), ChatCompletion(id='chatcmpl-9La4ldeXW9GeBlBCKvjcVmA4emfap', choices=[Choice(finish_reason='stop', index=0, logprobs=None, message=ChatCompletionMessage(content='A collection of names and contact information for directors in various industries.', role='assistant', function_call=None, tool_calls=None))], created=1714930591, model='gpt-3.5-turbo-0125', object='chat.completion', system_fingerprint='fp_3b956da36b', usage=CompletionUsage(completion_tokens=13, prompt_tokens=20, total_tokens=33)), ChatCompletion(id='chatcmpl-9La4mRrpHkjLMX9qrjxX4WrACapJ3', choices=[Choice(finish_reason='stop', index=0, logprobs=None, message=ChatCompletionMessage(content='\"Revealing the satisfaction level of a product or service through user feedback and reviews.\"', role='assistant', function_call=None, tool_calls=None))], created=1714930592, model='gpt-3.5-turbo-0125', object='chat.completion', system_fingerprint='fp_3b956da36b', usage=CompletionUsage(completion_tokens=18, prompt_tokens=18, total_tokens=36)), ChatCompletion(id='chatcmpl-9La4nwDpZvgwzh6JR5OpbKK83POSn', choices=[Choice(finish_reason='stop', index=0, logprobs=None, message=ChatCompletionMessage(content='Honoring excellence and achievement in various industries and areas of expertise.', role='assistant', function_call=None, tool_calls=None))], created=1714930593, model='gpt-3.5-turbo-0125', object='chat.completion', system_fingerprint='fp_3b956da36b', usage=CompletionUsage(completion_tokens=13, prompt_tokens=18, total_tokens=31)), ChatCompletion(id='chatcmpl-9La4oiYjXNy60ciGnOjyc8sSCv6Z7', choices=[Choice(finish_reason='stop', index=0, logprobs=None, message=ChatCompletionMessage(content='Timestamp indicating the most recent update or modification.', role='assistant', function_call=None, tool_calls=None))], created=1714930594, model='gpt-3.5-turbo-0125', object='chat.completion', system_fingerprint='fp_3b956da36b', usage=CompletionUsage(completion_tokens=9, prompt_tokens=19, total_tokens=28)), ChatCompletion(id='chatcmpl-9La4oc1nmEqW3zwR09WEePTuTIqcn', choices=[Choice(finish_reason='stop', index=0, logprobs=None, message=ChatCompletionMessage(content='A field indicating the specific year in question.', role='assistant', function_call=None, tool_calls=None))], created=1714930594, model='gpt-3.5-turbo-0125', object='chat.completion', system_fingerprint='fp_3b956da36b', usage=CompletionUsage(completion_tokens=9, prompt_tokens=18, total_tokens=27)), ChatCompletion(id='chatcmpl-9La4p0pgXifme6Vhzyhk7luRYKVlE', choices=[Choice(finish_reason='stop', index=0, logprobs=None, message=ChatCompletionMessage(content='\"An online database of movies, television shows, and entertainment industry professionals.\"', role='assistant', function_call=None, tool_calls=None))], created=1714930595, model='gpt-3.5-turbo-0125', object='chat.completion', system_fingerprint='fp_a450710239', usage=CompletionUsage(completion_tokens=15, prompt_tokens=18, total_tokens=33)), ChatCompletion(id='chatcmpl-9La4pNvknbRa4zQgXEhyzP4SvatAq', choices=[Choice(finish_reason='stop', index=0, logprobs=None, message=ChatCompletionMessage(content='A list of string values representing different countries.', role='assistant', function_call=None, tool_calls=None))], created=1714930595, model='gpt-3.5-turbo-0125', object='chat.completion', system_fingerprint='fp_3b956da36b', usage=CompletionUsage(completion_tokens=9, prompt_tokens=20, total_tokens=29)), ChatCompletion(id='chatcmpl-9La4q32LWLcpJ4i24388SyN4uPPuu', choices=[Choice(finish_reason='stop', index=0, logprobs=None, message=ChatCompletionMessage(content='Classify the type of product or service being offered.', role='assistant', function_call=None, tool_calls=None))], created=1714930596, model='gpt-3.5-turbo-0125', object='chat.completion', system_fingerprint='fp_3b956da36b', usage=CompletionUsage(completion_tokens=11, prompt_tokens=18, total_tokens=29)), ChatCompletion(id='chatcmpl-9La4rET0JxcC9wgqPEymFLXQVs5ue', choices=[Choice(finish_reason='stop', index=0, logprobs=None, message=ChatCompletionMessage(content='A vibrant sea of ripe red tomatoes ready for picking.', role='assistant', function_call=None, tool_calls=None))], created=1714930597, model='gpt-3.5-turbo-0125', object='chat.completion', system_fingerprint='fp_3b956da36b', usage=CompletionUsage(completion_tokens=11, prompt_tokens=18, total_tokens=29)), ChatCompletion(id='chatcmpl-9La4rDbovpudeG5gW7TPhrG8Fn3El', choices=[Choice(finish_reason='stop', index=0, logprobs=None, message=ChatCompletionMessage(content='Number of comments left on movies in the Mflix database.', role='assistant', function_call=None, tool_calls=None))], created=1714930597, model='gpt-3.5-turbo-0125', object='chat.completion', system_fingerprint='fp_3b956da36b', usage=CompletionUsage(completion_tokens=12, prompt_tokens=21, total_tokens=33))]\n"
          ]
        }
      ],
      "source": [
        "# Separate keys and values\n",
        "keys = list(field_generated_descriptions.keys())\n",
        "values = list(field_generated_descriptions.values())\n",
        "\n",
        "# Print keys and values\n",
        "print(\"Keys:\", keys)\n",
        "print(\"Values:\", values)"
      ]
    },
    {
      "cell_type": "code",
      "execution_count": 52,
      "metadata": {
        "id": "mqPSnNlf1LOt"
      },
      "outputs": [],
      "source": [
        "description = []\n",
        "\n",
        "for i in (range(len(values))):\n",
        "  # Use regular expressions to extract the content\n",
        "  content_match = re.search(r\"content='(.*?)'\", str(values[i]))\n",
        "\n",
        "  if content_match:\n",
        "      content = content_match.group(1)\n",
        "      description.append(content)\n",
        "      # print(\"Extracted Content:\", content)\n",
        "  else:\n",
        "    description.append(\"\")"
      ]
    },
    {
      "cell_type": "code",
      "execution_count": 53,
      "metadata": {
        "colab": {
          "base_uri": "https://localhost:8080/"
        },
        "id": "-GQt6smc1dsu",
        "outputId": "a9cbe601-110d-4fba-da2a-3b2d850ea855"
      },
      "outputs": [
        {
          "name": "stdout",
          "output_type": "stream",
          "text": [
            "Description:\n",
            "['A unique identifier for each document in a database.', 'A young woman navigates the cutthroat world of high fashion modeling while uncovering dark secrets about the', 'A collection of different types or styles of music, literature, or art.', 'The duration in which a program or process is active and executing on a computer.', 'A list of names of the cast members starring in a production.', '\"Captivating images that tell a story at a glance.\"', '\"Revolutionizing the way we connect and communicate.\"', '\"An in-depth narrative detailing the unfolding events and complexities of the story.\"', 'A collection of string values representing different programming languages.', 'A diverse and innovative collection of new music that pushes boundaries and challenges conventional genres.', 'A collection of names and contact information for directors in various industries.', '\"Revealing the satisfaction level of a product or service through user feedback and reviews.\"', 'Honoring excellence and achievement in various industries and areas of expertise.', 'Timestamp indicating the most recent update or modification.', 'A field indicating the specific year in question.', '\"An online database of movies, television shows, and entertainment industry professionals.\"', 'A list of string values representing different countries.', 'Classify the type of product or service being offered.', 'A vibrant sea of ripe red tomatoes ready for picking.', 'Number of comments left on movies in the Mflix database.']\n"
          ]
        }
      ],
      "source": [
        "print(\"Description:\")\n",
        "print(description)"
      ]
    },
    {
      "cell_type": "code",
      "execution_count": 54,
      "metadata": {
        "id": "uXTKCJy31mnf"
      },
      "outputs": [],
      "source": [
        "field_descriptions_final = {}\n",
        "# Update the dictionary with new values\n",
        "for key, new_value in zip(field_generated_descriptions.keys(), description):\n",
        "    field_descriptions_final[key] = new_value"
      ]
    },
    {
      "cell_type": "code",
      "execution_count": 56,
      "metadata": {
        "colab": {
          "base_uri": "https://localhost:8080/"
        },
        "id": "fJs6RXie13se",
        "outputId": "1bfd8f88-1abb-4ca7-be74-bcd335afd1d9"
      },
      "outputs": [
        {
          "name": "stdout",
          "output_type": "stream",
          "text": [
            "Final Dictionary of Descriptions:\n",
            "{'_id': 'A unique identifier for each document in a database.', 'plot': 'A young woman navigates the cutthroat world of high fashion modeling while uncovering dark secrets about the', 'genres': 'A collection of different types or styles of music, literature, or art.', 'runtime': 'The duration in which a program or process is active and executing on a computer.', 'cast': 'A list of names of the cast members starring in a production.', 'poster': '\"Captivating images that tell a story at a glance.\"', 'title': '\"Revolutionizing the way we connect and communicate.\"', 'fullplot': '\"An in-depth narrative detailing the unfolding events and complexities of the story.\"', 'languages': 'A collection of string values representing different programming languages.', 'released': 'A diverse and innovative collection of new music that pushes boundaries and challenges conventional genres.', 'directors': 'A collection of names and contact information for directors in various industries.', 'rated': '\"Revealing the satisfaction level of a product or service through user feedback and reviews.\"', 'awards': 'Honoring excellence and achievement in various industries and areas of expertise.', 'lastupdated': 'Timestamp indicating the most recent update or modification.', 'year': 'A field indicating the specific year in question.', 'imdb': '\"An online database of movies, television shows, and entertainment industry professionals.\"', 'countries': 'A list of string values representing different countries.', 'type': 'Classify the type of product or service being offered.', 'tomatoes': 'A vibrant sea of ripe red tomatoes ready for picking.', 'num_mflix_comments': 'Number of comments left on movies in the Mflix database.'}\n"
          ]
        }
      ],
      "source": [
        "# Print the final dictionary of descriptions\n",
        "print(\"Final Dictionary of Descriptions:\")\n",
        "print(field_descriptions_final)"
      ]
    },
    {
      "cell_type": "code",
      "execution_count": 57,
      "metadata": {
        "id": "lw-iL0b12Iks"
      },
      "outputs": [],
      "source": [
        "import json\n",
        "\n",
        "# Read data from movies.json file\n",
        "with open('movies.json', 'r') as f:\n",
        "    existing_json_data = json.load(f)\n",
        "\n",
        "# Update the JSON data with descriptions\n",
        "for field, description in field_descriptions_final.items():\n",
        "    existing_json_data[\"fields\"][field][\"description\"] = description"
      ]
    },
    {
      "cell_type": "code",
      "execution_count": 58,
      "metadata": {
        "colab": {
          "base_uri": "https://localhost:8080/"
        },
        "id": "kRVgoqZa2OQk",
        "outputId": "ff19a808-cf6d-4101-a5fb-4ad6a507559a"
      },
      "outputs": [
        {
          "data": {
            "text/plain": [
              "{'name': 'movies',\n",
              " 'description': 'Contains detailed information about movies.',\n",
              " 'fields': {'_id': {'type': 'ObjectId',\n",
              "   'description': 'A unique identifier for each document in a database.'},\n",
              "  'plot': {'type': 'str',\n",
              "   'description': 'A young woman navigates the cutthroat world of high fashion modeling while uncovering dark secrets about the'},\n",
              "  'genres': {'type': 'array',\n",
              "   'description': 'A collection of different types or styles of music, literature, or art.'},\n",
              "  'runtime': {'type': 'int',\n",
              "   'description': 'The duration in which a program or process is active and executing on a computer.'},\n",
              "  'cast': {'type': 'array',\n",
              "   'description': 'A list of names of the cast members starring in a production.'},\n",
              "  'poster': {'type': 'str',\n",
              "   'description': '\"Captivating images that tell a story at a glance.\"'},\n",
              "  'title': {'type': 'str',\n",
              "   'description': '\"Revolutionizing the way we connect and communicate.\"'},\n",
              "  'fullplot': {'type': 'str',\n",
              "   'description': '\"An in-depth narrative detailing the unfolding events and complexities of the story.\"'},\n",
              "  'languages': {'type': 'array',\n",
              "   'description': 'A collection of string values representing different programming languages.'},\n",
              "  'released': {'type': 'datetime',\n",
              "   'description': 'A diverse and innovative collection of new music that pushes boundaries and challenges conventional genres.'},\n",
              "  'directors': {'type': 'array',\n",
              "   'description': 'A collection of names and contact information for directors in various industries.'},\n",
              "  'rated': {'type': 'str',\n",
              "   'description': '\"Revealing the satisfaction level of a product or service through user feedback and reviews.\"'},\n",
              "  'awards': {'type': 'dict',\n",
              "   'description': 'Honoring excellence and achievement in various industries and areas of expertise.'},\n",
              "  'lastupdated': {'type': 'str',\n",
              "   'description': 'Timestamp indicating the most recent update or modification.'},\n",
              "  'year': {'type': 'int',\n",
              "   'description': 'A field indicating the specific year in question.'},\n",
              "  'imdb': {'type': 'dict',\n",
              "   'description': '\"An online database of movies, television shows, and entertainment industry professionals.\"'},\n",
              "  'countries': {'type': 'array',\n",
              "   'description': 'A list of string values representing different countries.'},\n",
              "  'type': {'type': 'str',\n",
              "   'description': 'Classify the type of product or service being offered.'},\n",
              "  'tomatoes': {'type': 'dict',\n",
              "   'description': 'A vibrant sea of ripe red tomatoes ready for picking.'},\n",
              "  'num_mflix_comments': {'type': 'int',\n",
              "   'description': 'Number of comments left on movies in the Mflix database.'}}}"
            ]
          },
          "execution_count": 58,
          "metadata": {},
          "output_type": "execute_result"
        }
      ],
      "source": [
        "existing_json_data"
      ]
    },
    {
      "cell_type": "code",
      "execution_count": 59,
      "metadata": {
        "colab": {
          "base_uri": "https://localhost:8080/"
        },
        "id": "djbG65Od2VIk",
        "outputId": "b5c9e62e-ede0-496b-9e29-e2b2ec094cf4"
      },
      "outputs": [
        {
          "name": "stdout",
          "output_type": "stream",
          "text": [
            "Descriptions updated and written to movies_new.json file.\n"
          ]
        }
      ],
      "source": [
        "# Write the updated JSON data back to the file\n",
        "with open('movies_new.json', 'w') as f:\n",
        "    json.dump(existing_json_data, f, indent=4)\n",
        "\n",
        "print(\"Descriptions updated and written to movies_new.json file.\")"
      ]
    },
    {
      "cell_type": "markdown",
      "metadata": {
        "id": "rzqT3d1CFwyI"
      },
      "source": [
        "# Trial & Error - Don't Run This"
      ]
    },
    {
      "cell_type": "code",
      "execution_count": 63,
      "metadata": {
        "colab": {
          "base_uri": "https://localhost:8080/",
          "height": 356
        },
        "id": "X8WVOCHk2jVz",
        "outputId": "7b1b3752-ea2b-4ae3-b010-463f1aa3e8e2"
      },
      "outputs": [
        {
          "ename": "AttributeError",
          "evalue": "'ChatCompletion' object has no attribute 'data'",
          "output_type": "error",
          "traceback": [
            "\u001b[0;31m---------------------------------------------------------------------------\u001b[0m",
            "\u001b[0;31mAttributeError\u001b[0m                            Traceback (most recent call last)",
            "\u001b[0;32m<ipython-input-63-24ac3d5ca16b>\u001b[0m in \u001b[0;36m<cell line: 35>\u001b[0;34m()\u001b[0m\n\u001b[1;32m     34\u001b[0m \u001b[0mfield_generated_descriptions\u001b[0m \u001b[0;34m=\u001b[0m \u001b[0;34m{\u001b[0m\u001b[0;34m}\u001b[0m\u001b[0;34m\u001b[0m\u001b[0;34m\u001b[0m\u001b[0m\n\u001b[1;32m     35\u001b[0m \u001b[0;32mfor\u001b[0m \u001b[0mkey\u001b[0m\u001b[0;34m,\u001b[0m \u001b[0mvalue\u001b[0m \u001b[0;32min\u001b[0m \u001b[0mfield_descriptions\u001b[0m\u001b[0;34m.\u001b[0m\u001b[0mitems\u001b[0m\u001b[0;34m(\u001b[0m\u001b[0;34m)\u001b[0m\u001b[0;34m:\u001b[0m\u001b[0;34m\u001b[0m\u001b[0;34m\u001b[0m\u001b[0m\n\u001b[0;32m---> 36\u001b[0;31m     \u001b[0mdescription\u001b[0m \u001b[0;34m=\u001b[0m \u001b[0mgenerate_description\u001b[0m\u001b[0;34m(\u001b[0m\u001b[0;34mf\"Generate a description for the {key} field: {value}\"\u001b[0m\u001b[0;34m)\u001b[0m\u001b[0;34m\u001b[0m\u001b[0;34m\u001b[0m\u001b[0m\n\u001b[0m\u001b[1;32m     37\u001b[0m     \u001b[0mfield_generated_descriptions\u001b[0m\u001b[0;34m[\u001b[0m\u001b[0mkey\u001b[0m\u001b[0;34m]\u001b[0m \u001b[0;34m=\u001b[0m \u001b[0mdescription\u001b[0m\u001b[0;34m.\u001b[0m\u001b[0msplit\u001b[0m\u001b[0;34m(\u001b[0m\u001b[0;34m':'\u001b[0m\u001b[0;34m,\u001b[0m \u001b[0;36m1\u001b[0m\u001b[0;34m)\u001b[0m\u001b[0;34m[\u001b[0m\u001b[0;34m-\u001b[0m\u001b[0;36m1\u001b[0m\u001b[0;34m]\u001b[0m\u001b[0;34m.\u001b[0m\u001b[0mstrip\u001b[0m\u001b[0;34m(\u001b[0m\u001b[0;34m)\u001b[0m \u001b[0;32mif\u001b[0m \u001b[0mdescription\u001b[0m \u001b[0;32melse\u001b[0m \u001b[0;34m\"\"\u001b[0m  \u001b[0;31m# Extract content part\u001b[0m\u001b[0;34m\u001b[0m\u001b[0;34m\u001b[0m\u001b[0m\n\u001b[1;32m     38\u001b[0m     \u001b[0mtime\u001b[0m\u001b[0;34m.\u001b[0m\u001b[0msleep\u001b[0m\u001b[0;34m(\u001b[0m\u001b[0;36m60\u001b[0m \u001b[0;34m/\u001b[0m \u001b[0;36m200\u001b[0m\u001b[0;34m)\u001b[0m  \u001b[0;31m# Delay to respect the RPD limit (200 requests per minute)\u001b[0m\u001b[0;34m\u001b[0m\u001b[0;34m\u001b[0m\u001b[0m\n",
            "\u001b[0;32m<ipython-input-63-24ac3d5ca16b>\u001b[0m in \u001b[0;36mgenerate_description\u001b[0;34m(prompt)\u001b[0m\n\u001b[1;32m     21\u001b[0m     )\n\u001b[1;32m     22\u001b[0m \u001b[0;34m\u001b[0m\u001b[0m\n\u001b[0;32m---> 23\u001b[0;31m     \u001b[0;32mreturn\u001b[0m \u001b[0mchat_completion\u001b[0m\u001b[0;34m.\u001b[0m\u001b[0mdata\u001b[0m\u001b[0;34m.\u001b[0m\u001b[0mtext\u001b[0m\u001b[0;34m\u001b[0m\u001b[0;34m\u001b[0m\u001b[0m\n\u001b[0m\u001b[1;32m     24\u001b[0m \u001b[0;34m\u001b[0m\u001b[0m\n\u001b[1;32m     25\u001b[0m \u001b[0;31m# Load JSON file\u001b[0m\u001b[0;34m\u001b[0m\u001b[0;34m\u001b[0m\u001b[0m\n",
            "\u001b[0;32m/usr/local/lib/python3.10/dist-packages/pydantic/main.py\u001b[0m in \u001b[0;36m__getattr__\u001b[0;34m(self, item)\u001b[0m\n\u001b[1;32m    809\u001b[0m                     \u001b[0;32melse\u001b[0m\u001b[0;34m:\u001b[0m\u001b[0;34m\u001b[0m\u001b[0;34m\u001b[0m\u001b[0m\n\u001b[1;32m    810\u001b[0m                         \u001b[0;31m# this is the current error\u001b[0m\u001b[0;34m\u001b[0m\u001b[0;34m\u001b[0m\u001b[0m\n\u001b[0;32m--> 811\u001b[0;31m                         \u001b[0;32mraise\u001b[0m \u001b[0mAttributeError\u001b[0m\u001b[0;34m(\u001b[0m\u001b[0;34mf'{type(self).__name__!r} object has no attribute {item!r}'\u001b[0m\u001b[0;34m)\u001b[0m\u001b[0;34m\u001b[0m\u001b[0;34m\u001b[0m\u001b[0m\n\u001b[0m\u001b[1;32m    812\u001b[0m \u001b[0;34m\u001b[0m\u001b[0m\n\u001b[1;32m    813\u001b[0m         \u001b[0;32mdef\u001b[0m \u001b[0m__setattr__\u001b[0m\u001b[0;34m(\u001b[0m\u001b[0mself\u001b[0m\u001b[0;34m,\u001b[0m \u001b[0mname\u001b[0m\u001b[0;34m:\u001b[0m \u001b[0mstr\u001b[0m\u001b[0;34m,\u001b[0m \u001b[0mvalue\u001b[0m\u001b[0;34m:\u001b[0m \u001b[0mAny\u001b[0m\u001b[0;34m)\u001b[0m \u001b[0;34m->\u001b[0m \u001b[0;32mNone\u001b[0m\u001b[0;34m:\u001b[0m\u001b[0;34m\u001b[0m\u001b[0;34m\u001b[0m\u001b[0m\n",
            "\u001b[0;31mAttributeError\u001b[0m: 'ChatCompletion' object has no attribute 'data'"
          ]
        }
      ],
      "source": [
        "import os\n",
        "import time\n",
        "import json\n",
        "from openai import OpenAI\n",
        "\n",
        "# Function to generate description using OpenAI Language Model\n",
        "def generate_description(prompt):\n",
        "    client = OpenAI(\n",
        "        api_key = \"<OpenAI_API-Key>\", # Replace with your OpenAI API Key\n",
        "    )\n",
        "\n",
        "    chat_completion = client.chat.completions.create(\n",
        "        model=\"gpt-3.5-turbo\",\n",
        "        messages=[\n",
        "            {\n",
        "                \"role\": \"user\",\n",
        "                \"content\": prompt,\n",
        "            }\n",
        "        ],\n",
        "        max_tokens=50\n",
        "    )\n",
        "\n",
        "    return chat_completion.data.text\n",
        "\n",
        "# Load JSON file\n",
        "with open('movies.json', 'r') as f:\n",
        "    data = json.load(f)\n",
        "\n",
        "# Extract field names and descriptions\n",
        "fields = data['fields']\n",
        "field_descriptions = {key: value.get('description', '') for key, value in fields.items()}\n",
        "\n",
        "# Generate description for each field with rate limiting\n",
        "field_generated_descriptions = {}\n",
        "for key, value in field_descriptions.items():\n",
        "    description = generate_description(f\"Generate a description for the {key} field: {value}\")\n",
        "    field_generated_descriptions[key] = description.split(':', 1)[-1].strip() if description else \"\"  # Extract content part\n",
        "    time.sleep(60 / 200)  # Delay to respect the RPD limit (200 requests per minute)\n",
        "\n",
        "# Print final descriptions\n",
        "print(\"Final Descriptions:\")\n",
        "print(field_generated_descriptions)"
      ]
    },
    {
      "cell_type": "code",
      "execution_count": 62,
      "metadata": {
        "colab": {
          "base_uri": "https://localhost:8080/",
          "height": 332
        },
        "id": "Qk14ZfcS2ubd",
        "outputId": "8a094423-6e28-41a2-e879-e1cee2eeafc6"
      },
      "outputs": [
        {
          "ename": "TypeError",
          "evalue": "'ChatCompletionMessage' object is not subscriptable",
          "output_type": "error",
          "traceback": [
            "\u001b[0;31m---------------------------------------------------------------------------\u001b[0m",
            "\u001b[0;31mTypeError\u001b[0m                                 Traceback (most recent call last)",
            "\u001b[0;32m<ipython-input-62-d669b906e675>\u001b[0m in \u001b[0;36m<cell line: 34>\u001b[0;34m()\u001b[0m\n\u001b[1;32m     33\u001b[0m \u001b[0mfield_generated_descriptions\u001b[0m \u001b[0;34m=\u001b[0m \u001b[0;34m{\u001b[0m\u001b[0;34m}\u001b[0m\u001b[0;34m\u001b[0m\u001b[0;34m\u001b[0m\u001b[0m\n\u001b[1;32m     34\u001b[0m \u001b[0;32mfor\u001b[0m \u001b[0mkey\u001b[0m\u001b[0;34m,\u001b[0m \u001b[0mvalue\u001b[0m \u001b[0;32min\u001b[0m \u001b[0mfield_descriptions\u001b[0m\u001b[0;34m.\u001b[0m\u001b[0mitems\u001b[0m\u001b[0;34m(\u001b[0m\u001b[0;34m)\u001b[0m\u001b[0;34m:\u001b[0m\u001b[0;34m\u001b[0m\u001b[0;34m\u001b[0m\u001b[0m\n\u001b[0;32m---> 35\u001b[0;31m     \u001b[0mdescription\u001b[0m \u001b[0;34m=\u001b[0m \u001b[0mgenerate_description\u001b[0m\u001b[0;34m(\u001b[0m\u001b[0;34mf\"Generate a description for the {key} field: {value}\"\u001b[0m\u001b[0;34m)\u001b[0m\u001b[0;34m\u001b[0m\u001b[0;34m\u001b[0m\u001b[0m\n\u001b[0m\u001b[1;32m     36\u001b[0m     \u001b[0mfield_generated_descriptions\u001b[0m\u001b[0;34m[\u001b[0m\u001b[0mkey\u001b[0m\u001b[0;34m]\u001b[0m \u001b[0;34m=\u001b[0m \u001b[0mdescription\u001b[0m\u001b[0;34m.\u001b[0m\u001b[0msplit\u001b[0m\u001b[0;34m(\u001b[0m\u001b[0;34m':'\u001b[0m\u001b[0;34m,\u001b[0m \u001b[0;36m1\u001b[0m\u001b[0;34m)\u001b[0m\u001b[0;34m[\u001b[0m\u001b[0;34m-\u001b[0m\u001b[0;36m1\u001b[0m\u001b[0;34m]\u001b[0m\u001b[0;34m.\u001b[0m\u001b[0mstrip\u001b[0m\u001b[0;34m(\u001b[0m\u001b[0;34m)\u001b[0m  \u001b[0;31m# Extract content part\u001b[0m\u001b[0;34m\u001b[0m\u001b[0;34m\u001b[0m\u001b[0m\n\u001b[1;32m     37\u001b[0m     \u001b[0mtime\u001b[0m\u001b[0;34m.\u001b[0m\u001b[0msleep\u001b[0m\u001b[0;34m(\u001b[0m\u001b[0;36m60\u001b[0m \u001b[0;34m/\u001b[0m \u001b[0;36m200\u001b[0m\u001b[0;34m)\u001b[0m  \u001b[0;31m# Delay to respect the RPD limit (200 requests per minute)\u001b[0m\u001b[0;34m\u001b[0m\u001b[0;34m\u001b[0m\u001b[0m\n",
            "\u001b[0;32m<ipython-input-62-d669b906e675>\u001b[0m in \u001b[0;36mgenerate_description\u001b[0;34m(prompt)\u001b[0m\n\u001b[1;32m     20\u001b[0m     )\n\u001b[1;32m     21\u001b[0m \u001b[0;34m\u001b[0m\u001b[0m\n\u001b[0;32m---> 22\u001b[0;31m     \u001b[0;32mreturn\u001b[0m \u001b[0mchat_completion\u001b[0m\u001b[0;34m.\u001b[0m\u001b[0mchoices\u001b[0m\u001b[0;34m[\u001b[0m\u001b[0;36m0\u001b[0m\u001b[0;34m]\u001b[0m\u001b[0;34m.\u001b[0m\u001b[0mmessage\u001b[0m\u001b[0;34m[\u001b[0m\u001b[0;34m'content'\u001b[0m\u001b[0;34m]\u001b[0m\u001b[0;34m\u001b[0m\u001b[0;34m\u001b[0m\u001b[0m\n\u001b[0m\u001b[1;32m     23\u001b[0m \u001b[0;34m\u001b[0m\u001b[0m\n\u001b[1;32m     24\u001b[0m \u001b[0;31m# Load JSON file\u001b[0m\u001b[0;34m\u001b[0m\u001b[0;34m\u001b[0m\u001b[0m\n",
            "\u001b[0;31mTypeError\u001b[0m: 'ChatCompletionMessage' object is not subscriptable"
          ]
        }
      ],
      "source": [
        "import os\n",
        "import time\n",
        "from openai import OpenAI\n",
        "\n",
        "# Function to generate description using OpenAI Language Model\n",
        "def generate_description(prompt):\n",
        "    client = OpenAI(\n",
        "        api_key = \"<OpenAI_API-Key>\", # Replace with your OpenAI API Key\n",
        "    )\n",
        "\n",
        "    chat_completion = client.chat.completions.create(\n",
        "        model=\"gpt-3.5-turbo\",\n",
        "        messages=[\n",
        "            {\n",
        "                \"role\": \"user\",\n",
        "                \"content\": prompt,\n",
        "            }\n",
        "        ],\n",
        "        max_tokens=50\n",
        "    )\n",
        "\n",
        "    return chat_completion.choices[0].message['content']\n",
        "\n",
        "# Load JSON file\n",
        "with open('movies.json', 'r') as f:\n",
        "    data = json.load(f)\n",
        "\n",
        "# Extract field names and descriptions\n",
        "fields = data['fields']\n",
        "field_descriptions = {key: value.get('description', '') for key, value in fields.items()}\n",
        "\n",
        "# Generate description for each field with rate limiting\n",
        "field_generated_descriptions = {}\n",
        "for key, value in field_descriptions.items():\n",
        "    description = generate_description(f\"Generate a description for the {key} field: {value}\")\n",
        "    field_generated_descriptions[key] = description.split(':', 1)[-1].strip()  # Extract content part\n",
        "    time.sleep(60 / 200)  # Delay to respect the RPD limit (200 requests per minute)\n",
        "\n",
        "# Create a final description combining all field descriptions\n",
        "final_description = \" \".join(field_generated_descriptions.values())\n",
        "\n",
        "# Print final description\n",
        "print(\"Final Description:\", final_description)\n"
      ]
    },
    {
      "cell_type": "code",
      "execution_count": 23,
      "metadata": {
        "colab": {
          "base_uri": "https://localhost:8080/"
        },
        "id": "64AJ3GWKvgsC",
        "outputId": "f113f9eb-f43d-469d-d9f3-06aaeda8fc75"
      },
      "outputs": [
        {
          "name": "stdout",
          "output_type": "stream",
          "text": [
            "Extracted Content: Unique identifier for each document in a database collection.\n"
          ]
        }
      ],
      "source": [
        "import re\n",
        "\n",
        "# Provided output\n",
        "output_text = \"ChatCompletion(id='chatcmpl-9LZaHgLkyeosjEamDYNusxNKMY704', choices=[Choice(finish_reason='stop', index=0, logprobs=None, message=ChatCompletionMessage(content='Unique identifier for each document in a database collection.', role='assistant', function_call=None, tool_calls=None))], created=1714928701, model='gpt-3.5-turbo-0125', object='chat.completion', system_fingerprint='fp_3b956da36b', usage=CompletionUsage(completion_tokens=10, prompt_tokens=19, total_tokens=29))\"\n",
        "\n",
        "# Use regular expressions to extract the content\n",
        "content_match = re.search(r\"content='(.*?)'\", output_text)\n",
        "\n",
        "if content_match:\n",
        "    content = content_match.group(1)\n",
        "    print(\"Extracted Content:\", content)\n",
        "else:\n",
        "    print(\"No content found.\")\n"
      ]
    },
    {
      "cell_type": "code",
      "execution_count": null,
      "metadata": {
        "id": "EFLB6lzKnggG"
      },
      "outputs": [],
      "source": [
        "# Create a final description combining all field descriptions\n",
        "final_description = \" \".join(field_generated_descriptions.values())\n",
        "\n",
        "# Print final description\n",
        "print(\"Final Description:\", final_description)"
      ]
    }
  ],
  "metadata": {
    "colab": {
      "provenance": []
    },
    "kernelspec": {
      "display_name": "Python 3",
      "name": "python3"
    },
    "language_info": {
      "name": "python"
    }
  },
  "nbformat": 4,
  "nbformat_minor": 0
}
