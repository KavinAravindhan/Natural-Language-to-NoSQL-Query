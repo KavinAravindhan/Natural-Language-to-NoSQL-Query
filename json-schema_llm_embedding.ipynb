{
  "cells": [
    {
      "cell_type": "markdown",
      "metadata": {
        "id": "8l_IRHAF0khd"
      },
      "source": [
        "# Collection To JSON Schema"
      ]
    },
    {
      "cell_type": "code",
      "execution_count": 1,
      "metadata": {
        "colab": {
          "base_uri": "https://localhost:8080/"
        },
        "id": "AWRIZ9qxGO67",
        "outputId": "6dc770fc-e9d2-41d6-c298-6a583fbe0eef"
      },
      "outputs": [
        {
          "name": "stdout",
          "output_type": "stream",
          "text": [
            "Collecting pymongo[srv]\n",
            "  Downloading pymongo-4.7.2-cp310-cp310-manylinux_2_17_x86_64.manylinux2014_x86_64.whl (670 kB)\n",
            "\u001b[2K     \u001b[90m━━━━━━━━━━━━━━━━━━━━━━━━━━━━━━━━━━━━━━━━\u001b[0m \u001b[32m670.0/670.0 kB\u001b[0m \u001b[31m7.0 MB/s\u001b[0m eta \u001b[36m0:00:00\u001b[0m\n",
            "\u001b[?25hCollecting dnspython<3.0.0,>=1.16.0 (from pymongo[srv])\n",
            "  Downloading dnspython-2.6.1-py3-none-any.whl (307 kB)\n",
            "\u001b[2K     \u001b[90m━━━━━━━━━━━━━━━━━━━━━━━━━━━━━━━━━━━━━━━━\u001b[0m \u001b[32m307.7/307.7 kB\u001b[0m \u001b[31m12.3 MB/s\u001b[0m eta \u001b[36m0:00:00\u001b[0m\n",
            "\u001b[?25hInstalling collected packages: dnspython, pymongo\n",
            "Successfully installed dnspython-2.6.1 pymongo-4.7.2\n"
          ]
        }
      ],
      "source": [
        "!pip install pymongo[srv]"
      ]
    },
    {
      "cell_type": "code",
      "execution_count": 2,
      "metadata": {
        "id": "Zv8eumyqJzCM"
      },
      "outputs": [],
      "source": [
        "import pymongo\n",
        "from pymongo import MongoClient\n",
        "import json"
      ]
    },
    {
      "cell_type": "code",
      "execution_count": 3,
      "metadata": {
        "id": "rrbxLE-_J0c2"
      },
      "outputs": [],
      "source": [
        "# Connect to your MongoDB Atlas cluster\n",
        "# Replace the connection string with your own\n",
        "# mongodb+srv://kavin:<password>@cluster0.r8pymzo.mongodb.net/?retryWrites=true&w=majority&appName=Cluster0\n",
        "# mongodb+srv://kavin:<password>@cluster0.r8pymzo.mongodb.net/\n",
        "client = MongoClient(\"mongodb+srv://<username>:<password>@cluster0.r8pymzo.mongodb.net/\")"
      ]
    },
    {
      "cell_type": "code",
      "execution_count": 4,
      "metadata": {
        "id": "AX3hj6YiLJBi"
      },
      "outputs": [],
      "source": [
        "# Access the sample_mflix database\n",
        "db = client.sample_mflix"
      ]
    },
    {
      "cell_type": "code",
      "execution_count": 5,
      "metadata": {
        "id": "zEs1HB1KLL_1"
      },
      "outputs": [],
      "source": [
        "# Function to extract schema for a given collection\n",
        "def get_collection_schema(collection_name):\n",
        "    collection = db[collection_name]\n",
        "    sample_document = collection.find_one()\n",
        "    schema = {}\n",
        "    for field, value in sample_document.items():\n",
        "        field_type = type(value).__name__\n",
        "        if isinstance(value, list):\n",
        "            if value:\n",
        "                if isinstance(value[0], dict):\n",
        "                    inner_fields = {}\n",
        "                    for inner_doc in value:\n",
        "                        inner_fields.update(get_collection_schema(collection_name))\n",
        "                    schema[field] = {\"type\": \"array\", \"description\": f\"List of objects with fields: {inner_fields}\"}\n",
        "                else:\n",
        "                    inner_type = type(value[0]).__name__\n",
        "                    schema[field] = {\"type\": \"array\", \"description\": f\"List of {inner_type}s\"}\n",
        "            else:\n",
        "                schema[field] = {\"type\": \"array\"}\n",
        "        else:\n",
        "            schema[field] = {\"type\": field_type}\n",
        "    return schema"
      ]
    },
    {
      "cell_type": "code",
      "execution_count": 6,
      "metadata": {
        "id": "bJ8ysWo2LQ9K"
      },
      "outputs": [],
      "source": [
        "# Function to generate the JSON schema for all collections\n",
        "def generate_schema():\n",
        "    collections_schema = {}\n",
        "    for collection_name in db.list_collection_names():\n",
        "        collections_schema[collection_name] = {\"name\": collection_name, \"description\": f\"Contains detailed information about {collection_name}.\"}\n",
        "        collections_schema[collection_name][\"fields\"] = get_collection_schema(collection_name)\n",
        "    return collections_schema"
      ]
    },
    {
      "cell_type": "code",
      "execution_count": 7,
      "metadata": {
        "id": "i9U65kAzLVjH"
      },
      "outputs": [],
      "source": [
        "# Generate the schema\n",
        "schema = generate_schema()"
      ]
    },
    {
      "cell_type": "code",
      "execution_count": 8,
      "metadata": {
        "colab": {
          "base_uri": "https://localhost:8080/"
        },
        "id": "SAShGRwkLYtv",
        "outputId": "79362c0d-2e82-4c16-80c1-f34b8d07b5be"
      },
      "outputs": [
        {
          "data": {
            "text/plain": [
              "{'sessions': {'name': 'sessions',\n",
              "  'description': 'Contains detailed information about sessions.',\n",
              "  'fields': {'_id': {'type': 'ObjectId'},\n",
              "   'user_id': {'type': 'str'},\n",
              "   'jwt': {'type': 'str'}}},\n",
              " 'movies': {'name': 'movies',\n",
              "  'description': 'Contains detailed information about movies.',\n",
              "  'fields': {'_id': {'type': 'ObjectId'},\n",
              "   'plot': {'type': 'str'},\n",
              "   'genres': {'type': 'array', 'description': 'List of strs'},\n",
              "   'runtime': {'type': 'int'},\n",
              "   'cast': {'type': 'array', 'description': 'List of strs'},\n",
              "   'poster': {'type': 'str'},\n",
              "   'title': {'type': 'str'},\n",
              "   'fullplot': {'type': 'str'},\n",
              "   'languages': {'type': 'array', 'description': 'List of strs'},\n",
              "   'released': {'type': 'datetime'},\n",
              "   'directors': {'type': 'array', 'description': 'List of strs'},\n",
              "   'rated': {'type': 'str'},\n",
              "   'awards': {'type': 'dict'},\n",
              "   'lastupdated': {'type': 'str'},\n",
              "   'year': {'type': 'int'},\n",
              "   'imdb': {'type': 'dict'},\n",
              "   'countries': {'type': 'array', 'description': 'List of strs'},\n",
              "   'type': {'type': 'str'},\n",
              "   'tomatoes': {'type': 'dict'},\n",
              "   'num_mflix_comments': {'type': 'int'}}},\n",
              " 'embedded_movies': {'name': 'embedded_movies',\n",
              "  'description': 'Contains detailed information about embedded_movies.',\n",
              "  'fields': {'_id': {'type': 'ObjectId'},\n",
              "   'plot': {'type': 'str'},\n",
              "   'genres': {'type': 'array', 'description': 'List of strs'},\n",
              "   'runtime': {'type': 'int'},\n",
              "   'cast': {'type': 'array', 'description': 'List of strs'},\n",
              "   'num_mflix_comments': {'type': 'int'},\n",
              "   'poster': {'type': 'str'},\n",
              "   'title': {'type': 'str'},\n",
              "   'fullplot': {'type': 'str'},\n",
              "   'languages': {'type': 'array', 'description': 'List of strs'},\n",
              "   'released': {'type': 'datetime'},\n",
              "   'directors': {'type': 'array', 'description': 'List of strs'},\n",
              "   'writers': {'type': 'array', 'description': 'List of strs'},\n",
              "   'awards': {'type': 'dict'},\n",
              "   'lastupdated': {'type': 'str'},\n",
              "   'year': {'type': 'int'},\n",
              "   'imdb': {'type': 'dict'},\n",
              "   'countries': {'type': 'array', 'description': 'List of strs'},\n",
              "   'type': {'type': 'str'},\n",
              "   'tomatoes': {'type': 'dict'},\n",
              "   'plot_embedding': {'type': 'array', 'description': 'List of floats'}}},\n",
              " 'theaters': {'name': 'theaters',\n",
              "  'description': 'Contains detailed information about theaters.',\n",
              "  'fields': {'_id': {'type': 'ObjectId'},\n",
              "   'theaterId': {'type': 'int'},\n",
              "   'location': {'type': 'dict'}}},\n",
              " 'users': {'name': 'users',\n",
              "  'description': 'Contains detailed information about users.',\n",
              "  'fields': {'_id': {'type': 'ObjectId'},\n",
              "   'name': {'type': 'str'},\n",
              "   'email': {'type': 'str'},\n",
              "   'password': {'type': 'str'}}},\n",
              " 'comments': {'name': 'comments',\n",
              "  'description': 'Contains detailed information about comments.',\n",
              "  'fields': {'_id': {'type': 'ObjectId'},\n",
              "   'name': {'type': 'str'},\n",
              "   'email': {'type': 'str'},\n",
              "   'movie_id': {'type': 'ObjectId'},\n",
              "   'text': {'type': 'str'},\n",
              "   'date': {'type': 'datetime'}}}}"
            ]
          },
          "execution_count": 8,
          "metadata": {},
          "output_type": "execute_result"
        }
      ],
      "source": [
        "schema"
      ]
    },
    {
      "cell_type": "code",
      "execution_count": null,
      "metadata": {
        "id": "nFRJIcoEL0cz"
      },
      "outputs": [],
      "source": [
        "# # Write the schema to a JSON file - Everything in a single file\n",
        "# # Don't Run This\n",
        "# with open(\"movie.json\", \"w\") as f:\n",
        "#     json.dump({\"collections\": schema}, f, indent=4)\n",
        "\n",
        "# print(\"Schema generation complete. Schema saved as 'movie.json'.\")"
      ]
    },
    {
      "cell_type": "code",
      "execution_count": 9,
      "metadata": {
        "id": "VF7KGY5NOSKY"
      },
      "outputs": [],
      "source": [
        "# Function to generate the schema for a single collection and write it to a JSON file\n",
        "def generate_collection_schema(collection_name):\n",
        "    schema = {\"name\": collection_name, \"description\": f\"Contains detailed information about {collection_name}.\"}\n",
        "    schema[\"fields\"] = get_collection_schema(collection_name)\n",
        "    with open(f\"{collection_name}.json\", \"w\") as f:\n",
        "        json.dump(schema, f, indent=4)"
      ]
    },
    {
      "cell_type": "code",
      "execution_count": 10,
      "metadata": {
        "id": "yTjiC9XWOUuX"
      },
      "outputs": [],
      "source": [
        "# Generate schema for each collection and write to separate files\n",
        "for collection_name in db.list_collection_names():\n",
        "    generate_collection_schema(collection_name)"
      ]
    },
    {
      "cell_type": "markdown",
      "metadata": {
        "id": "c8sQWfIy0hLf"
      },
      "source": [
        "# LLM - OpenAI"
      ]
    },
    {
      "cell_type": "code",
      "execution_count": null,
      "metadata": {
        "colab": {
          "base_uri": "https://localhost:8080/"
        },
        "id": "hC5Hj-eEAKMT",
        "outputId": "01ea24df-ce92-4d32-f8b0-8a37a2f471ab"
      },
      "outputs": [
        {
          "name": "stdout",
          "output_type": "stream",
          "text": [
            "Collecting openai\n",
            "  Downloading openai-1.25.2-py3-none-any.whl (312 kB)\n",
            "\u001b[2K     \u001b[90m━━━━━━━━━━━━━━━━━━━━━━━━━━━━━━━━━━━━━━━━\u001b[0m \u001b[32m312.9/312.9 kB\u001b[0m \u001b[31m5.4 MB/s\u001b[0m eta \u001b[36m0:00:00\u001b[0m\n",
            "\u001b[?25hRequirement already satisfied: anyio<5,>=3.5.0 in /usr/local/lib/python3.10/dist-packages (from openai) (3.7.1)\n",
            "Requirement already satisfied: distro<2,>=1.7.0 in /usr/lib/python3/dist-packages (from openai) (1.7.0)\n",
            "Collecting httpx<1,>=0.23.0 (from openai)\n",
            "  Downloading httpx-0.27.0-py3-none-any.whl (75 kB)\n",
            "\u001b[2K     \u001b[90m━━━━━━━━━━━━━━━━━━━━━━━━━━━━━━━━━━━━━━━━\u001b[0m \u001b[32m75.6/75.6 kB\u001b[0m \u001b[31m10.0 MB/s\u001b[0m eta \u001b[36m0:00:00\u001b[0m\n",
            "\u001b[?25hRequirement already satisfied: pydantic<3,>=1.9.0 in /usr/local/lib/python3.10/dist-packages (from openai) (2.7.1)\n",
            "Requirement already satisfied: sniffio in /usr/local/lib/python3.10/dist-packages (from openai) (1.3.1)\n",
            "Requirement already satisfied: tqdm>4 in /usr/local/lib/python3.10/dist-packages (from openai) (4.66.2)\n",
            "Requirement already satisfied: typing-extensions<5,>=4.7 in /usr/local/lib/python3.10/dist-packages (from openai) (4.11.0)\n",
            "Requirement already satisfied: idna>=2.8 in /usr/local/lib/python3.10/dist-packages (from anyio<5,>=3.5.0->openai) (3.7)\n",
            "Requirement already satisfied: exceptiongroup in /usr/local/lib/python3.10/dist-packages (from anyio<5,>=3.5.0->openai) (1.2.1)\n",
            "Requirement already satisfied: certifi in /usr/local/lib/python3.10/dist-packages (from httpx<1,>=0.23.0->openai) (2024.2.2)\n",
            "Collecting httpcore==1.* (from httpx<1,>=0.23.0->openai)\n",
            "  Downloading httpcore-1.0.5-py3-none-any.whl (77 kB)\n",
            "\u001b[2K     \u001b[90m━━━━━━━━━━━━━━━━━━━━━━━━━━━━━━━━━━━━━━━━\u001b[0m \u001b[32m77.9/77.9 kB\u001b[0m \u001b[31m10.0 MB/s\u001b[0m eta \u001b[36m0:00:00\u001b[0m\n",
            "\u001b[?25hCollecting h11<0.15,>=0.13 (from httpcore==1.*->httpx<1,>=0.23.0->openai)\n",
            "  Downloading h11-0.14.0-py3-none-any.whl (58 kB)\n",
            "\u001b[2K     \u001b[90m━━━━━━━━━━━━━━━━━━━━━━━━━━━━━━━━━━━━━━━━\u001b[0m \u001b[32m58.3/58.3 kB\u001b[0m \u001b[31m7.2 MB/s\u001b[0m eta \u001b[36m0:00:00\u001b[0m\n",
            "\u001b[?25hRequirement already satisfied: annotated-types>=0.4.0 in /usr/local/lib/python3.10/dist-packages (from pydantic<3,>=1.9.0->openai) (0.6.0)\n",
            "Requirement already satisfied: pydantic-core==2.18.2 in /usr/local/lib/python3.10/dist-packages (from pydantic<3,>=1.9.0->openai) (2.18.2)\n",
            "Installing collected packages: h11, httpcore, httpx, openai\n",
            "Successfully installed h11-0.14.0 httpcore-1.0.5 httpx-0.27.0 openai-1.25.2\n"
          ]
        }
      ],
      "source": [
        "!pip install openai"
      ]
    },
    {
      "cell_type": "code",
      "execution_count": null,
      "metadata": {
        "colab": {
          "base_uri": "https://localhost:8080/"
        },
        "id": "LwwljVE4028U",
        "outputId": "756313d2-1efd-410c-c328-f3ccf8ff952c"
      },
      "outputs": [
        {
          "name": "stdout",
          "output_type": "stream",
          "text": [
            "Final Descriptions:\n",
            "{'_id': ChatCompletion(id='chatcmpl-9LtMSZcOwt7ZsivxOjkp1kaifc30I', choices=[Choice(finish_reason='stop', index=0, logprobs=None, message=ChatCompletionMessage(content='A unique identifier for each document in a MongoDB collection.', role='assistant', function_call=None, tool_calls=None))], created=1715004724, model='gpt-3.5-turbo-0125', object='chat.completion', system_fingerprint='fp_3b956da36b', usage=CompletionUsage(completion_tokens=11, prompt_tokens=19, total_tokens=30)), 'plot': ChatCompletion(id='chatcmpl-9LtMTEQD9Hl3ofXETL6GxBnt2baPk', choices=[Choice(finish_reason='length', index=0, logprobs=None, message=ChatCompletionMessage(content='A young woman discovers she has the ability to communicate with ghosts and must navigate the challenges that come with', role='assistant', function_call=None, tool_calls=None))], created=1715004725, model='gpt-3.5-turbo-0125', object='chat.completion', system_fingerprint='fp_3b956da36b', usage=CompletionUsage(completion_tokens=20, prompt_tokens=18, total_tokens=38)), 'genres': ChatCompletion(id='chatcmpl-9LtMUZ7yeKQ73z2lcMbiOUqqlutLC', choices=[Choice(finish_reason='length', index=0, logprobs=None, message=ChatCompletionMessage(content='A list of strings representing different genres of music, movies, literature, or other forms of creative expression', role='assistant', function_call=None, tool_calls=None))], created=1715004726, model='gpt-3.5-turbo-0125', object='chat.completion', system_fingerprint='fp_3b956da36b', usage=CompletionUsage(completion_tokens=20, prompt_tokens=20, total_tokens=40)), 'runtime': ChatCompletion(id='chatcmpl-9LtMVhTz64sqrCaEOpzcBcsA6pdwX', choices=[Choice(finish_reason='stop', index=0, logprobs=None, message=ChatCompletionMessage(content='The runtime field specifies the total duration of a film, television show, or video game.', role='assistant', function_call=None, tool_calls=None))], created=1715004727, model='gpt-3.5-turbo-0125', object='chat.completion', system_fingerprint='fp_3b956da36b', usage=CompletionUsage(completion_tokens=18, prompt_tokens=18, total_tokens=36)), 'cast': ChatCompletion(id='chatcmpl-9LtMWYav5BsWRoqC4pn5Msmr5Xomr', choices=[Choice(finish_reason='stop', index=0, logprobs=None, message=ChatCompletionMessage(content='A list of strings representing the cast members of a film or production.', role='assistant', function_call=None, tool_calls=None))], created=1715004728, model='gpt-3.5-turbo-0125', object='chat.completion', system_fingerprint='fp_a450710239', usage=CompletionUsage(completion_tokens=14, prompt_tokens=20, total_tokens=34)), 'poster': ChatCompletion(id='chatcmpl-9LtMXo9L1QIVXQXNNCe2RXXF53bA9', choices=[Choice(finish_reason='stop', index=0, logprobs=None, message=ChatCompletionMessage(content='\"Captivating visuals that will draw you in\"', role='assistant', function_call=None, tool_calls=None))], created=1715004729, model='gpt-3.5-turbo-0125', object='chat.completion', system_fingerprint='fp_a450710239', usage=CompletionUsage(completion_tokens=10, prompt_tokens=18, total_tokens=28)), 'title': ChatCompletion(id='chatcmpl-9LtMYvCQfNTkC87dcDHeFx7VjNWn1', choices=[Choice(finish_reason='stop', index=0, logprobs=None, message=ChatCompletionMessage(content='\"Creative solutions for modern living.\"', role='assistant', function_call=None, tool_calls=None))], created=1715004730, model='gpt-3.5-turbo-0125', object='chat.completion', system_fingerprint='fp_3b956da36b', usage=CompletionUsage(completion_tokens=7, prompt_tokens=18, total_tokens=25)), 'fullplot': ChatCompletion(id='chatcmpl-9LtMZIM6pYdyaijxSendu4wYwCkZp', choices=[Choice(finish_reason='stop', index=0, logprobs=None, message=ChatCompletionMessage(content='A detailed summary of the entire storyline and narrative of a movie or TV show.', role='assistant', function_call=None, tool_calls=None))], created=1715004731, model='gpt-3.5-turbo-0125', object='chat.completion', system_fingerprint='fp_3b956da36b', usage=CompletionUsage(completion_tokens=16, prompt_tokens=19, total_tokens=35)), 'languages': ChatCompletion(id='chatcmpl-9LtMaqcqLaD3irfQ32AtOy34GDqLc', choices=[Choice(finish_reason='stop', index=0, logprobs=None, message=ChatCompletionMessage(content='A collection of string values representing different programming languages.', role='assistant', function_call=None, tool_calls=None))], created=1715004732, model='gpt-3.5-turbo-0125', object='chat.completion', system_fingerprint='fp_3b956da36b', usage=CompletionUsage(completion_tokens=10, prompt_tokens=20, total_tokens=30)), 'released': ChatCompletion(id='chatcmpl-9LtMb72VuJ0PP50CXQALpq0dcWqvQ', choices=[Choice(finish_reason='length', index=0, logprobs=None, message=ChatCompletionMessage(content='\"The released field indicates the date that the product or software was officially made available to the public for use', role='assistant', function_call=None, tool_calls=None))], created=1715004733, model='gpt-3.5-turbo-0125', object='chat.completion', system_fingerprint='fp_3b956da36b', usage=CompletionUsage(completion_tokens=20, prompt_tokens=18, total_tokens=38)), 'directors': ChatCompletion(id='chatcmpl-9LtMc0lH1GW4jHpAKUzKDnd36kO0d', choices=[Choice(finish_reason='stop', index=0, logprobs=None, message=ChatCompletionMessage(content='A collection of strings representing a list of directors.', role='assistant', function_call=None, tool_calls=None))], created=1715004734, model='gpt-3.5-turbo-0125', object='chat.completion', system_fingerprint='fp_3b956da36b', usage=CompletionUsage(completion_tokens=10, prompt_tokens=20, total_tokens=30)), 'rated': ChatCompletion(id='chatcmpl-9LtMc3eg3rQ1DJbwcbrpG7IWZ560h', choices=[Choice(finish_reason='length', index=0, logprobs=None, message=ChatCompletionMessage(content='The rated field is a system where items or individuals are evaluated and assigned a score or ranking based on', role='assistant', function_call=None, tool_calls=None))], created=1715004734, model='gpt-3.5-turbo-0125', object='chat.completion', system_fingerprint='fp_3b956da36b', usage=CompletionUsage(completion_tokens=20, prompt_tokens=18, total_tokens=38)), 'awards': ChatCompletion(id='chatcmpl-9LtMdB5mutNuIaK9aTsFPpgDFnUiE', choices=[Choice(finish_reason='stop', index=0, logprobs=None, message=ChatCompletionMessage(content='Celebrating excellence and achievements in various industries and communities.', role='assistant', function_call=None, tool_calls=None))], created=1715004735, model='gpt-3.5-turbo-0125', object='chat.completion', system_fingerprint='fp_3b956da36b', usage=CompletionUsage(completion_tokens=11, prompt_tokens=18, total_tokens=29)), 'lastupdated': ChatCompletion(id='chatcmpl-9LtMez5ULaWnNLgFVJRUQExxeSmlq', choices=[Choice(finish_reason='stop', index=0, logprobs=None, message=ChatCompletionMessage(content='A timestamp indicating when the last update was made.', role='assistant', function_call=None, tool_calls=None))], created=1715004736, model='gpt-3.5-turbo-0125', object='chat.completion', system_fingerprint='fp_a450710239', usage=CompletionUsage(completion_tokens=10, prompt_tokens=19, total_tokens=29)), 'year': ChatCompletion(id='chatcmpl-9LtMfBFJUUautMF0pMu3sAB649KKI', choices=[Choice(finish_reason='stop', index=0, logprobs=None, message=ChatCompletionMessage(content='A numeric field representing a specific year.', role='assistant', function_call=None, tool_calls=None))], created=1715004737, model='gpt-3.5-turbo-0125', object='chat.completion', system_fingerprint='fp_3b956da36b', usage=CompletionUsage(completion_tokens=8, prompt_tokens=18, total_tokens=26)), 'imdb': ChatCompletion(id='chatcmpl-9LtMgMJLGetcXETi7Ed1mwQI1uH4x', choices=[Choice(finish_reason='length', index=0, logprobs=None, message=ChatCompletionMessage(content='A database of film and television information, including cast and crew details, ratings, and user reviews.', role='assistant', function_call=None, tool_calls=None))], created=1715004738, model='gpt-3.5-turbo-0125', object='chat.completion', system_fingerprint='fp_3b956da36b', usage=CompletionUsage(completion_tokens=20, prompt_tokens=18, total_tokens=38)), 'countries': ChatCompletion(id='chatcmpl-9LtMhTXleyxpgxbxNZb2hGPUpsK0k', choices=[Choice(finish_reason='stop', index=0, logprobs=None, message=ChatCompletionMessage(content='A collection of countries represented as strings.', role='assistant', function_call=None, tool_calls=None))], created=1715004739, model='gpt-3.5-turbo-0125', object='chat.completion', system_fingerprint='fp_3b956da36b', usage=CompletionUsage(completion_tokens=8, prompt_tokens=20, total_tokens=28)), 'type': ChatCompletion(id='chatcmpl-9LtMinaZpGdGtEuVJFMg4rJofvJZk', choices=[Choice(finish_reason='stop', index=0, logprobs=None, message=ChatCompletionMessage(content='A brief description of the category or classification of the item or entity.', role='assistant', function_call=None, tool_calls=None))], created=1715004740, model='gpt-3.5-turbo-0125', object='chat.completion', system_fingerprint='fp_3b956da36b', usage=CompletionUsage(completion_tokens=14, prompt_tokens=18, total_tokens=32)), 'tomatoes': ChatCompletion(id='chatcmpl-9LtMjsHU2XMmvboDcylnGDX6X9eWz', choices=[Choice(finish_reason='stop', index=0, logprobs=None, message=ChatCompletionMessage(content='A vibrant expanse of tomato plants reaching towards the sun.', role='assistant', function_call=None, tool_calls=None))], created=1715004741, model='gpt-3.5-turbo-0125', object='chat.completion', system_fingerprint='fp_3b956da36b', usage=CompletionUsage(completion_tokens=12, prompt_tokens=18, total_tokens=30)), 'num_mflix_comments': ChatCompletion(id='chatcmpl-9LtMksZKlPr37lWtsHcdYExdJ68IQ', choices=[Choice(finish_reason='stop', index=0, logprobs=None, message=ChatCompletionMessage(content='Number of comments made on the movies in the mflix database.', role='assistant', function_call=None, tool_calls=None))], created=1715004742, model='gpt-3.5-turbo-0125', object='chat.completion', system_fingerprint='fp_3b956da36b', usage=CompletionUsage(completion_tokens=13, prompt_tokens=21, total_tokens=34))}\n"
          ]
        }
      ],
      "source": [
        "import os\n",
        "import time\n",
        "import json\n",
        "from openai import OpenAI\n",
        "\n",
        "# Function to generate description using OpenAI Language Model\n",
        "def generate_description(prompt):\n",
        "    client = OpenAI(\n",
        "        api_key = <OpenAI_API_KEY>,\n",
        "    )\n",
        "\n",
        "    chat_completion = client.chat.completions.create(\n",
        "        model=\"gpt-3.5-turbo\",\n",
        "        messages=[\n",
        "            {\n",
        "                \"role\": \"user\",\n",
        "                \"content\": prompt,\n",
        "            }\n",
        "        ],\n",
        "        max_tokens = 20\n",
        "    )\n",
        "\n",
        "    return chat_completion\n",
        "\n",
        "# Load JSON file\n",
        "with open('movies.json', 'r') as f:\n",
        "    data = json.load(f)\n",
        "\n",
        "# Extract field names and descriptions\n",
        "fields = data['fields']\n",
        "field_descriptions = {key: value.get('description', '') for key, value in fields.items()}\n",
        "\n",
        "# Generate description for each field with rate limiting\n",
        "field_generated_descriptions = {}\n",
        "for key, value in field_descriptions.items():\n",
        "    description = generate_description(f\"Generate a single line description for the {key} field: {value}\")\n",
        "    field_generated_descriptions[key] = description\n",
        "\n",
        "# Print final descriptions\n",
        "print(\"Final Descriptions:\")\n",
        "print(field_generated_descriptions)"
      ]
    },
    {
      "cell_type": "code",
      "execution_count": null,
      "metadata": {
        "colab": {
          "base_uri": "https://localhost:8080/"
        },
        "id": "Mz3GUhOL1Jnb",
        "outputId": "161816a9-a0ca-407d-c6cd-c0c30bba41b3"
      },
      "outputs": [
        {
          "name": "stdout",
          "output_type": "stream",
          "text": [
            "Keys: ['_id', 'plot', 'genres', 'runtime', 'cast', 'poster', 'title', 'fullplot', 'languages', 'released', 'directors', 'rated', 'awards', 'lastupdated', 'year', 'imdb', 'countries', 'type', 'tomatoes', 'num_mflix_comments']\n",
            "Values: [ChatCompletion(id='chatcmpl-9LtMSZcOwt7ZsivxOjkp1kaifc30I', choices=[Choice(finish_reason='stop', index=0, logprobs=None, message=ChatCompletionMessage(content='A unique identifier for each document in a MongoDB collection.', role='assistant', function_call=None, tool_calls=None))], created=1715004724, model='gpt-3.5-turbo-0125', object='chat.completion', system_fingerprint='fp_3b956da36b', usage=CompletionUsage(completion_tokens=11, prompt_tokens=19, total_tokens=30)), ChatCompletion(id='chatcmpl-9LtMTEQD9Hl3ofXETL6GxBnt2baPk', choices=[Choice(finish_reason='length', index=0, logprobs=None, message=ChatCompletionMessage(content='A young woman discovers she has the ability to communicate with ghosts and must navigate the challenges that come with', role='assistant', function_call=None, tool_calls=None))], created=1715004725, model='gpt-3.5-turbo-0125', object='chat.completion', system_fingerprint='fp_3b956da36b', usage=CompletionUsage(completion_tokens=20, prompt_tokens=18, total_tokens=38)), ChatCompletion(id='chatcmpl-9LtMUZ7yeKQ73z2lcMbiOUqqlutLC', choices=[Choice(finish_reason='length', index=0, logprobs=None, message=ChatCompletionMessage(content='A list of strings representing different genres of music, movies, literature, or other forms of creative expression', role='assistant', function_call=None, tool_calls=None))], created=1715004726, model='gpt-3.5-turbo-0125', object='chat.completion', system_fingerprint='fp_3b956da36b', usage=CompletionUsage(completion_tokens=20, prompt_tokens=20, total_tokens=40)), ChatCompletion(id='chatcmpl-9LtMVhTz64sqrCaEOpzcBcsA6pdwX', choices=[Choice(finish_reason='stop', index=0, logprobs=None, message=ChatCompletionMessage(content='The runtime field specifies the total duration of a film, television show, or video game.', role='assistant', function_call=None, tool_calls=None))], created=1715004727, model='gpt-3.5-turbo-0125', object='chat.completion', system_fingerprint='fp_3b956da36b', usage=CompletionUsage(completion_tokens=18, prompt_tokens=18, total_tokens=36)), ChatCompletion(id='chatcmpl-9LtMWYav5BsWRoqC4pn5Msmr5Xomr', choices=[Choice(finish_reason='stop', index=0, logprobs=None, message=ChatCompletionMessage(content='A list of strings representing the cast members of a film or production.', role='assistant', function_call=None, tool_calls=None))], created=1715004728, model='gpt-3.5-turbo-0125', object='chat.completion', system_fingerprint='fp_a450710239', usage=CompletionUsage(completion_tokens=14, prompt_tokens=20, total_tokens=34)), ChatCompletion(id='chatcmpl-9LtMXo9L1QIVXQXNNCe2RXXF53bA9', choices=[Choice(finish_reason='stop', index=0, logprobs=None, message=ChatCompletionMessage(content='\"Captivating visuals that will draw you in\"', role='assistant', function_call=None, tool_calls=None))], created=1715004729, model='gpt-3.5-turbo-0125', object='chat.completion', system_fingerprint='fp_a450710239', usage=CompletionUsage(completion_tokens=10, prompt_tokens=18, total_tokens=28)), ChatCompletion(id='chatcmpl-9LtMYvCQfNTkC87dcDHeFx7VjNWn1', choices=[Choice(finish_reason='stop', index=0, logprobs=None, message=ChatCompletionMessage(content='\"Creative solutions for modern living.\"', role='assistant', function_call=None, tool_calls=None))], created=1715004730, model='gpt-3.5-turbo-0125', object='chat.completion', system_fingerprint='fp_3b956da36b', usage=CompletionUsage(completion_tokens=7, prompt_tokens=18, total_tokens=25)), ChatCompletion(id='chatcmpl-9LtMZIM6pYdyaijxSendu4wYwCkZp', choices=[Choice(finish_reason='stop', index=0, logprobs=None, message=ChatCompletionMessage(content='A detailed summary of the entire storyline and narrative of a movie or TV show.', role='assistant', function_call=None, tool_calls=None))], created=1715004731, model='gpt-3.5-turbo-0125', object='chat.completion', system_fingerprint='fp_3b956da36b', usage=CompletionUsage(completion_tokens=16, prompt_tokens=19, total_tokens=35)), ChatCompletion(id='chatcmpl-9LtMaqcqLaD3irfQ32AtOy34GDqLc', choices=[Choice(finish_reason='stop', index=0, logprobs=None, message=ChatCompletionMessage(content='A collection of string values representing different programming languages.', role='assistant', function_call=None, tool_calls=None))], created=1715004732, model='gpt-3.5-turbo-0125', object='chat.completion', system_fingerprint='fp_3b956da36b', usage=CompletionUsage(completion_tokens=10, prompt_tokens=20, total_tokens=30)), ChatCompletion(id='chatcmpl-9LtMb72VuJ0PP50CXQALpq0dcWqvQ', choices=[Choice(finish_reason='length', index=0, logprobs=None, message=ChatCompletionMessage(content='\"The released field indicates the date that the product or software was officially made available to the public for use', role='assistant', function_call=None, tool_calls=None))], created=1715004733, model='gpt-3.5-turbo-0125', object='chat.completion', system_fingerprint='fp_3b956da36b', usage=CompletionUsage(completion_tokens=20, prompt_tokens=18, total_tokens=38)), ChatCompletion(id='chatcmpl-9LtMc0lH1GW4jHpAKUzKDnd36kO0d', choices=[Choice(finish_reason='stop', index=0, logprobs=None, message=ChatCompletionMessage(content='A collection of strings representing a list of directors.', role='assistant', function_call=None, tool_calls=None))], created=1715004734, model='gpt-3.5-turbo-0125', object='chat.completion', system_fingerprint='fp_3b956da36b', usage=CompletionUsage(completion_tokens=10, prompt_tokens=20, total_tokens=30)), ChatCompletion(id='chatcmpl-9LtMc3eg3rQ1DJbwcbrpG7IWZ560h', choices=[Choice(finish_reason='length', index=0, logprobs=None, message=ChatCompletionMessage(content='The rated field is a system where items or individuals are evaluated and assigned a score or ranking based on', role='assistant', function_call=None, tool_calls=None))], created=1715004734, model='gpt-3.5-turbo-0125', object='chat.completion', system_fingerprint='fp_3b956da36b', usage=CompletionUsage(completion_tokens=20, prompt_tokens=18, total_tokens=38)), ChatCompletion(id='chatcmpl-9LtMdB5mutNuIaK9aTsFPpgDFnUiE', choices=[Choice(finish_reason='stop', index=0, logprobs=None, message=ChatCompletionMessage(content='Celebrating excellence and achievements in various industries and communities.', role='assistant', function_call=None, tool_calls=None))], created=1715004735, model='gpt-3.5-turbo-0125', object='chat.completion', system_fingerprint='fp_3b956da36b', usage=CompletionUsage(completion_tokens=11, prompt_tokens=18, total_tokens=29)), ChatCompletion(id='chatcmpl-9LtMez5ULaWnNLgFVJRUQExxeSmlq', choices=[Choice(finish_reason='stop', index=0, logprobs=None, message=ChatCompletionMessage(content='A timestamp indicating when the last update was made.', role='assistant', function_call=None, tool_calls=None))], created=1715004736, model='gpt-3.5-turbo-0125', object='chat.completion', system_fingerprint='fp_a450710239', usage=CompletionUsage(completion_tokens=10, prompt_tokens=19, total_tokens=29)), ChatCompletion(id='chatcmpl-9LtMfBFJUUautMF0pMu3sAB649KKI', choices=[Choice(finish_reason='stop', index=0, logprobs=None, message=ChatCompletionMessage(content='A numeric field representing a specific year.', role='assistant', function_call=None, tool_calls=None))], created=1715004737, model='gpt-3.5-turbo-0125', object='chat.completion', system_fingerprint='fp_3b956da36b', usage=CompletionUsage(completion_tokens=8, prompt_tokens=18, total_tokens=26)), ChatCompletion(id='chatcmpl-9LtMgMJLGetcXETi7Ed1mwQI1uH4x', choices=[Choice(finish_reason='length', index=0, logprobs=None, message=ChatCompletionMessage(content='A database of film and television information, including cast and crew details, ratings, and user reviews.', role='assistant', function_call=None, tool_calls=None))], created=1715004738, model='gpt-3.5-turbo-0125', object='chat.completion', system_fingerprint='fp_3b956da36b', usage=CompletionUsage(completion_tokens=20, prompt_tokens=18, total_tokens=38)), ChatCompletion(id='chatcmpl-9LtMhTXleyxpgxbxNZb2hGPUpsK0k', choices=[Choice(finish_reason='stop', index=0, logprobs=None, message=ChatCompletionMessage(content='A collection of countries represented as strings.', role='assistant', function_call=None, tool_calls=None))], created=1715004739, model='gpt-3.5-turbo-0125', object='chat.completion', system_fingerprint='fp_3b956da36b', usage=CompletionUsage(completion_tokens=8, prompt_tokens=20, total_tokens=28)), ChatCompletion(id='chatcmpl-9LtMinaZpGdGtEuVJFMg4rJofvJZk', choices=[Choice(finish_reason='stop', index=0, logprobs=None, message=ChatCompletionMessage(content='A brief description of the category or classification of the item or entity.', role='assistant', function_call=None, tool_calls=None))], created=1715004740, model='gpt-3.5-turbo-0125', object='chat.completion', system_fingerprint='fp_3b956da36b', usage=CompletionUsage(completion_tokens=14, prompt_tokens=18, total_tokens=32)), ChatCompletion(id='chatcmpl-9LtMjsHU2XMmvboDcylnGDX6X9eWz', choices=[Choice(finish_reason='stop', index=0, logprobs=None, message=ChatCompletionMessage(content='A vibrant expanse of tomato plants reaching towards the sun.', role='assistant', function_call=None, tool_calls=None))], created=1715004741, model='gpt-3.5-turbo-0125', object='chat.completion', system_fingerprint='fp_3b956da36b', usage=CompletionUsage(completion_tokens=12, prompt_tokens=18, total_tokens=30)), ChatCompletion(id='chatcmpl-9LtMksZKlPr37lWtsHcdYExdJ68IQ', choices=[Choice(finish_reason='stop', index=0, logprobs=None, message=ChatCompletionMessage(content='Number of comments made on the movies in the mflix database.', role='assistant', function_call=None, tool_calls=None))], created=1715004742, model='gpt-3.5-turbo-0125', object='chat.completion', system_fingerprint='fp_3b956da36b', usage=CompletionUsage(completion_tokens=13, prompt_tokens=21, total_tokens=34))]\n"
          ]
        }
      ],
      "source": [
        "# Separate keys and values\n",
        "keys = list(field_generated_descriptions.keys())\n",
        "values = list(field_generated_descriptions.values())\n",
        "\n",
        "# Print keys and values\n",
        "print(\"Keys:\", keys)\n",
        "print(\"Values:\", values)"
      ]
    },
    {
      "cell_type": "code",
      "execution_count": null,
      "metadata": {
        "id": "2t_DmbE7QA5f"
      },
      "outputs": [],
      "source": [
        "import re"
      ]
    },
    {
      "cell_type": "code",
      "execution_count": null,
      "metadata": {
        "id": "mqPSnNlf1LOt"
      },
      "outputs": [],
      "source": [
        "description = []\n",
        "\n",
        "for i in (range(len(values))):\n",
        "  # Use regular expressions to extract the content\n",
        "  content_match = re.search(r\"content='(.*?)'\", str(values[i]))\n",
        "\n",
        "  if content_match:\n",
        "      content = content_match.group(1)\n",
        "      description.append(content)\n",
        "      # print(\"Extracted Content:\", content)\n",
        "  else:\n",
        "    description.append(\"\")"
      ]
    },
    {
      "cell_type": "code",
      "execution_count": null,
      "metadata": {
        "colab": {
          "base_uri": "https://localhost:8080/"
        },
        "id": "-GQt6smc1dsu",
        "outputId": "9e94abd3-cd95-44b8-f3ff-f24c9c2ab418"
      },
      "outputs": [
        {
          "name": "stdout",
          "output_type": "stream",
          "text": [
            "Description:\n",
            "['A unique identifier for each document in a MongoDB collection.', 'A young woman discovers she has the ability to communicate with ghosts and must navigate the challenges that come with', 'A list of strings representing different genres of music, movies, literature, or other forms of creative expression', 'The runtime field specifies the total duration of a film, television show, or video game.', 'A list of strings representing the cast members of a film or production.', '\"Captivating visuals that will draw you in\"', '\"Creative solutions for modern living.\"', 'A detailed summary of the entire storyline and narrative of a movie or TV show.', 'A collection of string values representing different programming languages.', '\"The released field indicates the date that the product or software was officially made available to the public for use', 'A collection of strings representing a list of directors.', 'The rated field is a system where items or individuals are evaluated and assigned a score or ranking based on', 'Celebrating excellence and achievements in various industries and communities.', 'A timestamp indicating when the last update was made.', 'A numeric field representing a specific year.', 'A database of film and television information, including cast and crew details, ratings, and user reviews.', 'A collection of countries represented as strings.', 'A brief description of the category or classification of the item or entity.', 'A vibrant expanse of tomato plants reaching towards the sun.', 'Number of comments made on the movies in the mflix database.']\n"
          ]
        }
      ],
      "source": [
        "print(\"Description:\")\n",
        "print(description)"
      ]
    },
    {
      "cell_type": "code",
      "execution_count": null,
      "metadata": {
        "id": "uXTKCJy31mnf"
      },
      "outputs": [],
      "source": [
        "field_descriptions_final = {}\n",
        "# Update the dictionary with new values\n",
        "for key, new_value in zip(field_generated_descriptions.keys(), description):\n",
        "    field_descriptions_final[key] = new_value"
      ]
    },
    {
      "cell_type": "code",
      "execution_count": null,
      "metadata": {
        "colab": {
          "base_uri": "https://localhost:8080/"
        },
        "id": "fJs6RXie13se",
        "outputId": "e367a615-f5e7-41b4-e235-6de449214a64"
      },
      "outputs": [
        {
          "name": "stdout",
          "output_type": "stream",
          "text": [
            "Final Dictionary of Descriptions:\n",
            "{'_id': 'A unique identifier for each document in a MongoDB collection.', 'plot': 'A young woman discovers she has the ability to communicate with ghosts and must navigate the challenges that come with', 'genres': 'A list of strings representing different genres of music, movies, literature, or other forms of creative expression', 'runtime': 'The runtime field specifies the total duration of a film, television show, or video game.', 'cast': 'A list of strings representing the cast members of a film or production.', 'poster': '\"Captivating visuals that will draw you in\"', 'title': '\"Creative solutions for modern living.\"', 'fullplot': 'A detailed summary of the entire storyline and narrative of a movie or TV show.', 'languages': 'A collection of string values representing different programming languages.', 'released': '\"The released field indicates the date that the product or software was officially made available to the public for use', 'directors': 'A collection of strings representing a list of directors.', 'rated': 'The rated field is a system where items or individuals are evaluated and assigned a score or ranking based on', 'awards': 'Celebrating excellence and achievements in various industries and communities.', 'lastupdated': 'A timestamp indicating when the last update was made.', 'year': 'A numeric field representing a specific year.', 'imdb': 'A database of film and television information, including cast and crew details, ratings, and user reviews.', 'countries': 'A collection of countries represented as strings.', 'type': 'A brief description of the category or classification of the item or entity.', 'tomatoes': 'A vibrant expanse of tomato plants reaching towards the sun.', 'num_mflix_comments': 'Number of comments made on the movies in the mflix database.'}\n"
          ]
        }
      ],
      "source": [
        "# Print the final dictionary of descriptions\n",
        "print(\"Final Dictionary of Descriptions:\")\n",
        "print(field_descriptions_final)"
      ]
    },
    {
      "cell_type": "code",
      "execution_count": null,
      "metadata": {
        "id": "lw-iL0b12Iks"
      },
      "outputs": [],
      "source": [
        "import json\n",
        "\n",
        "# Read data from movies.json file\n",
        "with open('movies.json', 'r') as f:\n",
        "    existing_json_data = json.load(f)\n",
        "\n",
        "# Update the JSON data with descriptions\n",
        "for field, description in field_descriptions_final.items():\n",
        "    existing_json_data[\"fields\"][field][\"description\"] = description"
      ]
    },
    {
      "cell_type": "code",
      "execution_count": null,
      "metadata": {
        "colab": {
          "base_uri": "https://localhost:8080/"
        },
        "id": "kRVgoqZa2OQk",
        "outputId": "f7dab223-33af-473b-d214-b74fd8ee5d02"
      },
      "outputs": [
        {
          "data": {
            "text/plain": [
              "{'name': 'movies',\n",
              " 'description': 'Contains detailed information about movies.',\n",
              " 'fields': {'_id': {'type': 'ObjectId',\n",
              "   'description': 'A unique identifier for each document in a MongoDB collection.'},\n",
              "  'plot': {'type': 'str',\n",
              "   'description': 'A young woman discovers she has the ability to communicate with ghosts and must navigate the challenges that come with'},\n",
              "  'genres': {'type': 'array',\n",
              "   'description': 'A list of strings representing different genres of music, movies, literature, or other forms of creative expression'},\n",
              "  'runtime': {'type': 'int',\n",
              "   'description': 'The runtime field specifies the total duration of a film, television show, or video game.'},\n",
              "  'cast': {'type': 'array',\n",
              "   'description': 'A list of strings representing the cast members of a film or production.'},\n",
              "  'poster': {'type': 'str',\n",
              "   'description': '\"Captivating visuals that will draw you in\"'},\n",
              "  'title': {'type': 'str',\n",
              "   'description': '\"Creative solutions for modern living.\"'},\n",
              "  'fullplot': {'type': 'str',\n",
              "   'description': 'A detailed summary of the entire storyline and narrative of a movie or TV show.'},\n",
              "  'languages': {'type': 'array',\n",
              "   'description': 'A collection of string values representing different programming languages.'},\n",
              "  'released': {'type': 'datetime',\n",
              "   'description': '\"The released field indicates the date that the product or software was officially made available to the public for use'},\n",
              "  'directors': {'type': 'array',\n",
              "   'description': 'A collection of strings representing a list of directors.'},\n",
              "  'rated': {'type': 'str',\n",
              "   'description': 'The rated field is a system where items or individuals are evaluated and assigned a score or ranking based on'},\n",
              "  'awards': {'type': 'dict',\n",
              "   'description': 'Celebrating excellence and achievements in various industries and communities.'},\n",
              "  'lastupdated': {'type': 'str',\n",
              "   'description': 'A timestamp indicating when the last update was made.'},\n",
              "  'year': {'type': 'int',\n",
              "   'description': 'A numeric field representing a specific year.'},\n",
              "  'imdb': {'type': 'dict',\n",
              "   'description': 'A database of film and television information, including cast and crew details, ratings, and user reviews.'},\n",
              "  'countries': {'type': 'array',\n",
              "   'description': 'A collection of countries represented as strings.'},\n",
              "  'type': {'type': 'str',\n",
              "   'description': 'A brief description of the category or classification of the item or entity.'},\n",
              "  'tomatoes': {'type': 'dict',\n",
              "   'description': 'A vibrant expanse of tomato plants reaching towards the sun.'},\n",
              "  'num_mflix_comments': {'type': 'int',\n",
              "   'description': 'Number of comments made on the movies in the mflix database.'}}}"
            ]
          },
          "execution_count": 21,
          "metadata": {},
          "output_type": "execute_result"
        }
      ],
      "source": [
        "existing_json_data"
      ]
    },
    {
      "cell_type": "code",
      "execution_count": null,
      "metadata": {
        "colab": {
          "base_uri": "https://localhost:8080/"
        },
        "id": "djbG65Od2VIk",
        "outputId": "c284e399-f7ec-4782-824a-0d71f2635a3d"
      },
      "outputs": [
        {
          "name": "stdout",
          "output_type": "stream",
          "text": [
            "Descriptions updated and written to movies_new.json file.\n"
          ]
        }
      ],
      "source": [
        "# Write the updated JSON data back to the file\n",
        "with open('movies_new.json', 'w') as f:\n",
        "    json.dump(existing_json_data, f, indent=4)\n",
        "\n",
        "print(\"Descriptions updated and written to movies_new.json file.\")"
      ]
    },
    {
      "cell_type": "markdown",
      "metadata": {
        "id": "sqK6xWZwQOV9"
      },
      "source": [
        "# Few Shot Prompting - OpenAI"
      ]
    },
    {
      "cell_type": "code",
      "execution_count": null,
      "metadata": {
        "colab": {
          "base_uri": "https://localhost:8080/"
        },
        "id": "dzvLddooQTYE",
        "outputId": "897ad831-efea-4743-d197-32f7941931dd"
      },
      "outputs": [
        {
          "name": "stdout",
          "output_type": "stream",
          "text": [
            "Final Descriptions:\n",
            "{'_id': ChatCompletion(id='chatcmpl-9Lu8V46yoNLIySO0LlMNvTcOa5H4U', choices=[Choice(finish_reason='stop', index=0, logprobs=None, message=ChatCompletionMessage(content='Unique identifier for a specific movie entry.', role='assistant', function_call=None, tool_calls=None))], created=1715007703, model='gpt-3.5-turbo-0125', object='chat.completion', system_fingerprint='fp_3b956da36b', usage=CompletionUsage(completion_tokens=8, prompt_tokens=98, total_tokens=106)), 'plot': ChatCompletion(id='chatcmpl-9Lu8WuOPZZdX2tKXRrLcmrtyB4NZS', choices=[Choice(finish_reason='stop', index=0, logprobs=None, message=ChatCompletionMessage(content='A concise summary of the main events and conflicts that drive the storyline of the movie.', role='assistant', function_call=None, tool_calls=None))], created=1715007704, model='gpt-3.5-turbo-0125', object='chat.completion', system_fingerprint='fp_3b956da36b', usage=CompletionUsage(completion_tokens=17, prompt_tokens=97, total_tokens=114)), 'genres': ChatCompletion(id='chatcmpl-9Lu8X0GlbvO2367bimgoamaVsGflM', choices=[Choice(finish_reason='length', index=0, logprobs=None, message=ChatCompletionMessage(content='The genre or genres of the movie, categorizing it based on style, tone, and themes.', role='assistant', function_call=None, tool_calls=None))], created=1715007705, model='gpt-3.5-turbo-0125', object='chat.completion', system_fingerprint='fp_a450710239', usage=CompletionUsage(completion_tokens=20, prompt_tokens=97, total_tokens=117)), 'runtime': ChatCompletion(id='chatcmpl-9Lu8Y4yP2a4gshvzComIJtgkBIz3o', choices=[Choice(finish_reason='stop', index=0, logprobs=None, message=ChatCompletionMessage(content='The duration of the movie from beginning to end in minutes.', role='assistant', function_call=None, tool_calls=None))], created=1715007706, model='gpt-3.5-turbo-0125', object='chat.completion', system_fingerprint='fp_a450710239', usage=CompletionUsage(completion_tokens=12, prompt_tokens=97, total_tokens=109)), 'cast': ChatCompletion(id='chatcmpl-9Lu8ZL8g1tcaA4rkCq305UGle60ep', choices=[Choice(finish_reason='stop', index=0, logprobs=None, message=ChatCompletionMessage(content='A list of actors and actresses who portray characters in the film.', role='assistant', function_call=None, tool_calls=None))], created=1715007707, model='gpt-3.5-turbo-0125', object='chat.completion', system_fingerprint='fp_3b956da36b', usage=CompletionUsage(completion_tokens=13, prompt_tokens=97, total_tokens=110)), 'poster': ChatCompletion(id='chatcmpl-9Lu8atBaCX9eS7FZxFojhDaCl0CHV', choices=[Choice(finish_reason='stop', index=0, logprobs=None, message=ChatCompletionMessage(content='The genre of the movie.', role='assistant', function_call=None, tool_calls=None))], created=1715007708, model='gpt-3.5-turbo-0125', object='chat.completion', system_fingerprint='fp_a450710239', usage=CompletionUsage(completion_tokens=6, prompt_tokens=97, total_tokens=103)), 'title': ChatCompletion(id='chatcmpl-9Lu8aWFJOjL1e76RpRHNkMiOvW7Mt', choices=[Choice(finish_reason='stop', index=0, logprobs=None, message=ChatCompletionMessage(content='The title of the movie.', role='assistant', function_call=None, tool_calls=None))], created=1715007708, model='gpt-3.5-turbo-0125', object='chat.completion', system_fingerprint='fp_3b956da36b', usage=CompletionUsage(completion_tokens=6, prompt_tokens=97, total_tokens=103)), 'fullplot': ChatCompletion(id='chatcmpl-9Lu8bZd8SIDAsbzDmFVAJShqsCL6G', choices=[Choice(finish_reason='stop', index=0, logprobs=None, message=ChatCompletionMessage(content='A detailed summary of the entire storyline and plot developments of the movie from beginning to end.', role='assistant', function_call=None, tool_calls=None))], created=1715007709, model='gpt-3.5-turbo-0125', object='chat.completion', system_fingerprint='fp_3b956da36b', usage=CompletionUsage(completion_tokens=18, prompt_tokens=98, total_tokens=116)), 'languages': ChatCompletion(id='chatcmpl-9Lu8cKoSYtvl5JP7jisGA3qiEQm49', choices=[Choice(finish_reason='stop', index=0, logprobs=None, message=ChatCompletionMessage(content='The languages spoken in the movie.', role='assistant', function_call=None, tool_calls=None))], created=1715007710, model='gpt-3.5-turbo-0125', object='chat.completion', system_fingerprint='fp_3b956da36b', usage=CompletionUsage(completion_tokens=7, prompt_tokens=97, total_tokens=104)), 'released': ChatCompletion(id='chatcmpl-9Lu8dSrYmjJmjA81kJKVWbGKaYF7u', choices=[Choice(finish_reason='stop', index=0, logprobs=None, message=ChatCompletionMessage(content='The date when the movie was initially released in theaters.', role='assistant', function_call=None, tool_calls=None))], created=1715007711, model='gpt-3.5-turbo-0125', object='chat.completion', system_fingerprint='fp_3b956da36b', usage=CompletionUsage(completion_tokens=11, prompt_tokens=97, total_tokens=108)), 'directors': ChatCompletion(id='chatcmpl-9Lu8ejAGGiC7YIzcFh1crtAyivopC', choices=[Choice(finish_reason='length', index=0, logprobs=None, message=ChatCompletionMessage(content='The directors field provides information about the individual or individuals responsible for overseeing and guiding the artistic vision and execution', role='assistant', function_call=None, tool_calls=None))], created=1715007712, model='gpt-3.5-turbo-0125', object='chat.completion', system_fingerprint='fp_a450710239', usage=CompletionUsage(completion_tokens=20, prompt_tokens=97, total_tokens=117)), 'rated': ChatCompletion(id='chatcmpl-9Lu8fnlNOh6BeLdJlw2gHXFjZS8UD', choices=[Choice(finish_reason='stop', index=0, logprobs=None, message=ChatCompletionMessage(content='The MPAA rating of the movie providing age-appropriate content levels.', role='assistant', function_call=None, tool_calls=None))], created=1715007713, model='gpt-3.5-turbo-0125', object='chat.completion', system_fingerprint='fp_3b956da36b', usage=CompletionUsage(completion_tokens=14, prompt_tokens=97, total_tokens=111)), 'awards': ChatCompletion(id='chatcmpl-9Lu8gFhR3DaMYB4Z0SjdWg0TomXIt', choices=[Choice(finish_reason='stop', index=0, logprobs=None, message=ChatCompletionMessage(content='Recognition and accolades received by the movie and its cast and crew.', role='assistant', function_call=None, tool_calls=None))], created=1715007714, model='gpt-3.5-turbo-0125', object='chat.completion', system_fingerprint='fp_3b956da36b', usage=CompletionUsage(completion_tokens=14, prompt_tokens=97, total_tokens=111)), 'lastupdated': ChatCompletion(id='chatcmpl-9Lu8hTA7ZLNSwtbqex9htu18LndnW', choices=[Choice(finish_reason='stop', index=0, logprobs=None, message=ChatCompletionMessage(content='The date and time when the movie information was last updated.', role='assistant', function_call=None, tool_calls=None))], created=1715007715, model='gpt-3.5-turbo-0125', object='chat.completion', system_fingerprint='fp_3b956da36b', usage=CompletionUsage(completion_tokens=12, prompt_tokens=98, total_tokens=110)), 'year': ChatCompletion(id='chatcmpl-9Lu8ikQlmgLVUOlmpb6FW5E5uqOtK', choices=[Choice(finish_reason='stop', index=0, logprobs=None, message=ChatCompletionMessage(content='The year the movie was released.', role='assistant', function_call=None, tool_calls=None))], created=1715007716, model='gpt-3.5-turbo-0125', object='chat.completion', system_fingerprint='fp_3b956da36b', usage=CompletionUsage(completion_tokens=7, prompt_tokens=97, total_tokens=104)), 'imdb': ChatCompletion(id='chatcmpl-9Lu8jQViNikx33gugaFwC2bTNae12', choices=[Choice(finish_reason='stop', index=0, logprobs=None, message=ChatCompletionMessage(content='An IMDb field that provides detailed information and ratings for a particular movie.', role='assistant', function_call=None, tool_calls=None))], created=1715007717, model='gpt-3.5-turbo-0125', object='chat.completion', system_fingerprint='fp_3b956da36b', usage=CompletionUsage(completion_tokens=14, prompt_tokens=97, total_tokens=111)), 'countries': ChatCompletion(id='chatcmpl-9Lu8k41S8QmUMJoDOwnztbXJma11N', choices=[Choice(finish_reason='stop', index=0, logprobs=None, message=ChatCompletionMessage(content='Information regarding the countries involved in the production or setting of the movie.', role='assistant', function_call=None, tool_calls=None))], created=1715007718, model='gpt-3.5-turbo-0125', object='chat.completion', system_fingerprint='fp_3b956da36b', usage=CompletionUsage(completion_tokens=14, prompt_tokens=97, total_tokens=111)), 'type': ChatCompletion(id='chatcmpl-9Lu8lovoB83mtFKiU4jFSuFnIJBRD', choices=[Choice(finish_reason='stop', index=0, logprobs=None, message=ChatCompletionMessage(content='The genre of the movie, categorizing it based on themes and storytelling elements.', role='assistant', function_call=None, tool_calls=None))], created=1715007719, model='gpt-3.5-turbo-0125', object='chat.completion', system_fingerprint='fp_3b956da36b', usage=CompletionUsage(completion_tokens=16, prompt_tokens=97, total_tokens=113)), 'tomatoes': ChatCompletion(id='chatcmpl-9Lu8m66apzW4S2PdibjPpfBDmu6vr', choices=[Choice(finish_reason='stop', index=0, logprobs=None, message=ChatCompletionMessage(content='Collection of review scores and ratings from critics and audiences for a movie.', role='assistant', function_call=None, tool_calls=None))], created=1715007720, model='gpt-3.5-turbo-0125', object='chat.completion', system_fingerprint='fp_a450710239', usage=CompletionUsage(completion_tokens=14, prompt_tokens=97, total_tokens=111)), 'num_mflix_comments': ChatCompletion(id='chatcmpl-9Lu8nMOLEij4AYkydlTU0gEuKskL9', choices=[Choice(finish_reason='stop', index=0, logprobs=None, message=ChatCompletionMessage(content='The total number of comments posted by viewers on the movie platform.', role='assistant', function_call=None, tool_calls=None))], created=1715007721, model='gpt-3.5-turbo-0125', object='chat.completion', system_fingerprint='fp_3b956da36b', usage=CompletionUsage(completion_tokens=13, prompt_tokens=100, total_tokens=113))}\n"
          ]
        }
      ],
      "source": [
        "import os\n",
        "import time\n",
        "import json\n",
        "from openai import OpenAI\n",
        "\n",
        "# Function to generate description using OpenAI Language Model\n",
        "def generate_description(prompt):\n",
        "    client = OpenAI(\n",
        "        api_key = <OpenAI_API_KEY>,\n",
        "    )\n",
        "\n",
        "    chat_completion = client.chat.completions.create(\n",
        "        model=\"gpt-3.5-turbo\",\n",
        "        messages=[\n",
        "            {\n",
        "                \"role\": \"user\",\n",
        "                \"content\": prompt,\n",
        "            }\n",
        "        ],\n",
        "        max_tokens = 20\n",
        "    )\n",
        "\n",
        "    return chat_completion\n",
        "\n",
        "# Load JSON file\n",
        "with open('movies.json', 'r') as f:\n",
        "    data = json.load(f)\n",
        "\n",
        "# Extract field names and descriptions\n",
        "fields = data['fields']\n",
        "field_descriptions = {key: value.get('description', '') for key, value in fields.items()}\n",
        "\n",
        "# Generate description for each field with rate limiting\n",
        "field_generated_descriptions = {}\n",
        "for key, value in field_descriptions.items():\n",
        "  prompt_str = f\"\"\"Generate a single line description for the {key} field such that it gives the meaning of the field in the context of movies.\n",
        "                For example: if key is 'tomatoes' give the description like 'Rotten Tomatoes specific information.',\n",
        "                if key is 'runtime' give the description like 'The runtime of the movie in minutes.'\n",
        "                Don't consider a database. Give a general description for the key such that it suits for any movie taken\"\"\"\n",
        "\n",
        "  # prompt_str = f\"\"\"Generate a single line description for the {key} field such that it gives the meaning of the field in the context of movies\"\"\"\n",
        "\n",
        "  # prompt_str = f\"Generate a single line description for the {key} field: {value}\"\n",
        "\n",
        "  # description = generate_description(f\"Generate a single line description for the {key} field: {value}\")\n",
        "  description = generate_description(prompt_str)\n",
        "  field_generated_descriptions[key] = description\n",
        "\n",
        "# Print final descriptions\n",
        "print(\"Final Descriptions:\")\n",
        "print(field_generated_descriptions)"
      ]
    },
    {
      "cell_type": "code",
      "execution_count": null,
      "metadata": {
        "colab": {
          "base_uri": "https://localhost:8080/"
        },
        "id": "QBE-7QpIZZFv",
        "outputId": "0c61faf9-1a9a-4b40-aa3b-70c3d8fdd610"
      },
      "outputs": [
        {
          "name": "stdout",
          "output_type": "stream",
          "text": [
            "Keys: ['_id', 'plot', 'genres', 'runtime', 'cast', 'poster', 'title', 'fullplot', 'languages', 'released', 'directors', 'rated', 'awards', 'lastupdated', 'year', 'imdb', 'countries', 'type', 'tomatoes', 'num_mflix_comments']\n",
            "Values: [ChatCompletion(id='chatcmpl-9Lu8V46yoNLIySO0LlMNvTcOa5H4U', choices=[Choice(finish_reason='stop', index=0, logprobs=None, message=ChatCompletionMessage(content='Unique identifier for a specific movie entry.', role='assistant', function_call=None, tool_calls=None))], created=1715007703, model='gpt-3.5-turbo-0125', object='chat.completion', system_fingerprint='fp_3b956da36b', usage=CompletionUsage(completion_tokens=8, prompt_tokens=98, total_tokens=106)), ChatCompletion(id='chatcmpl-9Lu8WuOPZZdX2tKXRrLcmrtyB4NZS', choices=[Choice(finish_reason='stop', index=0, logprobs=None, message=ChatCompletionMessage(content='A concise summary of the main events and conflicts that drive the storyline of the movie.', role='assistant', function_call=None, tool_calls=None))], created=1715007704, model='gpt-3.5-turbo-0125', object='chat.completion', system_fingerprint='fp_3b956da36b', usage=CompletionUsage(completion_tokens=17, prompt_tokens=97, total_tokens=114)), ChatCompletion(id='chatcmpl-9Lu8X0GlbvO2367bimgoamaVsGflM', choices=[Choice(finish_reason='length', index=0, logprobs=None, message=ChatCompletionMessage(content='The genre or genres of the movie, categorizing it based on style, tone, and themes.', role='assistant', function_call=None, tool_calls=None))], created=1715007705, model='gpt-3.5-turbo-0125', object='chat.completion', system_fingerprint='fp_a450710239', usage=CompletionUsage(completion_tokens=20, prompt_tokens=97, total_tokens=117)), ChatCompletion(id='chatcmpl-9Lu8Y4yP2a4gshvzComIJtgkBIz3o', choices=[Choice(finish_reason='stop', index=0, logprobs=None, message=ChatCompletionMessage(content='The duration of the movie from beginning to end in minutes.', role='assistant', function_call=None, tool_calls=None))], created=1715007706, model='gpt-3.5-turbo-0125', object='chat.completion', system_fingerprint='fp_a450710239', usage=CompletionUsage(completion_tokens=12, prompt_tokens=97, total_tokens=109)), ChatCompletion(id='chatcmpl-9Lu8ZL8g1tcaA4rkCq305UGle60ep', choices=[Choice(finish_reason='stop', index=0, logprobs=None, message=ChatCompletionMessage(content='A list of actors and actresses who portray characters in the film.', role='assistant', function_call=None, tool_calls=None))], created=1715007707, model='gpt-3.5-turbo-0125', object='chat.completion', system_fingerprint='fp_3b956da36b', usage=CompletionUsage(completion_tokens=13, prompt_tokens=97, total_tokens=110)), ChatCompletion(id='chatcmpl-9Lu8atBaCX9eS7FZxFojhDaCl0CHV', choices=[Choice(finish_reason='stop', index=0, logprobs=None, message=ChatCompletionMessage(content='The genre of the movie.', role='assistant', function_call=None, tool_calls=None))], created=1715007708, model='gpt-3.5-turbo-0125', object='chat.completion', system_fingerprint='fp_a450710239', usage=CompletionUsage(completion_tokens=6, prompt_tokens=97, total_tokens=103)), ChatCompletion(id='chatcmpl-9Lu8aWFJOjL1e76RpRHNkMiOvW7Mt', choices=[Choice(finish_reason='stop', index=0, logprobs=None, message=ChatCompletionMessage(content='The title of the movie.', role='assistant', function_call=None, tool_calls=None))], created=1715007708, model='gpt-3.5-turbo-0125', object='chat.completion', system_fingerprint='fp_3b956da36b', usage=CompletionUsage(completion_tokens=6, prompt_tokens=97, total_tokens=103)), ChatCompletion(id='chatcmpl-9Lu8bZd8SIDAsbzDmFVAJShqsCL6G', choices=[Choice(finish_reason='stop', index=0, logprobs=None, message=ChatCompletionMessage(content='A detailed summary of the entire storyline and plot developments of the movie from beginning to end.', role='assistant', function_call=None, tool_calls=None))], created=1715007709, model='gpt-3.5-turbo-0125', object='chat.completion', system_fingerprint='fp_3b956da36b', usage=CompletionUsage(completion_tokens=18, prompt_tokens=98, total_tokens=116)), ChatCompletion(id='chatcmpl-9Lu8cKoSYtvl5JP7jisGA3qiEQm49', choices=[Choice(finish_reason='stop', index=0, logprobs=None, message=ChatCompletionMessage(content='The languages spoken in the movie.', role='assistant', function_call=None, tool_calls=None))], created=1715007710, model='gpt-3.5-turbo-0125', object='chat.completion', system_fingerprint='fp_3b956da36b', usage=CompletionUsage(completion_tokens=7, prompt_tokens=97, total_tokens=104)), ChatCompletion(id='chatcmpl-9Lu8dSrYmjJmjA81kJKVWbGKaYF7u', choices=[Choice(finish_reason='stop', index=0, logprobs=None, message=ChatCompletionMessage(content='The date when the movie was initially released in theaters.', role='assistant', function_call=None, tool_calls=None))], created=1715007711, model='gpt-3.5-turbo-0125', object='chat.completion', system_fingerprint='fp_3b956da36b', usage=CompletionUsage(completion_tokens=11, prompt_tokens=97, total_tokens=108)), ChatCompletion(id='chatcmpl-9Lu8ejAGGiC7YIzcFh1crtAyivopC', choices=[Choice(finish_reason='length', index=0, logprobs=None, message=ChatCompletionMessage(content='The directors field provides information about the individual or individuals responsible for overseeing and guiding the artistic vision and execution', role='assistant', function_call=None, tool_calls=None))], created=1715007712, model='gpt-3.5-turbo-0125', object='chat.completion', system_fingerprint='fp_a450710239', usage=CompletionUsage(completion_tokens=20, prompt_tokens=97, total_tokens=117)), ChatCompletion(id='chatcmpl-9Lu8fnlNOh6BeLdJlw2gHXFjZS8UD', choices=[Choice(finish_reason='stop', index=0, logprobs=None, message=ChatCompletionMessage(content='The MPAA rating of the movie providing age-appropriate content levels.', role='assistant', function_call=None, tool_calls=None))], created=1715007713, model='gpt-3.5-turbo-0125', object='chat.completion', system_fingerprint='fp_3b956da36b', usage=CompletionUsage(completion_tokens=14, prompt_tokens=97, total_tokens=111)), ChatCompletion(id='chatcmpl-9Lu8gFhR3DaMYB4Z0SjdWg0TomXIt', choices=[Choice(finish_reason='stop', index=0, logprobs=None, message=ChatCompletionMessage(content='Recognition and accolades received by the movie and its cast and crew.', role='assistant', function_call=None, tool_calls=None))], created=1715007714, model='gpt-3.5-turbo-0125', object='chat.completion', system_fingerprint='fp_3b956da36b', usage=CompletionUsage(completion_tokens=14, prompt_tokens=97, total_tokens=111)), ChatCompletion(id='chatcmpl-9Lu8hTA7ZLNSwtbqex9htu18LndnW', choices=[Choice(finish_reason='stop', index=0, logprobs=None, message=ChatCompletionMessage(content='The date and time when the movie information was last updated.', role='assistant', function_call=None, tool_calls=None))], created=1715007715, model='gpt-3.5-turbo-0125', object='chat.completion', system_fingerprint='fp_3b956da36b', usage=CompletionUsage(completion_tokens=12, prompt_tokens=98, total_tokens=110)), ChatCompletion(id='chatcmpl-9Lu8ikQlmgLVUOlmpb6FW5E5uqOtK', choices=[Choice(finish_reason='stop', index=0, logprobs=None, message=ChatCompletionMessage(content='The year the movie was released.', role='assistant', function_call=None, tool_calls=None))], created=1715007716, model='gpt-3.5-turbo-0125', object='chat.completion', system_fingerprint='fp_3b956da36b', usage=CompletionUsage(completion_tokens=7, prompt_tokens=97, total_tokens=104)), ChatCompletion(id='chatcmpl-9Lu8jQViNikx33gugaFwC2bTNae12', choices=[Choice(finish_reason='stop', index=0, logprobs=None, message=ChatCompletionMessage(content='An IMDb field that provides detailed information and ratings for a particular movie.', role='assistant', function_call=None, tool_calls=None))], created=1715007717, model='gpt-3.5-turbo-0125', object='chat.completion', system_fingerprint='fp_3b956da36b', usage=CompletionUsage(completion_tokens=14, prompt_tokens=97, total_tokens=111)), ChatCompletion(id='chatcmpl-9Lu8k41S8QmUMJoDOwnztbXJma11N', choices=[Choice(finish_reason='stop', index=0, logprobs=None, message=ChatCompletionMessage(content='Information regarding the countries involved in the production or setting of the movie.', role='assistant', function_call=None, tool_calls=None))], created=1715007718, model='gpt-3.5-turbo-0125', object='chat.completion', system_fingerprint='fp_3b956da36b', usage=CompletionUsage(completion_tokens=14, prompt_tokens=97, total_tokens=111)), ChatCompletion(id='chatcmpl-9Lu8lovoB83mtFKiU4jFSuFnIJBRD', choices=[Choice(finish_reason='stop', index=0, logprobs=None, message=ChatCompletionMessage(content='The genre of the movie, categorizing it based on themes and storytelling elements.', role='assistant', function_call=None, tool_calls=None))], created=1715007719, model='gpt-3.5-turbo-0125', object='chat.completion', system_fingerprint='fp_3b956da36b', usage=CompletionUsage(completion_tokens=16, prompt_tokens=97, total_tokens=113)), ChatCompletion(id='chatcmpl-9Lu8m66apzW4S2PdibjPpfBDmu6vr', choices=[Choice(finish_reason='stop', index=0, logprobs=None, message=ChatCompletionMessage(content='Collection of review scores and ratings from critics and audiences for a movie.', role='assistant', function_call=None, tool_calls=None))], created=1715007720, model='gpt-3.5-turbo-0125', object='chat.completion', system_fingerprint='fp_a450710239', usage=CompletionUsage(completion_tokens=14, prompt_tokens=97, total_tokens=111)), ChatCompletion(id='chatcmpl-9Lu8nMOLEij4AYkydlTU0gEuKskL9', choices=[Choice(finish_reason='stop', index=0, logprobs=None, message=ChatCompletionMessage(content='The total number of comments posted by viewers on the movie platform.', role='assistant', function_call=None, tool_calls=None))], created=1715007721, model='gpt-3.5-turbo-0125', object='chat.completion', system_fingerprint='fp_3b956da36b', usage=CompletionUsage(completion_tokens=13, prompt_tokens=100, total_tokens=113))]\n"
          ]
        }
      ],
      "source": [
        "# Separate keys and values\n",
        "keys = list(field_generated_descriptions.keys())\n",
        "values = list(field_generated_descriptions.values())\n",
        "\n",
        "# Print keys and values\n",
        "print(\"Keys:\", keys)\n",
        "print(\"Values:\", values)"
      ]
    },
    {
      "cell_type": "code",
      "execution_count": null,
      "metadata": {
        "id": "rWrVMsv3W5b9"
      },
      "outputs": [],
      "source": [
        "import re\n",
        "\n",
        "description = []\n",
        "\n",
        "for i in (range(len(values))):\n",
        "  # Use regular expressions to extract the content\n",
        "  content_match = re.search(r\"content='(.*?)'\", str(values[i]))\n",
        "\n",
        "  if content_match:\n",
        "      content = content_match.group(1)\n",
        "      description.append(content)\n",
        "      # print(\"Extracted Content:\", content)\n",
        "  else:\n",
        "    description.append(\"\")"
      ]
    },
    {
      "cell_type": "code",
      "execution_count": null,
      "metadata": {
        "colab": {
          "base_uri": "https://localhost:8080/"
        },
        "id": "CziO2hb0XC6q",
        "outputId": "2ed41687-4062-498b-c46f-e3ae60e98400"
      },
      "outputs": [
        {
          "name": "stdout",
          "output_type": "stream",
          "text": [
            "Description:\n",
            "['Unique identifier for a specific movie entry.', 'A concise summary of the main events and conflicts that drive the storyline of the movie.', 'The genre or genres of the movie, categorizing it based on style, tone, and themes.', 'The duration of the movie from beginning to end in minutes.', 'A list of actors and actresses who portray characters in the film.', 'The genre of the movie.', 'The title of the movie.', 'A detailed summary of the entire storyline and plot developments of the movie from beginning to end.', 'The languages spoken in the movie.', 'The date when the movie was initially released in theaters.', 'The directors field provides information about the individual or individuals responsible for overseeing and guiding the artistic vision and execution', 'The MPAA rating of the movie providing age-appropriate content levels.', 'Recognition and accolades received by the movie and its cast and crew.', 'The date and time when the movie information was last updated.', 'The year the movie was released.', 'An IMDb field that provides detailed information and ratings for a particular movie.', 'Information regarding the countries involved in the production or setting of the movie.', 'The genre of the movie, categorizing it based on themes and storytelling elements.', 'Collection of review scores and ratings from critics and audiences for a movie.', 'The total number of comments posted by viewers on the movie platform.']\n"
          ]
        }
      ],
      "source": [
        "print(\"Description:\")\n",
        "print(description)"
      ]
    },
    {
      "cell_type": "code",
      "execution_count": null,
      "metadata": {
        "colab": {
          "base_uri": "https://localhost:8080/"
        },
        "id": "Or1LsqM8bclY",
        "outputId": "e3f1f836-1a32-4afa-de40-ccc76335793c"
      },
      "outputs": [
        {
          "name": "stdout",
          "output_type": "stream",
          "text": [
            "Final Dictionary of Descriptions:\n",
            "{'_id': 'Unique identifier for a specific movie entry.', 'plot': 'A concise summary of the main events and conflicts that drive the storyline of the movie.', 'genres': 'The genre or genres of the movie, categorizing it based on style, tone, and themes.', 'runtime': 'The duration of the movie from beginning to end in minutes.', 'cast': 'A list of actors and actresses who portray characters in the film.', 'poster': 'The genre of the movie.', 'title': 'The title of the movie.', 'fullplot': 'A detailed summary of the entire storyline and plot developments of the movie from beginning to end.', 'languages': 'The languages spoken in the movie.', 'released': 'The date when the movie was initially released in theaters.', 'directors': 'The directors field provides information about the individual or individuals responsible for overseeing and guiding the artistic vision and execution', 'rated': 'The MPAA rating of the movie providing age-appropriate content levels.', 'awards': 'Recognition and accolades received by the movie and its cast and crew.', 'lastupdated': 'The date and time when the movie information was last updated.', 'year': 'The year the movie was released.', 'imdb': 'An IMDb field that provides detailed information and ratings for a particular movie.', 'countries': 'Information regarding the countries involved in the production or setting of the movie.', 'type': 'The genre of the movie, categorizing it based on themes and storytelling elements.', 'tomatoes': 'Collection of review scores and ratings from critics and audiences for a movie.', 'num_mflix_comments': 'The total number of comments posted by viewers on the movie platform.'}\n"
          ]
        }
      ],
      "source": [
        "field_descriptions_final = {}\n",
        "# Update the dictionary with new values\n",
        "for key, new_value in zip(field_generated_descriptions.keys(), description):\n",
        "    field_descriptions_final[key] = new_value\n",
        "\n",
        "# Print the final dictionary of descriptions\n",
        "print(\"Final Dictionary of Descriptions:\")\n",
        "print(field_descriptions_final)"
      ]
    },
    {
      "cell_type": "code",
      "execution_count": null,
      "metadata": {
        "colab": {
          "base_uri": "https://localhost:8080/"
        },
        "id": "AeCqwkpAbmfh",
        "outputId": "52c5add7-a455-4415-e6b1-d39caf1ef619"
      },
      "outputs": [
        {
          "name": "stdout",
          "output_type": "stream",
          "text": [
            "{'name': 'movies', 'description': 'Contains detailed information about movies.', 'fields': {'_id': {'type': 'ObjectId', 'description': 'Unique identifier for a specific movie entry.'}, 'plot': {'type': 'str', 'description': 'A concise summary of the main events and conflicts that drive the storyline of the movie.'}, 'genres': {'type': 'array', 'description': 'The genre or genres of the movie, categorizing it based on style, tone, and themes.'}, 'runtime': {'type': 'int', 'description': 'The duration of the movie from beginning to end in minutes.'}, 'cast': {'type': 'array', 'description': 'A list of actors and actresses who portray characters in the film.'}, 'poster': {'type': 'str', 'description': 'The genre of the movie.'}, 'title': {'type': 'str', 'description': 'The title of the movie.'}, 'fullplot': {'type': 'str', 'description': 'A detailed summary of the entire storyline and plot developments of the movie from beginning to end.'}, 'languages': {'type': 'array', 'description': 'The languages spoken in the movie.'}, 'released': {'type': 'datetime', 'description': 'The date when the movie was initially released in theaters.'}, 'directors': {'type': 'array', 'description': 'The directors field provides information about the individual or individuals responsible for overseeing and guiding the artistic vision and execution'}, 'rated': {'type': 'str', 'description': 'The MPAA rating of the movie providing age-appropriate content levels.'}, 'awards': {'type': 'dict', 'description': 'Recognition and accolades received by the movie and its cast and crew.'}, 'lastupdated': {'type': 'str', 'description': 'The date and time when the movie information was last updated.'}, 'year': {'type': 'int', 'description': 'The year the movie was released.'}, 'imdb': {'type': 'dict', 'description': 'An IMDb field that provides detailed information and ratings for a particular movie.'}, 'countries': {'type': 'array', 'description': 'Information regarding the countries involved in the production or setting of the movie.'}, 'type': {'type': 'str', 'description': 'The genre of the movie, categorizing it based on themes and storytelling elements.'}, 'tomatoes': {'type': 'dict', 'description': 'Collection of review scores and ratings from critics and audiences for a movie.'}, 'num_mflix_comments': {'type': 'int', 'description': 'The total number of comments posted by viewers on the movie platform.'}}}\n",
            "Descriptions updated and written to movies_new.json file.\n"
          ]
        }
      ],
      "source": [
        "import json\n",
        "\n",
        "# Read data from movies.json file\n",
        "with open('movies.json', 'r') as f:\n",
        "    existing_json_data = json.load(f)\n",
        "\n",
        "# Update the JSON data with descriptions\n",
        "for field, description in field_descriptions_final.items():\n",
        "    existing_json_data[\"fields\"][field][\"description\"] = description\n",
        "\n",
        "# Write the updated JSON data back to the file\n",
        "with open('movies_new.json', 'w') as f:\n",
        "    json.dump(existing_json_data, f, indent=4)\n",
        "\n",
        "print(existing_json_data)\n",
        "\n",
        "print(\"Descriptions updated and written to movies_new.json file.\")"
      ]
    },
    {
      "cell_type": "markdown",
      "metadata": {
        "id": "cyic5M7ghG9G"
      },
      "source": [
        "# Trying with together.ai"
      ]
    },
    {
      "cell_type": "code",
      "execution_count": 1,
      "metadata": {
        "colab": {
          "base_uri": "https://localhost:8080/"
        },
        "id": "GM5LJw85i0AL",
        "outputId": "e8ddb5bc-141d-4a0c-ac8b-bc986477bae3"
      },
      "outputs": [
        {
          "name": "stdout",
          "output_type": "stream",
          "text": [
            "Requirement already satisfied: together in /usr/local/lib/python3.10/dist-packages (1.1.5)\n",
            "Requirement already satisfied: aiohttp<4.0.0,>=3.9.3 in /usr/local/lib/python3.10/dist-packages (from together) (3.9.5)\n",
            "Requirement already satisfied: click<9.0.0,>=8.1.7 in /usr/local/lib/python3.10/dist-packages (from together) (8.1.7)\n",
            "Requirement already satisfied: eval-type-backport<0.3.0,>=0.1.3 in /usr/local/lib/python3.10/dist-packages (from together) (0.2.0)\n",
            "Requirement already satisfied: filelock<4.0.0,>=3.13.1 in /usr/local/lib/python3.10/dist-packages (from together) (3.14.0)\n",
            "Requirement already satisfied: numpy>=1.23.5 in /usr/local/lib/python3.10/dist-packages (from together) (1.25.2)\n",
            "Requirement already satisfied: pillow<11.0.0,>=10.3.0 in /usr/local/lib/python3.10/dist-packages (from together) (10.3.0)\n",
            "Requirement already satisfied: pyarrow>=10.0.1 in /usr/local/lib/python3.10/dist-packages (from together) (14.0.2)\n",
            "Requirement already satisfied: pydantic<3.0.0,>=2.6.3 in /usr/local/lib/python3.10/dist-packages (from together) (2.7.1)\n",
            "Requirement already satisfied: requests<3.0.0,>=2.31.0 in /usr/local/lib/python3.10/dist-packages (from together) (2.31.0)\n",
            "Requirement already satisfied: tabulate<0.10.0,>=0.9.0 in /usr/local/lib/python3.10/dist-packages (from together) (0.9.0)\n",
            "Requirement already satisfied: tqdm<5.0.0,>=4.66.2 in /usr/local/lib/python3.10/dist-packages (from together) (4.66.4)\n",
            "Requirement already satisfied: typer<0.13,>=0.9 in /usr/local/lib/python3.10/dist-packages (from together) (0.9.4)\n",
            "Requirement already satisfied: aiosignal>=1.1.2 in /usr/local/lib/python3.10/dist-packages (from aiohttp<4.0.0,>=3.9.3->together) (1.3.1)\n",
            "Requirement already satisfied: attrs>=17.3.0 in /usr/local/lib/python3.10/dist-packages (from aiohttp<4.0.0,>=3.9.3->together) (23.2.0)\n",
            "Requirement already satisfied: frozenlist>=1.1.1 in /usr/local/lib/python3.10/dist-packages (from aiohttp<4.0.0,>=3.9.3->together) (1.4.1)\n",
            "Requirement already satisfied: multidict<7.0,>=4.5 in /usr/local/lib/python3.10/dist-packages (from aiohttp<4.0.0,>=3.9.3->together) (6.0.5)\n",
            "Requirement already satisfied: yarl<2.0,>=1.0 in /usr/local/lib/python3.10/dist-packages (from aiohttp<4.0.0,>=3.9.3->together) (1.9.4)\n",
            "Requirement already satisfied: async-timeout<5.0,>=4.0 in /usr/local/lib/python3.10/dist-packages (from aiohttp<4.0.0,>=3.9.3->together) (4.0.3)\n",
            "Requirement already satisfied: annotated-types>=0.4.0 in /usr/local/lib/python3.10/dist-packages (from pydantic<3.0.0,>=2.6.3->together) (0.6.0)\n",
            "Requirement already satisfied: pydantic-core==2.18.2 in /usr/local/lib/python3.10/dist-packages (from pydantic<3.0.0,>=2.6.3->together) (2.18.2)\n",
            "Requirement already satisfied: typing-extensions>=4.6.1 in /usr/local/lib/python3.10/dist-packages (from pydantic<3.0.0,>=2.6.3->together) (4.11.0)\n",
            "Requirement already satisfied: charset-normalizer<4,>=2 in /usr/local/lib/python3.10/dist-packages (from requests<3.0.0,>=2.31.0->together) (3.3.2)\n",
            "Requirement already satisfied: idna<4,>=2.5 in /usr/local/lib/python3.10/dist-packages (from requests<3.0.0,>=2.31.0->together) (3.7)\n",
            "Requirement already satisfied: urllib3<3,>=1.21.1 in /usr/local/lib/python3.10/dist-packages (from requests<3.0.0,>=2.31.0->together) (2.0.7)\n",
            "Requirement already satisfied: certifi>=2017.4.17 in /usr/local/lib/python3.10/dist-packages (from requests<3.0.0,>=2.31.0->together) (2024.2.2)\n"
          ]
        }
      ],
      "source": [
        "!pip3 install --upgrade together\n",
        "\n",
        "# !pip3 install together"
      ]
    },
    {
      "cell_type": "code",
      "execution_count": null,
      "metadata": {
        "id": "z0OtR8tYi6o2"
      },
      "outputs": [],
      "source": [
        "# Don't Run This\n",
        "\n",
        "# import os\n",
        "# from together import Together\n",
        "\n",
        "# TOGETHER_API_KEY = <TOGETHER_API_KEY>\n",
        "\n",
        "# client = Together(api_key = TOGETHER_API_KEY)\n",
        "\n",
        "# response = client.completions.create(\n",
        "#     model=\"codellama/CodeLlama-34b-Python-hf\",\n",
        "#     prompt=\"Write a Next.js component with TailwindCSS for a header component.\",\n",
        "# )\n",
        "\n",
        "# print(response.choices[0].text)"
      ]
    },
    {
      "cell_type": "code",
      "execution_count": 5,
      "metadata": {
        "id": "44pvv4YQhLTV"
      },
      "outputs": [],
      "source": [
        "import os\n",
        "import time\n",
        "import json\n",
        "from together import Together\n",
        "\n",
        "# Function to generate description using Together.ai Language Model\n",
        "def generate_description(prompt):\n",
        "    client = Together(api_key = <TOGETHER_API_KEY>)\n",
        "\n",
        "    response = client.completions.create(\n",
        "      # model = \"codellama/CodeLlama-34b-Python-hf\",\n",
        "      # model = \"codellama/CodeLlama-34b-Instruct-hf\",\n",
        "      model = \"Phind/Phind-CodeLlama-34B-v2\",\n",
        "      prompt = prompt,\n",
        "    )\n",
        "\n",
        "    # print(response.choices[0].text)\n",
        "\n",
        "    return response.choices[0].text\n",
        "    # return response\n",
        "\n",
        "\n",
        "# Load JSON file\n",
        "with open('movies.json', 'r') as f:\n",
        "    data = json.load(f)\n",
        "\n",
        "# Extract field names and descriptions\n",
        "fields = data['fields']\n",
        "field_descriptions = {key: value.get('description', '') for key, value in fields.items()}"
      ]
    },
    {
      "cell_type": "code",
      "execution_count": 11,
      "metadata": {
        "colab": {
          "base_uri": "https://localhost:8080/"
        },
        "id": "uJe9znns6lqW",
        "outputId": "5e05ae43-100c-4ca3-d4d1-e890da4d6421"
      },
      "outputs": [
        {
          "name": "stdout",
          "output_type": "stream",
          "text": [
            "_id\n",
            "plot\n",
            "genres\n",
            "runtime\n",
            "cast\n",
            "poster\n",
            "title\n",
            "fullplot\n",
            "languages\n",
            "released\n",
            "directors\n",
            "rated\n",
            "awards\n",
            "lastupdated\n",
            "year\n",
            "imdb\n",
            "countries\n",
            "type\n",
            "tomatoes\n",
            "num_mflix_comments\n"
          ]
        }
      ],
      "source": [
        "# Generate description for each field with rate limiting\n",
        "field_generated_descriptions = {}\n",
        "for key, value in field_descriptions.items():\n",
        "  # prompt_str = f\"\"\"Generate a single line description for the {key} field such that it gives the meaning of the field in the context of movies. Limit number of words generated to 10 words.\n",
        "  #               For example: if key is 'tomatoes' give the description like 'Rotten Tomatoes specific information.',\n",
        "  #               if key is 'runtime' give the description like 'The runtime of the movie in minutes.'\n",
        "  #               Don't consider a database. Give a general description for the key such that it suits for any movie taken\"\"\"\n",
        "\n",
        "  # prompt_str = f\"\"\"Generate a single line description for the {key} field such that it gives the meaning of the field in the context of movies.\n",
        "  # Don't generate code or many contents. Give a single sentence as output\"\"\"\n",
        "\n",
        "  # prompt_str = f\"\"\"Give a single line description for the {key} field such that it gives the meaning of the field in the context of movies. Limit number of words generated to 10 words\"\"\"\n",
        "\n",
        "  prompt_str = f\"\"\"Give a single line description for the meaning of {key} field in the context of movies. Limit number of words generated to 10 words. Don't generate extra contents\"\"\"\n",
        "\n",
        "  print(key)\n",
        "\n",
        "  description = generate_description(prompt_str)\n",
        "  field_generated_descriptions[key] = description"
      ]
    },
    {
      "cell_type": "code",
      "execution_count": 12,
      "metadata": {
        "colab": {
          "base_uri": "https://localhost:8080/"
        },
        "id": "bzRodWl12U1l",
        "outputId": "d0642751-a2ae-488c-a1cb-42f00f7956c9"
      },
      "outputs": [
        {
          "name": "stdout",
          "output_type": "stream",
          "text": [
            "Final Descriptions:\n",
            "_id\n",
            "._The _id field represents the unique identifier for each movie in the context of movies.\n",
            "plot\n",
            ".The plot field in the context of movies refers to the main events and developments that occur in the storyline of a film.\n",
            "genres\n",
            ".The genres field in the context of movies refers to the classification of films based on their themes, styles, or storylines.\n",
            "runtime\n",
            ".runtime field refers to the duration of a movie, usually expressed in minutes.\n",
            "cast\n",
            ".cast field in movies context refers to the actors or actresses who portray the characters in the film.\n",
            "poster\n",
            ".The poster field in the context of movies refers to a promotional image or visual representation of the movie, typically showcasing the main actors or a scene from the film.\n",
            "title\n",
            ".The title field represents the name of the movie in the context of movies.\n",
            "fullplot\n",
            ".The fullplot field in the context of movies refers to a comprehensive summary of the movie's storyline, including its characters, setting, and main events.\n",
            "languages\n",
            ".The languages field in the context of movies refers to the audio languages available for the movie.\n",
            "released\n",
            ".The released field in the context of movies refers to the date when the movie was made available to the public for viewing.\n",
            "directors\n",
            ".The directors field in the context of movies refers to the individuals responsible for the creative and artistic aspects of the film.\n",
            "rated\n",
            ".The rated field in the context of movies refers to the content rating or age restriction assigned to the movie by the regulatory body.\n",
            "awards\n",
            ".The awards field in the context of movies refers to the accolades and recognitions received by a film.\n",
            "lastupdated\n",
            ".The lastupdated field indicates the most recent date when the movie's information was modified.\n",
            "year\n",
            ".The year field indicates the release year of the movie in the context of movies.\n",
            "imdb\n",
            ".The IMDb field in the context of movies refers to the Internet Movie Database, an online database of movie-related information.\n",
            "countries\n",
            ".The countries field in the context of movies refers to the production countries where the movie was filmed and released.\n",
            "type\n",
            ".The type field in the context of movies refers to the genre or category of the movie.\n",
            "tomatoes\n",
            ".The task is to generate a single line description for the meaning of the \"tomatoes\" field in the context of movies. The field \"tomatoes\" refers to the ratings and reviews given by the movie-goers on a particular movie. It is a subfield of the movie's ratings and reviews system, which is called \"Tomatometer\".\n",
            "num_mflix_comments\n",
            ".The num_mflix_comments field represents the number of comments associated with a movie in the MFlix database.\n"
          ]
        }
      ],
      "source": [
        "# Print final descriptions\n",
        "print(\"Final Descriptions:\")\n",
        "\n",
        "for key, value in field_generated_descriptions.items():\n",
        "  print(key)\n",
        "  print(value)"
      ]
    },
    {
      "cell_type": "code",
      "execution_count": 13,
      "metadata": {
        "colab": {
          "base_uri": "https://localhost:8080/"
        },
        "id": "xehFh8rgGuVO",
        "outputId": "d0f083f4-a322-4ad8-f972-056790d54c0e"
      },
      "outputs": [
        {
          "name": "stdout",
          "output_type": "stream",
          "text": [
            "Keys: ['_id', 'plot', 'genres', 'runtime', 'cast', 'poster', 'title', 'fullplot', 'languages', 'released', 'directors', 'rated', 'awards', 'lastupdated', 'year', 'imdb', 'countries', 'type', 'tomatoes', 'num_mflix_comments']\n",
            "Values: ['._The _id field represents the unique identifier for each movie in the context of movies.', '.The plot field in the context of movies refers to the main events and developments that occur in the storyline of a film.', '.The genres field in the context of movies refers to the classification of films based on their themes, styles, or storylines.', '.runtime field refers to the duration of a movie, usually expressed in minutes.', '.cast field in movies context refers to the actors or actresses who portray the characters in the film.', '.The poster field in the context of movies refers to a promotional image or visual representation of the movie, typically showcasing the main actors or a scene from the film.', '.The title field represents the name of the movie in the context of movies.', \".The fullplot field in the context of movies refers to a comprehensive summary of the movie's storyline, including its characters, setting, and main events.\", '.The languages field in the context of movies refers to the audio languages available for the movie.', '.The released field in the context of movies refers to the date when the movie was made available to the public for viewing.', '.The directors field in the context of movies refers to the individuals responsible for the creative and artistic aspects of the film.', '.The rated field in the context of movies refers to the content rating or age restriction assigned to the movie by the regulatory body.', '.The awards field in the context of movies refers to the accolades and recognitions received by a film.', \".The lastupdated field indicates the most recent date when the movie's information was modified.\", '.The year field indicates the release year of the movie in the context of movies.', '.The IMDb field in the context of movies refers to the Internet Movie Database, an online database of movie-related information.', '.The countries field in the context of movies refers to the production countries where the movie was filmed and released.', '.The type field in the context of movies refers to the genre or category of the movie.', '.The task is to generate a single line description for the meaning of the \"tomatoes\" field in the context of movies. The field \"tomatoes\" refers to the ratings and reviews given by the movie-goers on a particular movie. It is a subfield of the movie\\'s ratings and reviews system, which is called \"Tomatometer\".', '.The num_mflix_comments field represents the number of comments associated with a movie in the MFlix database.']\n"
          ]
        }
      ],
      "source": [
        "# Separate keys and values\n",
        "keys = list(field_generated_descriptions.keys())\n",
        "values = list(field_generated_descriptions.values())\n",
        "\n",
        "# Print keys and values\n",
        "print(\"Keys:\", keys)\n",
        "print(\"Values:\", values)"
      ]
    },
    {
      "cell_type": "code",
      "execution_count": 14,
      "metadata": {
        "colab": {
          "base_uri": "https://localhost:8080/"
        },
        "id": "qY3_64gUGu6t",
        "outputId": "e79fdfc2-1df0-4eb9-d26c-ee6e7e64b120"
      },
      "outputs": [
        {
          "name": "stdout",
          "output_type": "stream",
          "text": [
            "Descriptions updated and written to movies_new_together_ai.json file.\n"
          ]
        }
      ],
      "source": [
        "import json\n",
        "\n",
        "# Read data from movies.json file\n",
        "with open('movies.json', 'r') as f:\n",
        "    existing_json_data = json.load(f)\n",
        "\n",
        "# Update the JSON data with descriptions\n",
        "for field, description in field_generated_descriptions.items():\n",
        "    existing_json_data[\"fields\"][field][\"description\"] = description\n",
        "\n",
        "# Write the updated JSON data back to the file\n",
        "with open('movies_new_together_ai.json', 'w') as f:\n",
        "    json.dump(existing_json_data, f, indent=4)\n",
        "\n",
        "# print(existing_json_data)\n",
        "\n",
        "print(\"Descriptions updated and written to movies_new_together_ai.json file.\")"
      ]
    },
    {
      "cell_type": "markdown",
      "metadata": {
        "id": "nlW6bI2dE4VK"
      },
      "source": [
        "# BERT Embedding and Cosine Similarity"
      ]
    },
    {
      "cell_type": "code",
      "execution_count": 2,
      "metadata": {
        "colab": {
          "base_uri": "https://localhost:8080/"
        },
        "id": "Cv4IPaJxE9dq",
        "outputId": "f89be20b-cdc1-496b-cf13-4f6eaa09c444"
      },
      "outputs": [
        {
          "name": "stdout",
          "output_type": "stream",
          "text": [
            "Requirement already satisfied: transformers in /usr/local/lib/python3.10/dist-packages (4.40.1)\n",
            "Requirement already satisfied: scikit-learn in /usr/local/lib/python3.10/dist-packages (1.2.2)\n",
            "Requirement already satisfied: filelock in /usr/local/lib/python3.10/dist-packages (from transformers) (3.14.0)\n",
            "Requirement already satisfied: huggingface-hub<1.0,>=0.19.3 in /usr/local/lib/python3.10/dist-packages (from transformers) (0.20.3)\n",
            "Requirement already satisfied: numpy>=1.17 in /usr/local/lib/python3.10/dist-packages (from transformers) (1.25.2)\n",
            "Requirement already satisfied: packaging>=20.0 in /usr/local/lib/python3.10/dist-packages (from transformers) (24.0)\n",
            "Requirement already satisfied: pyyaml>=5.1 in /usr/local/lib/python3.10/dist-packages (from transformers) (6.0.1)\n",
            "Requirement already satisfied: regex!=2019.12.17 in /usr/local/lib/python3.10/dist-packages (from transformers) (2023.12.25)\n",
            "Requirement already satisfied: requests in /usr/local/lib/python3.10/dist-packages (from transformers) (2.31.0)\n",
            "Requirement already satisfied: tokenizers<0.20,>=0.19 in /usr/local/lib/python3.10/dist-packages (from transformers) (0.19.1)\n",
            "Requirement already satisfied: safetensors>=0.4.1 in /usr/local/lib/python3.10/dist-packages (from transformers) (0.4.3)\n",
            "Requirement already satisfied: tqdm>=4.27 in /usr/local/lib/python3.10/dist-packages (from transformers) (4.66.4)\n",
            "Requirement already satisfied: scipy>=1.3.2 in /usr/local/lib/python3.10/dist-packages (from scikit-learn) (1.11.4)\n",
            "Requirement already satisfied: joblib>=1.1.1 in /usr/local/lib/python3.10/dist-packages (from scikit-learn) (1.4.2)\n",
            "Requirement already satisfied: threadpoolctl>=2.0.0 in /usr/local/lib/python3.10/dist-packages (from scikit-learn) (3.5.0)\n",
            "Requirement already satisfied: fsspec>=2023.5.0 in /usr/local/lib/python3.10/dist-packages (from huggingface-hub<1.0,>=0.19.3->transformers) (2023.6.0)\n",
            "Requirement already satisfied: typing-extensions>=3.7.4.3 in /usr/local/lib/python3.10/dist-packages (from huggingface-hub<1.0,>=0.19.3->transformers) (4.11.0)\n",
            "Requirement already satisfied: charset-normalizer<4,>=2 in /usr/local/lib/python3.10/dist-packages (from requests->transformers) (3.3.2)\n",
            "Requirement already satisfied: idna<4,>=2.5 in /usr/local/lib/python3.10/dist-packages (from requests->transformers) (3.7)\n",
            "Requirement already satisfied: urllib3<3,>=1.21.1 in /usr/local/lib/python3.10/dist-packages (from requests->transformers) (2.0.7)\n",
            "Requirement already satisfied: certifi>=2017.4.17 in /usr/local/lib/python3.10/dist-packages (from requests->transformers) (2024.2.2)\n"
          ]
        }
      ],
      "source": [
        "!pip install transformers scikit-learn"
      ]
    },
    {
      "cell_type": "code",
      "execution_count": 3,
      "metadata": {
        "id": "RgFcudL4FRuK"
      },
      "outputs": [],
      "source": [
        "import torch\n",
        "from transformers import BertTokenizer, BertModel\n",
        "from sklearn.metrics.pairwise import cosine_similarity\n",
        "import json\n",
        "import unittest"
      ]
    },
    {
      "cell_type": "code",
      "execution_count": 29,
      "metadata": {
        "colab": {
          "base_uri": "https://localhost:8080/"
        },
        "id": "KztFYYQZVFVN",
        "outputId": "9104f22f-6f46-44db-95a9-ad47bdf6dc0d"
      },
      "outputs": [
        {
          "name": "stdout",
          "output_type": "stream",
          "text": [
            "Cosine Similarity between movie descriptions: 0.8486945629119873\n",
            "Cosine Similarity between movie descriptions: 0.7991851568222046\n",
            "Cosine Similarity between movie descriptions: 0.7245012521743774\n",
            "Cosine Similarity between movie descriptions: 0.7719172835350037\n",
            "Cosine Similarity between movie descriptions: 0.8596510887145996\n",
            "Cosine Similarity between movie descriptions: 0.6955277323722839\n",
            "Cosine Similarity between movie descriptions: 0.8798936605453491\n",
            "Cosine Similarity between movie descriptions: 0.8048529624938965\n",
            "Cosine Similarity between movie descriptions: 0.7927318811416626\n",
            "Cosine Similarity between movie descriptions: 0.7694969773292542\n",
            "Cosine Similarity between movie descriptions: 0.8115817308425903\n",
            "Cosine Similarity between movie descriptions: 0.7189486026763916\n",
            "Cosine Similarity between movie descriptions: 0.7836775779724121\n",
            "Cosine Similarity between movie descriptions: 0.8522384166717529\n",
            "Cosine Similarity between movie descriptions: 0.883621335029602\n",
            "Cosine Similarity between movie descriptions: 0.6957374811172485\n",
            "Cosine Similarity between movie descriptions: 0.8710101246833801\n",
            "Cosine Similarity between movie descriptions: 0.858456552028656\n",
            "Cosine Similarity between movie descriptions: 0.5797776579856873\n"
          ]
        },
        {
          "name": "stderr",
          "output_type": "stream",
          "text": [
            ".\n",
            "----------------------------------------------------------------------\n",
            "Ran 1 test in 7.495s\n",
            "\n",
            "OK\n"
          ]
        },
        {
          "name": "stdout",
          "output_type": "stream",
          "text": [
            "Cosine Similarity between movie descriptions: 0.7713451385498047\n"
          ]
        }
      ],
      "source": [
        "class TestMovieDescriptionSimilarity(unittest.TestCase):\n",
        "    def setUp(self):\n",
        "        # Load movies JSON data\n",
        "        with open('movies_json.json', 'r') as f1, open('movies_new_together_ai.json', 'r') as f2:\n",
        "            self.movies_data_1 = json.load(f1)\n",
        "            self.movies_data_2 = json.load(f2)\n",
        "\n",
        "            # print(self.movies_data_1)\n",
        "            # print(self.movies_data_2)\n",
        "\n",
        "        # Initialize BERT tokenizer and model\n",
        "        self.tokenizer = BertTokenizer.from_pretrained('bert-base-uncased')\n",
        "        self.model = BertModel.from_pretrained('bert-base-uncased')\n",
        "        self.model.eval()\n",
        "\n",
        "    def test_movie_description_similarity(self):\n",
        "        movie_desc_ref = []\n",
        "        movie_desc_together = []\n",
        "\n",
        "        # Extracting descriptions of movies_json.json\n",
        "        fields_ref = self.movies_data_1['collections']['movies']['fields']\n",
        "        for field, info in fields_ref.items():\n",
        "            # print(f\"Field: {field}\")\n",
        "            # print(f\"Description: {info['description']}\\n\")\n",
        "            movie_desc_ref.append(info['description'])\n",
        "\n",
        "        # Extracting descriptions of movies_new_together_ai.json\n",
        "        fields_together = self.movies_data_2['fields']\n",
        "        for field, info in fields_together.items():\n",
        "            # print(f\"Field: {field}\")\n",
        "            # print(f\"Description: {info['description']}\\n\")\n",
        "            movie_desc_together.append(info['description'])\n",
        "\n",
        "        # print(movie_desc_ref)\n",
        "        # print(movie_desc_together)\n",
        "\n",
        "\n",
        "\n",
        "        for movie1, movie2 in zip(movie_desc_ref, movie_desc_together):\n",
        "            # print(movie1)\n",
        "            # print(movie2)\n",
        "            movie_desc_1 = movie1\n",
        "            movie_desc_2 = movie2\n",
        "\n",
        "            # Check if both descriptions are strings\n",
        "            self.assertIsInstance(movie_desc_1, str)\n",
        "            self.assertIsInstance(movie_desc_2, str)\n",
        "\n",
        "            movie_desc_embedding_1 = self._calculate_bert_embedding(movie_desc_1)\n",
        "            movie_desc_embedding_2 = self._calculate_bert_embedding(movie_desc_2)\n",
        "\n",
        "            # Ensure that description embeddings are not empty\n",
        "            # self.assertNotEqual(movie_desc_embedding_1, [])\n",
        "            # self.assertNotEqual(movie_desc_embedding_2, [])\n",
        "\n",
        "            # Calculate cosine similarity between embeddings\n",
        "            similarity = self._calculate_cosine_similarity(movie_desc_embedding_1, movie_desc_embedding_2)\n",
        "            print(f\"Cosine Similarity between movie descriptions: {similarity}\")\n",
        "            self.assertTrue(similarity > 0.5, f\"Similarity between movie descriptions is too low: {similarity}\")\n",
        "\n",
        "    def _calculate_bert_embedding(self, text):\n",
        "        tokens = self.tokenizer.tokenize(text)\n",
        "        tokens = ['[CLS]'] + tokens + ['[SEP]']\n",
        "        token_ids = self.tokenizer.convert_tokens_to_ids(tokens)\n",
        "        token_tensor = torch.tensor([token_ids])\n",
        "\n",
        "        with torch.no_grad():\n",
        "            outputs = self.model(token_tensor)\n",
        "\n",
        "        last_hidden_states = outputs[0]\n",
        "        cls_embedding = last_hidden_states[:, 0, :].numpy()  # Convert to numpy array\n",
        "        return cls_embedding\n",
        "\n",
        "    def _calculate_cosine_similarity(self, vec1, vec2):\n",
        "        return cosine_similarity(vec1, vec2)[0][0]\n",
        "\n",
        "# Since Google Colab doesn't support running unittest.TestCase directly, we'll manually run the tests\n",
        "test_runner = unittest.TextTestRunner()\n",
        "suite = unittest.TestLoader().loadTestsFromTestCase(TestMovieDescriptionSimilarity)\n",
        "result = test_runner.run(suite)\n"
      ]
    },
    {
      "cell_type": "code",
      "execution_count": null,
      "metadata": {
        "id": "q-5OWCFDFOjU"
      },
      "outputs": [],
      "source": [
        "# class TestMovieDescriptionSimilarity(unittest.TestCase):\n",
        "#     def setUp():\n",
        "#         # Load movies JSON data\n",
        "#         with open('movies.json', 'r') as f1, open('movies_new_together_ai.json', 'r') as f2:\n",
        "#             movies_data_1 = json.load(f1)\n",
        "#             movies_data_2 = json.load(f2)\n",
        "\n",
        "#         # Initialize BERT tokenizer and model\n",
        "#         tokenizer = BertTokenizer.from_pretrained('bert-base-uncased')\n",
        "#         model = BertModel.from_pretrained('bert-base-uncased')\n",
        "\n",
        "#         return movies_data_1, movies_data_2, tokenizer, model\n",
        "\n",
        "#     def test_movie_description_similarity():\n",
        "#         movies_data_1, movies_data_2, tokenizer, model = TestMovieDescriptionSimilarity.setUp()\n",
        "\n",
        "#         for movie1, movie2 in zip(movies_data_1, movies_data_2):\n",
        "#             # field = \"description\"\n",
        "\n",
        "#             print(\"Movie 1:\\n\", movie1[\"fields\"][field][\"description\"])\n",
        "#             print(\"Movie 2:\\n\", movie2[\"fields\"][field][\"description\"])\n",
        "\n",
        "#             movie_desc_1 = movie1[\"fields\"][field][\"description\"]\n",
        "#             movie_desc_2 = movie2[\"fields\"][field][\"description\"]\n",
        "\n",
        "#             # Check if both descriptions are strings\n",
        "#             assert isinstance(movie_desc_1, str)\n",
        "#             assert isinstance(movie_desc_2, str)\n",
        "\n",
        "#             movie_desc_embedding_1 = _calculate_bert_embedding(movie_desc_1, tokenizer, model)\n",
        "#             movie_desc_embedding_2 = _calculate_bert_embedding(movie_desc_2, tokenizer, model)\n",
        "\n",
        "#             # Ensure that description embeddings are not empty\n",
        "#             assert movie_desc_embedding_1 != []\n",
        "#             assert movie_desc_embedding_2 != []\n",
        "\n",
        "#             # Calculate cosine similarity between embeddings\n",
        "#             similarity = _calculate_cosine_similarity(movie_desc_embedding_1, movie_desc_embedding_2)\n",
        "#             print(f\"Cosine Similarity between movie descriptions: {similarity}\")\n",
        "#             assert similarity > 0.5, f\"Similarity between movie descriptions is too low: {similarity}\"\n",
        "\n",
        "# def _calculate_bert_embedding(text, tokenizer, model):\n",
        "#     tokens = tokenizer.tokenize(text)\n",
        "#     tokens = ['[CLS]'] + tokens + ['[SEP]']\n",
        "#     token_ids = tokenizer.convert_tokens_to_ids(tokens)\n",
        "#     token_tensor = torch.tensor([token_ids])\n",
        "\n",
        "#     with torch.no_grad():\n",
        "#         outputs = model(token_tensor)\n",
        "\n",
        "#     last_hidden_states = outputs[0]\n",
        "#     cls_embedding = last_hidden_states[:, 0, :].numpy()  # Convert to numpy array\n",
        "#     return cls_embedding\n",
        "\n",
        "# def _calculate_cosine_similarity(vec1, vec2):\n",
        "#     return cosine_similarity(vec1, vec2)[0][0]\n",
        "\n",
        "# # Manually run the tests\n",
        "# unittest.main()\n",
        "\n"
      ]
    },
    {
      "cell_type": "markdown",
      "metadata": {
        "id": "rzqT3d1CFwyI"
      },
      "source": [
        "# Trial & Error - Don't Run This"
      ]
    },
    {
      "cell_type": "code",
      "execution_count": null,
      "metadata": {
        "id": "X8WVOCHk2jVz"
      },
      "outputs": [],
      "source": [
        "import os\n",
        "import time\n",
        "import json\n",
        "from openai import OpenAI\n",
        "\n",
        "# Function to generate description using OpenAI Language Model\n",
        "def generate_description(prompt):\n",
        "    client = OpenAI(\n",
        "        api_key=<OPENAI_API_KEY>,\n",
        "    )\n",
        "\n",
        "    chat_completion = client.chat.completions.create(\n",
        "        model=\"gpt-3.5-turbo\",\n",
        "        messages=[\n",
        "            {\n",
        "                \"role\": \"user\",\n",
        "                \"content\": prompt,\n",
        "            }\n",
        "        ],\n",
        "        max_tokens=50\n",
        "    )\n",
        "\n",
        "    return chat_completion.data.text\n",
        "\n",
        "# Load JSON file\n",
        "with open('movies.json', 'r') as f:\n",
        "    data = json.load(f)\n",
        "\n",
        "# Extract field names and descriptions\n",
        "fields = data['fields']\n",
        "field_descriptions = {key: value.get('description', '') for key, value in fields.items()}\n",
        "\n",
        "# Generate description for each field with rate limiting\n",
        "field_generated_descriptions = {}\n",
        "for key, value in field_descriptions.items():\n",
        "    description = generate_description(f\"Generate a description for the {key} field: {value}\")\n",
        "    field_generated_descriptions[key] = description.split(':', 1)[-1].strip() if description else \"\"  # Extract content part\n",
        "    time.sleep(60 / 200)  # Delay to respect the RPD limit (200 requests per minute)\n",
        "\n",
        "# Print final descriptions\n",
        "print(\"Final Descriptions:\")\n",
        "print(field_generated_descriptions)"
      ]
    },
    {
      "cell_type": "code",
      "execution_count": null,
      "metadata": {
        "id": "Qk14ZfcS2ubd"
      },
      "outputs": [],
      "source": [
        "import os\n",
        "import time\n",
        "from openai import OpenAI\n",
        "\n",
        "# Function to generate description using OpenAI Language Model\n",
        "def generate_description(prompt):\n",
        "    client = OpenAI(\n",
        "        api_key=<OPENAI_API_KEY>,\n",
        "    )\n",
        "\n",
        "    chat_completion = client.chat.completions.create(\n",
        "        model=\"gpt-3.5-turbo\",\n",
        "        messages=[\n",
        "            {\n",
        "                \"role\": \"user\",\n",
        "                \"content\": prompt,\n",
        "            }\n",
        "        ],\n",
        "        max_tokens=50\n",
        "    )\n",
        "\n",
        "    return chat_completion.choices[0].message['content']\n",
        "\n",
        "# Load JSON file\n",
        "with open('movies.json', 'r') as f:\n",
        "    data = json.load(f)\n",
        "\n",
        "# Extract field names and descriptions\n",
        "fields = data['fields']\n",
        "field_descriptions = {key: value.get('description', '') for key, value in fields.items()}\n",
        "\n",
        "# Generate description for each field with rate limiting\n",
        "field_generated_descriptions = {}\n",
        "for key, value in field_descriptions.items():\n",
        "    description = generate_description(f\"Generate a description for the {key} field: {value}\")\n",
        "    field_generated_descriptions[key] = description.split(':', 1)[-1].strip()  # Extract content part\n",
        "    time.sleep(60 / 200)  # Delay to respect the RPD limit (200 requests per minute)\n",
        "\n",
        "# Create a final description combining all field descriptions\n",
        "final_description = \" \".join(field_generated_descriptions.values())\n",
        "\n",
        "# Print final description\n",
        "print(\"Final Description:\", final_description)\n"
      ]
    },
    {
      "cell_type": "code",
      "execution_count": null,
      "metadata": {
        "colab": {
          "base_uri": "https://localhost:8080/"
        },
        "id": "64AJ3GWKvgsC",
        "outputId": "f113f9eb-f43d-469d-d9f3-06aaeda8fc75"
      },
      "outputs": [
        {
          "name": "stdout",
          "output_type": "stream",
          "text": [
            "Extracted Content: Unique identifier for each document in a database collection.\n"
          ]
        }
      ],
      "source": [
        "import re\n",
        "\n",
        "# Provided output\n",
        "output_text = \"ChatCompletion(id='chatcmpl-9LZaHgLkyeosjEamDYNusxNKMY704', choices=[Choice(finish_reason='stop', index=0, logprobs=None, message=ChatCompletionMessage(content='Unique identifier for each document in a database collection.', role='assistant', function_call=None, tool_calls=None))], created=1714928701, model='gpt-3.5-turbo-0125', object='chat.completion', system_fingerprint='fp_3b956da36b', usage=CompletionUsage(completion_tokens=10, prompt_tokens=19, total_tokens=29))\"\n",
        "\n",
        "# Use regular expressions to extract the content\n",
        "content_match = re.search(r\"content='(.*?)'\", output_text)\n",
        "\n",
        "if content_match:\n",
        "    content = content_match.group(1)\n",
        "    print(\"Extracted Content:\", content)\n",
        "else:\n",
        "    print(\"No content found.\")\n"
      ]
    },
    {
      "cell_type": "code",
      "execution_count": null,
      "metadata": {
        "id": "EFLB6lzKnggG"
      },
      "outputs": [],
      "source": [
        "# Create a final description combining all field descriptions\n",
        "final_description = \" \".join(field_generated_descriptions.values())\n",
        "\n",
        "# Print final description\n",
        "print(\"Final Description:\", final_description)"
      ]
    },
    {
      "cell_type": "markdown",
      "metadata": {
        "id": "wNRwX_Aa2q8M"
      },
      "source": [
        "BERT Embedding"
      ]
    },
    {
      "cell_type": "code",
      "execution_count": 11,
      "metadata": {
        "colab": {
          "base_uri": "https://localhost:8080/",
          "height": 1000,
          "referenced_widgets": [
            "ef2deec0b1cc42d6b81b1bccef7acbb4",
            "77ba65fee37446d28bef970c5559e5f9",
            "0ddd2e8249a64e1eb515be9c713c433f",
            "a45644e47a694bbeaf36e05142d47a38",
            "dee61b791e474846b0fe5a717336af81",
            "84edf946fffa464d85b79e813216c66f",
            "0f601994f62f4befbaa1694a2b9f9727",
            "7789f4ce83f24ca7a36a1fe93bc64dc0",
            "5597922a3f9a43de90f101b4e7b50aec",
            "d28320e593fe4af4948802ad82f8d206",
            "e3b881bc44dc4989a52fc70cbd519a68",
            "77f2c8ad8149447a94c7fc8f36dda563",
            "5e3bdfa2bda1488cb2fbe1bfda4a24ef",
            "4e02645969204cc99b48b3944aefad04",
            "f102c528148d4c548c52ab9d118deb04",
            "0a1f6a4fdbb141c1945dbd471cbe09ed",
            "2f298775317e4a3091292d633494a1ef",
            "83a84045553b46de9a1f4f81c0eb881e",
            "94da92103b8a48b7bb52d9e9d6cea749",
            "6e0807b72a1f443b877f7a7784c84f35",
            "7c3b23f62d3543fa9a5c2b571f697b1e",
            "21e96809661844e4972beee75aae9d64",
            "978264bfa22c46c7987fd915209117d5",
            "f0dff21b05c84476b554f1b037aced67",
            "488073242d79438b921bfe95a6b07f40",
            "1a358ca7199841c0a169b466d55218cb",
            "743b617685bc4816938ad2a1b52fdbc7",
            "114b5fbd899e46d9bcd4b9f9ec8d191b",
            "07f4d02971aa45a79aa26cfa20792632",
            "487c4dd43ba54d3db907d32cd484a1a1",
            "6dcbc61c844c4d34b4d8183b3b2ca9ac",
            "4957053cd32943d7b2a5d4c91a4ff12d",
            "961fed3eb78f4909813ffee913878774",
            "e4ba32edbb894f6f9c84a636627db9ac",
            "dd10751fb75f480796025c9fcdb6966a",
            "79cd6df8ea4244028e5c8a7f552dbdec",
            "a8cac1e90eb4455ca25326e32611c1f5",
            "f91ba7956fbf4ca8b9b07c29d0841a58",
            "2ba364d818364f00a79e5df354d2f6fb",
            "9bc1b743034b439ba5891572c1cb26ad",
            "4af80132dc474f73b0178a02109c4d80",
            "4c29ca2a85954f3180e0063d698e66ad",
            "b75dc22538c7470c8fe4173dcdc3e240",
            "c9d5d1be17a74d229a6f0706d7636008",
            "6945934b0a564e97981ebd5427ae0a16",
            "8dfb109a016640bf8067386c5216e8b1",
            "45107bb16e6b4421bbebda4b0b062486",
            "79e5044b32314b73a14a31921216f26f",
            "093b3f3bec5a4c38acfaa22091cbf658",
            "9964b5f9831546b19af3d67cf8e64d8c",
            "38cecf687fb442c2a21b3c255f2de82e",
            "93b6ff98962348be9505515d1b69f406",
            "a8945d52e3ff457d93ef2b94fd08a884",
            "ec9a8a0997d943c9ba1741b4efc4e3ad",
            "d4ccb10b56ef4d0590716700b359e4c1"
          ]
        },
        "id": "dT0Q9Uv_2qD7",
        "outputId": "7c0bb7b5-6769-409e-8708-ea5be65efa0b"
      },
      "outputs": [
        {
          "name": "stderr",
          "output_type": "stream",
          "text": [
            "/usr/local/lib/python3.10/dist-packages/huggingface_hub/utils/_token.py:88: UserWarning: \n",
            "The secret `HF_TOKEN` does not exist in your Colab secrets.\n",
            "To authenticate with the Hugging Face Hub, create a token in your settings tab (https://huggingface.co/settings/tokens), set it as secret in your Google Colab and restart your session.\n",
            "You will be able to reuse this secret in all of your notebooks.\n",
            "Please note that authentication is recommended but still optional to access public models or datasets.\n",
            "  warnings.warn(\n"
          ]
        },
        {
          "data": {
            "application/vnd.jupyter.widget-view+json": {
              "model_id": "ef2deec0b1cc42d6b81b1bccef7acbb4",
              "version_major": 2,
              "version_minor": 0
            },
            "text/plain": [
              "tokenizer_config.json:   0%|          | 0.00/48.0 [00:00<?, ?B/s]"
            ]
          },
          "metadata": {},
          "output_type": "display_data"
        },
        {
          "data": {
            "application/vnd.jupyter.widget-view+json": {
              "model_id": "77f2c8ad8149447a94c7fc8f36dda563",
              "version_major": 2,
              "version_minor": 0
            },
            "text/plain": [
              "vocab.txt:   0%|          | 0.00/232k [00:00<?, ?B/s]"
            ]
          },
          "metadata": {},
          "output_type": "display_data"
        },
        {
          "data": {
            "application/vnd.jupyter.widget-view+json": {
              "model_id": "978264bfa22c46c7987fd915209117d5",
              "version_major": 2,
              "version_minor": 0
            },
            "text/plain": [
              "tokenizer.json:   0%|          | 0.00/466k [00:00<?, ?B/s]"
            ]
          },
          "metadata": {},
          "output_type": "display_data"
        },
        {
          "data": {
            "application/vnd.jupyter.widget-view+json": {
              "model_id": "e4ba32edbb894f6f9c84a636627db9ac",
              "version_major": 2,
              "version_minor": 0
            },
            "text/plain": [
              "config.json:   0%|          | 0.00/570 [00:00<?, ?B/s]"
            ]
          },
          "metadata": {},
          "output_type": "display_data"
        },
        {
          "data": {
            "application/vnd.jupyter.widget-view+json": {
              "model_id": "6945934b0a564e97981ebd5427ae0a16",
              "version_major": 2,
              "version_minor": 0
            },
            "text/plain": [
              "model.safetensors:   0%|          | 0.00/440M [00:00<?, ?B/s]"
            ]
          },
          "metadata": {},
          "output_type": "display_data"
        },
        {
          "name": "stdout",
          "output_type": "stream",
          "text": [
            "tensor([[ 1.0501e-01,  2.3739e-01, -1.9970e-02, -1.8423e-01, -2.7452e-01,\n",
            "         -4.2344e-01,  2.7119e-01,  7.4514e-01,  7.1286e-03, -2.8330e-01,\n",
            "         -1.8654e-02,  9.7414e-03,  1.7744e-01,  1.8370e-01,  2.9469e-01,\n",
            "         -8.6571e-02, -1.3720e-01,  3.8465e-01,  1.8496e-01, -8.4644e-02,\n",
            "         -7.5815e-02, -1.9936e-01, -1.5177e-03, -1.0480e-01,  2.5557e-01,\n",
            "         -2.4288e-01,  1.3063e-01,  3.8064e-02,  1.7991e-01, -4.0952e-02,\n",
            "          3.2467e-02,  1.2837e-01, -5.5229e-02,  3.3944e-02,  2.8307e-02,\n",
            "         -1.0063e-01, -1.1154e-01, -1.7855e-01,  1.5756e-03, -1.1465e-02,\n",
            "         -2.6244e-02, -6.8964e-02,  2.1842e-02,  1.9151e-03, -1.2272e-01,\n",
            "         -1.9624e-01, -2.6947e+00, -1.5402e-01, -2.6869e-01, -1.2473e-01,\n",
            "          3.4256e-01,  2.1459e-01,  2.1122e-01,  7.9208e-02,  5.3878e-02,\n",
            "          2.1164e-01, -3.6505e-01,  5.7705e-01, -9.7463e-02,  1.3112e-01,\n",
            "          2.2906e-01,  1.7993e-01, -2.1684e-01,  1.1254e-01, -1.9131e-02,\n",
            "         -1.8134e-01, -1.7209e-01,  2.7620e-01, -4.4982e-02,  5.0910e-01,\n",
            "         -1.4529e-01, -4.2613e-02,  2.3332e-01, -6.4477e-02, -1.3838e-01,\n",
            "         -1.3394e-01,  7.2306e-02,  4.3987e-02, -6.3185e-02, -2.7975e-02,\n",
            "         -1.3942e-03,  4.4984e-01,  4.2269e-01, -4.6848e-02,  1.4832e-01,\n",
            "          3.9910e-01, -2.5374e-01, -2.6367e-01,  4.2713e-01,  2.1439e-01,\n",
            "         -3.7152e-01, -7.0852e-02,  6.9392e-03,  3.1958e-01,  6.9210e-01,\n",
            "          6.4758e-02, -3.6779e-01, -1.2257e-01, -1.0130e-01,  2.3285e-01,\n",
            "         -6.6360e-03, -8.8707e-02,  3.3350e-02, -7.2083e-02,  9.8700e-02,\n",
            "          7.3138e-02,  8.0134e-02, -1.9040e-01,  2.2529e-01, -2.9260e+00,\n",
            "          9.8226e-02, -3.6443e-02, -4.3864e-01, -2.5925e-01, -1.8807e-01,\n",
            "          6.5396e-01,  5.1489e-01,  3.7218e-01,  2.4148e-01,  1.1062e-01,\n",
            "         -2.2081e-01,  4.5301e-01,  8.0623e-02, -4.1941e-02,  2.3952e-02,\n",
            "          1.8910e-01,  1.8175e-01, -9.6378e-02,  8.7759e-02, -7.5038e-02,\n",
            "          2.6460e-01,  5.0489e-01,  2.2138e-01, -2.6540e-01, -2.8690e-02,\n",
            "          4.0358e-04,  6.2448e-02, -1.8051e-01, -1.1242e-01, -1.4100e-01,\n",
            "         -1.9353e-01, -1.2511e-01, -3.3555e+00,  1.2867e-01,  1.9513e-01,\n",
            "         -9.4021e-02, -3.8916e-01,  2.1935e-01,  6.7038e-02,  2.1952e-01,\n",
            "          1.1098e-01, -2.4842e-02, -3.0371e-01,  5.0128e-02, -2.1569e-01,\n",
            "         -8.6264e-03, -3.1535e-02, -1.5188e-01,  5.6376e-01,  2.0033e-01,\n",
            "          1.8383e-03, -4.1095e-01, -3.1538e-01, -2.5420e-01, -4.3480e-01,\n",
            "         -1.2116e-01,  3.5051e-01,  4.4689e-01, -1.2917e-03,  6.5571e-02,\n",
            "          1.0483e-02,  8.7088e-02,  1.8838e-01,  3.2209e-01,  1.4504e-01,\n",
            "         -5.1219e-01,  8.6498e-02,  3.6708e-01,  8.2287e-02,  1.1084e-01,\n",
            "         -1.3161e-01,  1.6372e-01,  1.4723e-01,  4.9716e-02,  3.5137e-01,\n",
            "         -8.9241e-02,  3.6898e-01, -3.8055e-01, -2.1579e-01,  3.0154e-01,\n",
            "         -5.9922e-02, -1.7179e-01,  3.6055e-01, -2.1749e-02,  4.4122e-01,\n",
            "          7.9509e-02, -2.7365e-02, -2.8547e-01,  3.6490e-01,  4.9100e-01,\n",
            "         -9.2416e-03,  2.2137e-01,  3.0006e-02, -6.1099e-02,  2.7763e-02,\n",
            "          3.7664e+00,  9.0885e-03,  1.4011e-01, -5.7119e-02, -2.6364e-02,\n",
            "         -4.5517e-02,  2.0776e-01,  9.4609e-02, -8.7002e-02, -2.1324e-01,\n",
            "          1.3352e-01,  2.2312e-01,  2.8392e-01, -1.6965e-01,  2.5839e-02,\n",
            "          2.1743e-01,  1.5050e-01, -1.7398e-01,  2.0261e-02, -1.2411e-01,\n",
            "         -8.1748e-02, -1.1240e-02,  4.3992e-01,  2.3598e-01, -1.0936e+00,\n",
            "         -1.7575e-01, -9.0752e-02, -3.5395e-01,  2.4126e-01, -1.2790e-01,\n",
            "         -1.6278e-01,  1.4325e-01, -2.6229e-01,  8.2348e-02,  3.1342e-01,\n",
            "         -5.3318e-02,  2.3968e-01, -5.2881e-02,  8.5389e-02, -2.3799e-01,\n",
            "          1.6386e-01,  2.0522e-01, -3.7243e-02,  1.6786e-01,  1.3638e-01,\n",
            "          4.0309e-01, -1.7374e-02,  8.6730e-02, -1.7431e-01,  2.2676e-01,\n",
            "          7.7631e-02,  3.8106e-02, -2.3545e-02, -2.7244e-01, -6.0786e-02,\n",
            "         -1.3570e-01,  1.1107e-02,  3.4922e-02,  2.8452e-01, -2.5350e-01,\n",
            "         -2.8036e-01,  2.2511e-01, -3.1899e-01,  1.8686e-01, -1.0332e-01,\n",
            "         -9.2549e-02, -1.2209e-01, -1.1583e-01, -4.3178e+00,  1.5939e-01,\n",
            "         -2.4367e-01, -6.1782e-02,  2.6767e-01, -1.6233e-01,  4.6148e-02,\n",
            "          4.0473e-02,  6.6626e-02, -3.7380e-01,  2.5141e-01,  3.9132e-02,\n",
            "         -2.4187e-01,  2.5919e-01, -2.9693e-01,  2.0755e-01,  1.2550e-01,\n",
            "          2.1219e-02, -3.4498e-01, -3.4531e-01, -5.8012e-04,  2.8227e-01,\n",
            "         -2.5453e-01,  2.5397e-01,  1.0468e-01, -2.5293e-01, -9.3884e-02,\n",
            "          5.2237e-02,  1.7959e-01, -2.8097e-02, -4.1290e-02, -1.2269e-01,\n",
            "         -2.7338e-01, -5.7088e-02, -2.1875e-01, -2.5848e+00, -1.4181e-02,\n",
            "         -3.2014e-01, -1.4182e-01, -7.2961e-02,  9.5385e-02,  1.1119e-01,\n",
            "         -1.2255e-01, -9.5090e-02,  1.3598e-01,  1.8040e-01,  8.4586e-02,\n",
            "         -1.1434e-01, -7.9925e-03, -1.6988e-02, -7.1057e-02,  3.0426e-01,\n",
            "          1.7038e-01,  1.3393e-01,  2.1565e-01,  2.3869e-02,  5.2069e-01,\n",
            "          6.5824e-02, -1.9505e-02,  1.9200e-01,  1.0213e-01, -1.8833e-01,\n",
            "         -2.4777e-01, -1.8690e-01,  7.2268e-02, -3.3111e-02, -4.3643e-02,\n",
            "          1.1232e-01, -8.8451e-02, -4.6058e-01, -6.7099e-02,  4.2623e-01,\n",
            "          2.9132e-01,  2.8469e-01,  6.8765e-03,  2.4657e-02,  2.7248e-01,\n",
            "          1.9130e-01,  1.7602e-01,  2.1068e-01, -1.0697e-02, -6.2890e-02,\n",
            "         -3.2304e-02,  2.5696e-01, -1.6847e-01, -7.6818e-02, -1.0521e-01,\n",
            "          1.3765e+00,  1.6286e-01,  1.3491e-01, -1.9332e-01,  3.9911e-01,\n",
            "          1.8738e-01,  2.7166e-01,  4.4599e-01,  6.7421e-01, -1.2588e-01,\n",
            "          2.8948e-01, -4.5771e-01, -5.4576e-02, -3.5993e-01, -1.1503e-01,\n",
            "         -5.1682e-01, -6.8455e-02,  1.2725e-01,  1.2307e-01,  2.4128e-02,\n",
            "         -1.8621e-01, -7.1849e-01, -3.1274e-02,  1.1940e-01, -1.9807e-01,\n",
            "          1.3412e-01,  2.9660e-01,  2.2874e-01, -1.4164e-01, -1.8186e-02,\n",
            "         -3.8658e-01,  4.5252e-01, -2.3041e-01, -1.1798e-01, -3.5625e-01,\n",
            "          9.9650e-02, -4.1439e-01, -5.3681e-02,  5.9476e-02,  8.2054e-02,\n",
            "         -6.6125e-02,  2.0711e-01,  6.1878e-02,  2.7953e-02,  1.5308e-01,\n",
            "         -7.5301e-01,  1.0388e-01, -3.1938e-01, -3.1808e-01, -1.7975e-01,\n",
            "         -1.5056e-01,  7.6476e-02, -4.9226e-02, -4.0668e-02, -1.7371e-01,\n",
            "          1.9815e-01,  2.6872e-01,  2.7126e-01, -3.7801e-01,  1.4747e-01,\n",
            "         -7.2322e-02,  1.5667e-01,  7.0771e-01,  3.2867e-02, -2.3215e-02,\n",
            "          1.3101e-01,  8.1727e-02, -5.5258e-02, -3.7822e-03,  4.1767e-02,\n",
            "         -2.0102e-01, -4.8340e-02, -1.4061e-01, -8.3363e-02,  7.4361e-03,\n",
            "         -3.2673e-02, -2.3228e-01, -3.8361e-01,  1.0545e-01, -9.6383e-02,\n",
            "         -2.0949e-01, -3.6035e-01, -1.2177e-01, -2.7707e-01, -1.2929e-01,\n",
            "          2.2580e-01,  1.3013e-01,  6.5178e-02,  2.6882e-01,  1.8200e-02,\n",
            "         -5.9523e-02,  3.1377e-01, -1.3115e-01,  3.1930e-01,  6.5554e-03,\n",
            "          6.7553e-02, -1.3050e-01,  3.4327e-01,  3.6448e-02, -4.9032e-01,\n",
            "         -1.8105e-02, -2.0252e-01,  3.0640e-01,  2.9305e-01,  1.2252e-01,\n",
            "         -2.7119e-02,  1.8163e-01,  1.9058e-01,  5.1688e-01, -8.6234e-02,\n",
            "         -1.2299e+00,  2.5554e-01,  5.5798e-01, -6.1845e-02, -8.9168e-02,\n",
            "         -5.2348e-02, -2.9820e-01,  5.2896e-01,  1.3148e-01, -4.8322e-02,\n",
            "         -1.8708e-01,  4.7178e-02,  8.0972e-02, -8.7919e-02,  1.7145e-01,\n",
            "          1.0165e-01,  1.1881e-01, -1.0553e-01, -4.4675e-02, -1.6400e-01,\n",
            "          9.9936e-02,  4.6945e-01, -1.9213e-01, -7.6205e-02,  2.0682e-01,\n",
            "         -1.1082e-01, -1.2655e-02,  3.1442e-01, -1.7411e-01,  3.6478e-01,\n",
            "          1.3891e-01, -4.6132e-01, -5.4696e-01, -1.6047e-01,  7.9312e-02,\n",
            "         -2.0707e-01,  6.2164e-02,  4.0324e-02,  3.1412e-01,  2.6385e-01,\n",
            "         -3.2298e-01,  1.5912e-01,  3.6978e-01, -1.9368e-01,  7.2860e-02,\n",
            "          1.7788e-01, -1.1124e-01,  3.5055e-01,  2.2371e-01, -4.0237e-01,\n",
            "          1.6644e-03, -2.2954e-01, -1.3876e-01, -6.1999e-02, -9.3636e-02,\n",
            "         -1.6559e-01, -8.0583e-02, -4.1033e-03, -2.3888e-01,  1.5535e-01,\n",
            "          1.7474e-01, -1.2356e-01, -1.4451e-01,  7.9864e-02, -3.2566e-01,\n",
            "         -4.7691e-01, -1.2846e-01, -3.8378e-01, -2.6181e-02,  2.4906e-01,\n",
            "          3.9221e-01,  9.3324e-02, -1.1711e-01,  1.0873e-01, -3.2311e-01,\n",
            "          3.2672e-01,  2.7948e-01,  1.2866e-01,  4.4288e-01, -2.5256e-01,\n",
            "          3.5681e-02,  3.2068e-02, -1.0742e-02, -3.2566e-02,  6.7544e-03,\n",
            "          4.9116e-02, -2.1884e-01, -1.3888e-01, -1.0391e-01, -1.1547e-01,\n",
            "         -5.1359e-01, -2.9861e-01,  4.0154e-01, -1.0593e-01, -4.6207e-02,\n",
            "          5.4945e-02,  8.3335e-02, -1.5758e-01, -1.7803e-01,  5.8319e-02,\n",
            "         -4.6940e-01,  5.5895e-01,  2.6628e-01,  1.9051e-01,  9.8991e-02,\n",
            "          7.7398e-02,  3.3759e-01,  4.1999e-01, -4.0348e-01, -2.8423e-01,\n",
            "         -3.2204e-01,  4.3457e-01, -1.2173e-01, -2.6663e-01,  7.3027e-02,\n",
            "         -2.1073e-02,  4.6104e-01, -1.4452e-01,  2.6189e+00,  2.5004e-01,\n",
            "          3.2969e-01, -2.6346e-01,  3.1999e-01, -8.1840e-02, -3.0093e-01,\n",
            "         -1.9635e-01, -1.3310e-01,  5.3936e-01, -3.9765e-01,  1.2843e-01,\n",
            "         -1.2972e-01,  4.0675e-02,  2.3681e-01,  6.3567e-02, -7.3820e-02,\n",
            "         -1.7436e-01, -6.5792e-01, -1.7897e-01, -1.7653e-01,  2.5415e-01,\n",
            "          2.2951e-01, -2.2985e-01,  6.7071e-02,  2.4865e-01,  1.0156e-01,\n",
            "          2.4413e-01, -1.3015e-02, -1.1336e-01, -1.6124e-01, -1.9627e-01,\n",
            "          1.0220e-01,  2.4121e-01, -2.3065e-01,  2.6118e-01,  2.2308e-01,\n",
            "         -3.6562e-01, -1.7376e-02, -8.7492e-02, -2.7483e-03, -5.0305e-01,\n",
            "          2.7708e-01,  1.7401e-01, -1.9219e-01,  3.7563e-01,  3.6217e-02,\n",
            "         -5.7265e-01,  2.2419e-01,  7.9336e-02, -1.2387e-01,  3.2600e-01,\n",
            "         -6.7159e-02,  1.0141e-01,  8.2474e-02, -3.3180e-01, -3.0878e-02,\n",
            "         -6.9392e-02, -9.3450e-02,  2.2434e-01,  3.8197e-02,  1.4794e-01,\n",
            "          3.0596e-02,  1.8359e-01, -2.5471e-01,  9.2611e-02, -2.4732e-02,\n",
            "          3.3948e-01, -5.8932e-02, -2.3652e-01,  1.3086e-01,  3.3489e-01,\n",
            "          2.7790e-01, -7.7868e-02,  3.4239e-01,  6.4720e-02,  2.4946e-01,\n",
            "         -2.6500e-01,  1.6338e-01, -3.4079e+00, -8.9036e-02,  5.7885e-02,\n",
            "          1.9666e-01,  6.5790e-02,  2.9662e-01,  3.4314e-01, -1.0848e-01,\n",
            "          1.0378e-01, -2.6077e-01,  2.8349e-01,  1.9941e-02,  2.8823e-01,\n",
            "          7.7247e-02,  9.2663e-02, -8.7178e-02,  3.4566e-02, -6.3859e-01,\n",
            "         -1.0103e-01,  7.6696e-03,  3.1308e-02,  8.9639e-02, -1.7601e-03,\n",
            "         -7.1662e-02, -1.5368e-01,  1.8320e-01,  1.3464e-01, -1.7987e-01,\n",
            "          1.1509e-01,  1.8258e-01,  8.6618e-02, -6.1422e-03, -1.9398e-01,\n",
            "          1.3737e-01, -3.6423e-02,  3.3327e-02, -1.8619e-02, -2.4603e-01,\n",
            "          3.0165e-01, -1.9946e-02,  2.6051e-01,  2.2005e-01,  4.7542e-02,\n",
            "          4.0022e-01, -2.4729e-01, -2.8776e-01,  3.6953e-01, -1.7105e-01,\n",
            "          3.2345e-01, -8.8043e-02, -4.6587e-02,  1.9103e-01,  1.6944e-01,\n",
            "         -8.9900e-02,  2.4786e-01,  1.6579e-01,  2.6184e-01,  1.3394e-01,\n",
            "          4.2422e-01,  1.7640e-03,  3.8706e-02,  1.2787e-01, -1.0025e-01,\n",
            "         -1.0237e-01,  3.4466e-01, -4.0452e-01,  3.7096e-02,  1.1236e-01,\n",
            "         -2.7120e-01, -2.8382e-01, -2.0236e-01, -1.9487e-01,  3.5995e-01,\n",
            "          9.6724e-02,  1.2719e-01,  4.0573e-02,  3.3636e-01,  3.9662e-01,\n",
            "         -6.0877e-02, -1.5706e-03, -4.3833e-04, -5.1794e-02, -1.4499e-01,\n",
            "          6.4878e-02,  3.0018e-01, -8.6861e+00, -2.9817e-02,  8.0534e-02,\n",
            "         -2.2553e-01,  1.3553e-01, -5.6374e-01, -4.0829e-02, -1.7994e-01,\n",
            "          2.3948e-01,  1.2651e-01,  2.1705e-01,  1.4232e-01, -5.6740e-02,\n",
            "         -1.6553e-01,  1.9994e-01,  4.4029e-01]])\n"
          ]
        }
      ],
      "source": [
        "from transformers import BertTokenizer, BertModel\n",
        "import torch\n",
        "\n",
        "# Load pre-trained BERT tokenizer and model\n",
        "tokenizer = BertTokenizer.from_pretrained('bert-base-uncased')\n",
        "model = BertModel.from_pretrained('bert-base-uncased')\n",
        "\n",
        "# Input text\n",
        "text = \"I love natural language processing!\"\n",
        "\n",
        "# Tokenize input text\n",
        "tokens = tokenizer.tokenize(text)\n",
        "# Add [CLS] and [SEP] tokens\n",
        "tokens = ['[CLS]'] + tokens + ['[SEP]']\n",
        "# Convert tokens to token IDs\n",
        "token_ids = tokenizer.convert_tokens_to_ids(tokens)\n",
        "# Convert token IDs to tensor\n",
        "token_tensor = torch.tensor([token_ids])\n",
        "\n",
        "# Get BERT embeddings\n",
        "with torch.no_grad():\n",
        "    outputs = model(token_tensor)\n",
        "\n",
        "# Extract the output embeddings (the output of the final layer)\n",
        "last_hidden_states = outputs[0]\n",
        "\n",
        "# For the first token, which is [CLS], you can extract the embedding as follows:\n",
        "cls_embedding = last_hidden_states[:, 0, :]\n",
        "\n",
        "# Now cls_embedding contains the BERT embedding for the input text\n",
        "print(cls_embedding)\n"
      ]
    }
  ],
  "metadata": {
    "colab": {
      "provenance": []
    },
    "kernelspec": {
      "display_name": "Python 3",
      "name": "python3"
    },
    "language_info": {
      "name": "python"
    },
    "widgets": {
      "application/vnd.jupyter.widget-state+json": {
        "07f4d02971aa45a79aa26cfa20792632": {
          "model_module": "@jupyter-widgets/controls",
          "model_module_version": "1.5.0",
          "model_name": "DescriptionStyleModel",
          "state": {
            "_model_module": "@jupyter-widgets/controls",
            "_model_module_version": "1.5.0",
            "_model_name": "DescriptionStyleModel",
            "_view_count": null,
            "_view_module": "@jupyter-widgets/base",
            "_view_module_version": "1.2.0",
            "_view_name": "StyleView",
            "description_width": ""
          }
        },
        "093b3f3bec5a4c38acfaa22091cbf658": {
          "model_module": "@jupyter-widgets/base",
          "model_module_version": "1.2.0",
          "model_name": "LayoutModel",
          "state": {
            "_model_module": "@jupyter-widgets/base",
            "_model_module_version": "1.2.0",
            "_model_name": "LayoutModel",
            "_view_count": null,
            "_view_module": "@jupyter-widgets/base",
            "_view_module_version": "1.2.0",
            "_view_name": "LayoutView",
            "align_content": null,
            "align_items": null,
            "align_self": null,
            "border": null,
            "bottom": null,
            "display": null,
            "flex": null,
            "flex_flow": null,
            "grid_area": null,
            "grid_auto_columns": null,
            "grid_auto_flow": null,
            "grid_auto_rows": null,
            "grid_column": null,
            "grid_gap": null,
            "grid_row": null,
            "grid_template_areas": null,
            "grid_template_columns": null,
            "grid_template_rows": null,
            "height": null,
            "justify_content": null,
            "justify_items": null,
            "left": null,
            "margin": null,
            "max_height": null,
            "max_width": null,
            "min_height": null,
            "min_width": null,
            "object_fit": null,
            "object_position": null,
            "order": null,
            "overflow": null,
            "overflow_x": null,
            "overflow_y": null,
            "padding": null,
            "right": null,
            "top": null,
            "visibility": null,
            "width": null
          }
        },
        "0a1f6a4fdbb141c1945dbd471cbe09ed": {
          "model_module": "@jupyter-widgets/base",
          "model_module_version": "1.2.0",
          "model_name": "LayoutModel",
          "state": {
            "_model_module": "@jupyter-widgets/base",
            "_model_module_version": "1.2.0",
            "_model_name": "LayoutModel",
            "_view_count": null,
            "_view_module": "@jupyter-widgets/base",
            "_view_module_version": "1.2.0",
            "_view_name": "LayoutView",
            "align_content": null,
            "align_items": null,
            "align_self": null,
            "border": null,
            "bottom": null,
            "display": null,
            "flex": null,
            "flex_flow": null,
            "grid_area": null,
            "grid_auto_columns": null,
            "grid_auto_flow": null,
            "grid_auto_rows": null,
            "grid_column": null,
            "grid_gap": null,
            "grid_row": null,
            "grid_template_areas": null,
            "grid_template_columns": null,
            "grid_template_rows": null,
            "height": null,
            "justify_content": null,
            "justify_items": null,
            "left": null,
            "margin": null,
            "max_height": null,
            "max_width": null,
            "min_height": null,
            "min_width": null,
            "object_fit": null,
            "object_position": null,
            "order": null,
            "overflow": null,
            "overflow_x": null,
            "overflow_y": null,
            "padding": null,
            "right": null,
            "top": null,
            "visibility": null,
            "width": null
          }
        },
        "0ddd2e8249a64e1eb515be9c713c433f": {
          "model_module": "@jupyter-widgets/controls",
          "model_module_version": "1.5.0",
          "model_name": "FloatProgressModel",
          "state": {
            "_dom_classes": [],
            "_model_module": "@jupyter-widgets/controls",
            "_model_module_version": "1.5.0",
            "_model_name": "FloatProgressModel",
            "_view_count": null,
            "_view_module": "@jupyter-widgets/controls",
            "_view_module_version": "1.5.0",
            "_view_name": "ProgressView",
            "bar_style": "success",
            "description": "",
            "description_tooltip": null,
            "layout": "IPY_MODEL_7789f4ce83f24ca7a36a1fe93bc64dc0",
            "max": 48,
            "min": 0,
            "orientation": "horizontal",
            "style": "IPY_MODEL_5597922a3f9a43de90f101b4e7b50aec",
            "value": 48
          }
        },
        "0f601994f62f4befbaa1694a2b9f9727": {
          "model_module": "@jupyter-widgets/controls",
          "model_module_version": "1.5.0",
          "model_name": "DescriptionStyleModel",
          "state": {
            "_model_module": "@jupyter-widgets/controls",
            "_model_module_version": "1.5.0",
            "_model_name": "DescriptionStyleModel",
            "_view_count": null,
            "_view_module": "@jupyter-widgets/base",
            "_view_module_version": "1.2.0",
            "_view_name": "StyleView",
            "description_width": ""
          }
        },
        "114b5fbd899e46d9bcd4b9f9ec8d191b": {
          "model_module": "@jupyter-widgets/base",
          "model_module_version": "1.2.0",
          "model_name": "LayoutModel",
          "state": {
            "_model_module": "@jupyter-widgets/base",
            "_model_module_version": "1.2.0",
            "_model_name": "LayoutModel",
            "_view_count": null,
            "_view_module": "@jupyter-widgets/base",
            "_view_module_version": "1.2.0",
            "_view_name": "LayoutView",
            "align_content": null,
            "align_items": null,
            "align_self": null,
            "border": null,
            "bottom": null,
            "display": null,
            "flex": null,
            "flex_flow": null,
            "grid_area": null,
            "grid_auto_columns": null,
            "grid_auto_flow": null,
            "grid_auto_rows": null,
            "grid_column": null,
            "grid_gap": null,
            "grid_row": null,
            "grid_template_areas": null,
            "grid_template_columns": null,
            "grid_template_rows": null,
            "height": null,
            "justify_content": null,
            "justify_items": null,
            "left": null,
            "margin": null,
            "max_height": null,
            "max_width": null,
            "min_height": null,
            "min_width": null,
            "object_fit": null,
            "object_position": null,
            "order": null,
            "overflow": null,
            "overflow_x": null,
            "overflow_y": null,
            "padding": null,
            "right": null,
            "top": null,
            "visibility": null,
            "width": null
          }
        },
        "1a358ca7199841c0a169b466d55218cb": {
          "model_module": "@jupyter-widgets/controls",
          "model_module_version": "1.5.0",
          "model_name": "HTMLModel",
          "state": {
            "_dom_classes": [],
            "_model_module": "@jupyter-widgets/controls",
            "_model_module_version": "1.5.0",
            "_model_name": "HTMLModel",
            "_view_count": null,
            "_view_module": "@jupyter-widgets/controls",
            "_view_module_version": "1.5.0",
            "_view_name": "HTMLView",
            "description": "",
            "description_tooltip": null,
            "layout": "IPY_MODEL_4957053cd32943d7b2a5d4c91a4ff12d",
            "placeholder": "​",
            "style": "IPY_MODEL_961fed3eb78f4909813ffee913878774",
            "value": " 466k/466k [00:00&lt;00:00, 7.36MB/s]"
          }
        },
        "21e96809661844e4972beee75aae9d64": {
          "model_module": "@jupyter-widgets/controls",
          "model_module_version": "1.5.0",
          "model_name": "DescriptionStyleModel",
          "state": {
            "_model_module": "@jupyter-widgets/controls",
            "_model_module_version": "1.5.0",
            "_model_name": "DescriptionStyleModel",
            "_view_count": null,
            "_view_module": "@jupyter-widgets/base",
            "_view_module_version": "1.2.0",
            "_view_name": "StyleView",
            "description_width": ""
          }
        },
        "2ba364d818364f00a79e5df354d2f6fb": {
          "model_module": "@jupyter-widgets/base",
          "model_module_version": "1.2.0",
          "model_name": "LayoutModel",
          "state": {
            "_model_module": "@jupyter-widgets/base",
            "_model_module_version": "1.2.0",
            "_model_name": "LayoutModel",
            "_view_count": null,
            "_view_module": "@jupyter-widgets/base",
            "_view_module_version": "1.2.0",
            "_view_name": "LayoutView",
            "align_content": null,
            "align_items": null,
            "align_self": null,
            "border": null,
            "bottom": null,
            "display": null,
            "flex": null,
            "flex_flow": null,
            "grid_area": null,
            "grid_auto_columns": null,
            "grid_auto_flow": null,
            "grid_auto_rows": null,
            "grid_column": null,
            "grid_gap": null,
            "grid_row": null,
            "grid_template_areas": null,
            "grid_template_columns": null,
            "grid_template_rows": null,
            "height": null,
            "justify_content": null,
            "justify_items": null,
            "left": null,
            "margin": null,
            "max_height": null,
            "max_width": null,
            "min_height": null,
            "min_width": null,
            "object_fit": null,
            "object_position": null,
            "order": null,
            "overflow": null,
            "overflow_x": null,
            "overflow_y": null,
            "padding": null,
            "right": null,
            "top": null,
            "visibility": null,
            "width": null
          }
        },
        "2f298775317e4a3091292d633494a1ef": {
          "model_module": "@jupyter-widgets/base",
          "model_module_version": "1.2.0",
          "model_name": "LayoutModel",
          "state": {
            "_model_module": "@jupyter-widgets/base",
            "_model_module_version": "1.2.0",
            "_model_name": "LayoutModel",
            "_view_count": null,
            "_view_module": "@jupyter-widgets/base",
            "_view_module_version": "1.2.0",
            "_view_name": "LayoutView",
            "align_content": null,
            "align_items": null,
            "align_self": null,
            "border": null,
            "bottom": null,
            "display": null,
            "flex": null,
            "flex_flow": null,
            "grid_area": null,
            "grid_auto_columns": null,
            "grid_auto_flow": null,
            "grid_auto_rows": null,
            "grid_column": null,
            "grid_gap": null,
            "grid_row": null,
            "grid_template_areas": null,
            "grid_template_columns": null,
            "grid_template_rows": null,
            "height": null,
            "justify_content": null,
            "justify_items": null,
            "left": null,
            "margin": null,
            "max_height": null,
            "max_width": null,
            "min_height": null,
            "min_width": null,
            "object_fit": null,
            "object_position": null,
            "order": null,
            "overflow": null,
            "overflow_x": null,
            "overflow_y": null,
            "padding": null,
            "right": null,
            "top": null,
            "visibility": null,
            "width": null
          }
        },
        "38cecf687fb442c2a21b3c255f2de82e": {
          "model_module": "@jupyter-widgets/controls",
          "model_module_version": "1.5.0",
          "model_name": "DescriptionStyleModel",
          "state": {
            "_model_module": "@jupyter-widgets/controls",
            "_model_module_version": "1.5.0",
            "_model_name": "DescriptionStyleModel",
            "_view_count": null,
            "_view_module": "@jupyter-widgets/base",
            "_view_module_version": "1.2.0",
            "_view_name": "StyleView",
            "description_width": ""
          }
        },
        "45107bb16e6b4421bbebda4b0b062486": {
          "model_module": "@jupyter-widgets/controls",
          "model_module_version": "1.5.0",
          "model_name": "FloatProgressModel",
          "state": {
            "_dom_classes": [],
            "_model_module": "@jupyter-widgets/controls",
            "_model_module_version": "1.5.0",
            "_model_name": "FloatProgressModel",
            "_view_count": null,
            "_view_module": "@jupyter-widgets/controls",
            "_view_module_version": "1.5.0",
            "_view_name": "ProgressView",
            "bar_style": "success",
            "description": "",
            "description_tooltip": null,
            "layout": "IPY_MODEL_93b6ff98962348be9505515d1b69f406",
            "max": 440449768,
            "min": 0,
            "orientation": "horizontal",
            "style": "IPY_MODEL_a8945d52e3ff457d93ef2b94fd08a884",
            "value": 440449768
          }
        },
        "487c4dd43ba54d3db907d32cd484a1a1": {
          "model_module": "@jupyter-widgets/base",
          "model_module_version": "1.2.0",
          "model_name": "LayoutModel",
          "state": {
            "_model_module": "@jupyter-widgets/base",
            "_model_module_version": "1.2.0",
            "_model_name": "LayoutModel",
            "_view_count": null,
            "_view_module": "@jupyter-widgets/base",
            "_view_module_version": "1.2.0",
            "_view_name": "LayoutView",
            "align_content": null,
            "align_items": null,
            "align_self": null,
            "border": null,
            "bottom": null,
            "display": null,
            "flex": null,
            "flex_flow": null,
            "grid_area": null,
            "grid_auto_columns": null,
            "grid_auto_flow": null,
            "grid_auto_rows": null,
            "grid_column": null,
            "grid_gap": null,
            "grid_row": null,
            "grid_template_areas": null,
            "grid_template_columns": null,
            "grid_template_rows": null,
            "height": null,
            "justify_content": null,
            "justify_items": null,
            "left": null,
            "margin": null,
            "max_height": null,
            "max_width": null,
            "min_height": null,
            "min_width": null,
            "object_fit": null,
            "object_position": null,
            "order": null,
            "overflow": null,
            "overflow_x": null,
            "overflow_y": null,
            "padding": null,
            "right": null,
            "top": null,
            "visibility": null,
            "width": null
          }
        },
        "488073242d79438b921bfe95a6b07f40": {
          "model_module": "@jupyter-widgets/controls",
          "model_module_version": "1.5.0",
          "model_name": "FloatProgressModel",
          "state": {
            "_dom_classes": [],
            "_model_module": "@jupyter-widgets/controls",
            "_model_module_version": "1.5.0",
            "_model_name": "FloatProgressModel",
            "_view_count": null,
            "_view_module": "@jupyter-widgets/controls",
            "_view_module_version": "1.5.0",
            "_view_name": "ProgressView",
            "bar_style": "success",
            "description": "",
            "description_tooltip": null,
            "layout": "IPY_MODEL_487c4dd43ba54d3db907d32cd484a1a1",
            "max": 466062,
            "min": 0,
            "orientation": "horizontal",
            "style": "IPY_MODEL_6dcbc61c844c4d34b4d8183b3b2ca9ac",
            "value": 466062
          }
        },
        "4957053cd32943d7b2a5d4c91a4ff12d": {
          "model_module": "@jupyter-widgets/base",
          "model_module_version": "1.2.0",
          "model_name": "LayoutModel",
          "state": {
            "_model_module": "@jupyter-widgets/base",
            "_model_module_version": "1.2.0",
            "_model_name": "LayoutModel",
            "_view_count": null,
            "_view_module": "@jupyter-widgets/base",
            "_view_module_version": "1.2.0",
            "_view_name": "LayoutView",
            "align_content": null,
            "align_items": null,
            "align_self": null,
            "border": null,
            "bottom": null,
            "display": null,
            "flex": null,
            "flex_flow": null,
            "grid_area": null,
            "grid_auto_columns": null,
            "grid_auto_flow": null,
            "grid_auto_rows": null,
            "grid_column": null,
            "grid_gap": null,
            "grid_row": null,
            "grid_template_areas": null,
            "grid_template_columns": null,
            "grid_template_rows": null,
            "height": null,
            "justify_content": null,
            "justify_items": null,
            "left": null,
            "margin": null,
            "max_height": null,
            "max_width": null,
            "min_height": null,
            "min_width": null,
            "object_fit": null,
            "object_position": null,
            "order": null,
            "overflow": null,
            "overflow_x": null,
            "overflow_y": null,
            "padding": null,
            "right": null,
            "top": null,
            "visibility": null,
            "width": null
          }
        },
        "4af80132dc474f73b0178a02109c4d80": {
          "model_module": "@jupyter-widgets/base",
          "model_module_version": "1.2.0",
          "model_name": "LayoutModel",
          "state": {
            "_model_module": "@jupyter-widgets/base",
            "_model_module_version": "1.2.0",
            "_model_name": "LayoutModel",
            "_view_count": null,
            "_view_module": "@jupyter-widgets/base",
            "_view_module_version": "1.2.0",
            "_view_name": "LayoutView",
            "align_content": null,
            "align_items": null,
            "align_self": null,
            "border": null,
            "bottom": null,
            "display": null,
            "flex": null,
            "flex_flow": null,
            "grid_area": null,
            "grid_auto_columns": null,
            "grid_auto_flow": null,
            "grid_auto_rows": null,
            "grid_column": null,
            "grid_gap": null,
            "grid_row": null,
            "grid_template_areas": null,
            "grid_template_columns": null,
            "grid_template_rows": null,
            "height": null,
            "justify_content": null,
            "justify_items": null,
            "left": null,
            "margin": null,
            "max_height": null,
            "max_width": null,
            "min_height": null,
            "min_width": null,
            "object_fit": null,
            "object_position": null,
            "order": null,
            "overflow": null,
            "overflow_x": null,
            "overflow_y": null,
            "padding": null,
            "right": null,
            "top": null,
            "visibility": null,
            "width": null
          }
        },
        "4c29ca2a85954f3180e0063d698e66ad": {
          "model_module": "@jupyter-widgets/controls",
          "model_module_version": "1.5.0",
          "model_name": "ProgressStyleModel",
          "state": {
            "_model_module": "@jupyter-widgets/controls",
            "_model_module_version": "1.5.0",
            "_model_name": "ProgressStyleModel",
            "_view_count": null,
            "_view_module": "@jupyter-widgets/base",
            "_view_module_version": "1.2.0",
            "_view_name": "StyleView",
            "bar_color": null,
            "description_width": ""
          }
        },
        "4e02645969204cc99b48b3944aefad04": {
          "model_module": "@jupyter-widgets/controls",
          "model_module_version": "1.5.0",
          "model_name": "FloatProgressModel",
          "state": {
            "_dom_classes": [],
            "_model_module": "@jupyter-widgets/controls",
            "_model_module_version": "1.5.0",
            "_model_name": "FloatProgressModel",
            "_view_count": null,
            "_view_module": "@jupyter-widgets/controls",
            "_view_module_version": "1.5.0",
            "_view_name": "ProgressView",
            "bar_style": "success",
            "description": "",
            "description_tooltip": null,
            "layout": "IPY_MODEL_94da92103b8a48b7bb52d9e9d6cea749",
            "max": 231508,
            "min": 0,
            "orientation": "horizontal",
            "style": "IPY_MODEL_6e0807b72a1f443b877f7a7784c84f35",
            "value": 231508
          }
        },
        "5597922a3f9a43de90f101b4e7b50aec": {
          "model_module": "@jupyter-widgets/controls",
          "model_module_version": "1.5.0",
          "model_name": "ProgressStyleModel",
          "state": {
            "_model_module": "@jupyter-widgets/controls",
            "_model_module_version": "1.5.0",
            "_model_name": "ProgressStyleModel",
            "_view_count": null,
            "_view_module": "@jupyter-widgets/base",
            "_view_module_version": "1.2.0",
            "_view_name": "StyleView",
            "bar_color": null,
            "description_width": ""
          }
        },
        "5e3bdfa2bda1488cb2fbe1bfda4a24ef": {
          "model_module": "@jupyter-widgets/controls",
          "model_module_version": "1.5.0",
          "model_name": "HTMLModel",
          "state": {
            "_dom_classes": [],
            "_model_module": "@jupyter-widgets/controls",
            "_model_module_version": "1.5.0",
            "_model_name": "HTMLModel",
            "_view_count": null,
            "_view_module": "@jupyter-widgets/controls",
            "_view_module_version": "1.5.0",
            "_view_name": "HTMLView",
            "description": "",
            "description_tooltip": null,
            "layout": "IPY_MODEL_2f298775317e4a3091292d633494a1ef",
            "placeholder": "​",
            "style": "IPY_MODEL_83a84045553b46de9a1f4f81c0eb881e",
            "value": "vocab.txt: 100%"
          }
        },
        "6945934b0a564e97981ebd5427ae0a16": {
          "model_module": "@jupyter-widgets/controls",
          "model_module_version": "1.5.0",
          "model_name": "HBoxModel",
          "state": {
            "_dom_classes": [],
            "_model_module": "@jupyter-widgets/controls",
            "_model_module_version": "1.5.0",
            "_model_name": "HBoxModel",
            "_view_count": null,
            "_view_module": "@jupyter-widgets/controls",
            "_view_module_version": "1.5.0",
            "_view_name": "HBoxView",
            "box_style": "",
            "children": [
              "IPY_MODEL_8dfb109a016640bf8067386c5216e8b1",
              "IPY_MODEL_45107bb16e6b4421bbebda4b0b062486",
              "IPY_MODEL_79e5044b32314b73a14a31921216f26f"
            ],
            "layout": "IPY_MODEL_093b3f3bec5a4c38acfaa22091cbf658"
          }
        },
        "6dcbc61c844c4d34b4d8183b3b2ca9ac": {
          "model_module": "@jupyter-widgets/controls",
          "model_module_version": "1.5.0",
          "model_name": "ProgressStyleModel",
          "state": {
            "_model_module": "@jupyter-widgets/controls",
            "_model_module_version": "1.5.0",
            "_model_name": "ProgressStyleModel",
            "_view_count": null,
            "_view_module": "@jupyter-widgets/base",
            "_view_module_version": "1.2.0",
            "_view_name": "StyleView",
            "bar_color": null,
            "description_width": ""
          }
        },
        "6e0807b72a1f443b877f7a7784c84f35": {
          "model_module": "@jupyter-widgets/controls",
          "model_module_version": "1.5.0",
          "model_name": "ProgressStyleModel",
          "state": {
            "_model_module": "@jupyter-widgets/controls",
            "_model_module_version": "1.5.0",
            "_model_name": "ProgressStyleModel",
            "_view_count": null,
            "_view_module": "@jupyter-widgets/base",
            "_view_module_version": "1.2.0",
            "_view_name": "StyleView",
            "bar_color": null,
            "description_width": ""
          }
        },
        "743b617685bc4816938ad2a1b52fdbc7": {
          "model_module": "@jupyter-widgets/base",
          "model_module_version": "1.2.0",
          "model_name": "LayoutModel",
          "state": {
            "_model_module": "@jupyter-widgets/base",
            "_model_module_version": "1.2.0",
            "_model_name": "LayoutModel",
            "_view_count": null,
            "_view_module": "@jupyter-widgets/base",
            "_view_module_version": "1.2.0",
            "_view_name": "LayoutView",
            "align_content": null,
            "align_items": null,
            "align_self": null,
            "border": null,
            "bottom": null,
            "display": null,
            "flex": null,
            "flex_flow": null,
            "grid_area": null,
            "grid_auto_columns": null,
            "grid_auto_flow": null,
            "grid_auto_rows": null,
            "grid_column": null,
            "grid_gap": null,
            "grid_row": null,
            "grid_template_areas": null,
            "grid_template_columns": null,
            "grid_template_rows": null,
            "height": null,
            "justify_content": null,
            "justify_items": null,
            "left": null,
            "margin": null,
            "max_height": null,
            "max_width": null,
            "min_height": null,
            "min_width": null,
            "object_fit": null,
            "object_position": null,
            "order": null,
            "overflow": null,
            "overflow_x": null,
            "overflow_y": null,
            "padding": null,
            "right": null,
            "top": null,
            "visibility": null,
            "width": null
          }
        },
        "7789f4ce83f24ca7a36a1fe93bc64dc0": {
          "model_module": "@jupyter-widgets/base",
          "model_module_version": "1.2.0",
          "model_name": "LayoutModel",
          "state": {
            "_model_module": "@jupyter-widgets/base",
            "_model_module_version": "1.2.0",
            "_model_name": "LayoutModel",
            "_view_count": null,
            "_view_module": "@jupyter-widgets/base",
            "_view_module_version": "1.2.0",
            "_view_name": "LayoutView",
            "align_content": null,
            "align_items": null,
            "align_self": null,
            "border": null,
            "bottom": null,
            "display": null,
            "flex": null,
            "flex_flow": null,
            "grid_area": null,
            "grid_auto_columns": null,
            "grid_auto_flow": null,
            "grid_auto_rows": null,
            "grid_column": null,
            "grid_gap": null,
            "grid_row": null,
            "grid_template_areas": null,
            "grid_template_columns": null,
            "grid_template_rows": null,
            "height": null,
            "justify_content": null,
            "justify_items": null,
            "left": null,
            "margin": null,
            "max_height": null,
            "max_width": null,
            "min_height": null,
            "min_width": null,
            "object_fit": null,
            "object_position": null,
            "order": null,
            "overflow": null,
            "overflow_x": null,
            "overflow_y": null,
            "padding": null,
            "right": null,
            "top": null,
            "visibility": null,
            "width": null
          }
        },
        "77ba65fee37446d28bef970c5559e5f9": {
          "model_module": "@jupyter-widgets/controls",
          "model_module_version": "1.5.0",
          "model_name": "HTMLModel",
          "state": {
            "_dom_classes": [],
            "_model_module": "@jupyter-widgets/controls",
            "_model_module_version": "1.5.0",
            "_model_name": "HTMLModel",
            "_view_count": null,
            "_view_module": "@jupyter-widgets/controls",
            "_view_module_version": "1.5.0",
            "_view_name": "HTMLView",
            "description": "",
            "description_tooltip": null,
            "layout": "IPY_MODEL_84edf946fffa464d85b79e813216c66f",
            "placeholder": "​",
            "style": "IPY_MODEL_0f601994f62f4befbaa1694a2b9f9727",
            "value": "tokenizer_config.json: 100%"
          }
        },
        "77f2c8ad8149447a94c7fc8f36dda563": {
          "model_module": "@jupyter-widgets/controls",
          "model_module_version": "1.5.0",
          "model_name": "HBoxModel",
          "state": {
            "_dom_classes": [],
            "_model_module": "@jupyter-widgets/controls",
            "_model_module_version": "1.5.0",
            "_model_name": "HBoxModel",
            "_view_count": null,
            "_view_module": "@jupyter-widgets/controls",
            "_view_module_version": "1.5.0",
            "_view_name": "HBoxView",
            "box_style": "",
            "children": [
              "IPY_MODEL_5e3bdfa2bda1488cb2fbe1bfda4a24ef",
              "IPY_MODEL_4e02645969204cc99b48b3944aefad04",
              "IPY_MODEL_f102c528148d4c548c52ab9d118deb04"
            ],
            "layout": "IPY_MODEL_0a1f6a4fdbb141c1945dbd471cbe09ed"
          }
        },
        "79cd6df8ea4244028e5c8a7f552dbdec": {
          "model_module": "@jupyter-widgets/controls",
          "model_module_version": "1.5.0",
          "model_name": "FloatProgressModel",
          "state": {
            "_dom_classes": [],
            "_model_module": "@jupyter-widgets/controls",
            "_model_module_version": "1.5.0",
            "_model_name": "FloatProgressModel",
            "_view_count": null,
            "_view_module": "@jupyter-widgets/controls",
            "_view_module_version": "1.5.0",
            "_view_name": "ProgressView",
            "bar_style": "success",
            "description": "",
            "description_tooltip": null,
            "layout": "IPY_MODEL_4af80132dc474f73b0178a02109c4d80",
            "max": 570,
            "min": 0,
            "orientation": "horizontal",
            "style": "IPY_MODEL_4c29ca2a85954f3180e0063d698e66ad",
            "value": 570
          }
        },
        "79e5044b32314b73a14a31921216f26f": {
          "model_module": "@jupyter-widgets/controls",
          "model_module_version": "1.5.0",
          "model_name": "HTMLModel",
          "state": {
            "_dom_classes": [],
            "_model_module": "@jupyter-widgets/controls",
            "_model_module_version": "1.5.0",
            "_model_name": "HTMLModel",
            "_view_count": null,
            "_view_module": "@jupyter-widgets/controls",
            "_view_module_version": "1.5.0",
            "_view_name": "HTMLView",
            "description": "",
            "description_tooltip": null,
            "layout": "IPY_MODEL_ec9a8a0997d943c9ba1741b4efc4e3ad",
            "placeholder": "​",
            "style": "IPY_MODEL_d4ccb10b56ef4d0590716700b359e4c1",
            "value": " 440M/440M [00:03&lt;00:00, 123MB/s]"
          }
        },
        "7c3b23f62d3543fa9a5c2b571f697b1e": {
          "model_module": "@jupyter-widgets/base",
          "model_module_version": "1.2.0",
          "model_name": "LayoutModel",
          "state": {
            "_model_module": "@jupyter-widgets/base",
            "_model_module_version": "1.2.0",
            "_model_name": "LayoutModel",
            "_view_count": null,
            "_view_module": "@jupyter-widgets/base",
            "_view_module_version": "1.2.0",
            "_view_name": "LayoutView",
            "align_content": null,
            "align_items": null,
            "align_self": null,
            "border": null,
            "bottom": null,
            "display": null,
            "flex": null,
            "flex_flow": null,
            "grid_area": null,
            "grid_auto_columns": null,
            "grid_auto_flow": null,
            "grid_auto_rows": null,
            "grid_column": null,
            "grid_gap": null,
            "grid_row": null,
            "grid_template_areas": null,
            "grid_template_columns": null,
            "grid_template_rows": null,
            "height": null,
            "justify_content": null,
            "justify_items": null,
            "left": null,
            "margin": null,
            "max_height": null,
            "max_width": null,
            "min_height": null,
            "min_width": null,
            "object_fit": null,
            "object_position": null,
            "order": null,
            "overflow": null,
            "overflow_x": null,
            "overflow_y": null,
            "padding": null,
            "right": null,
            "top": null,
            "visibility": null,
            "width": null
          }
        },
        "83a84045553b46de9a1f4f81c0eb881e": {
          "model_module": "@jupyter-widgets/controls",
          "model_module_version": "1.5.0",
          "model_name": "DescriptionStyleModel",
          "state": {
            "_model_module": "@jupyter-widgets/controls",
            "_model_module_version": "1.5.0",
            "_model_name": "DescriptionStyleModel",
            "_view_count": null,
            "_view_module": "@jupyter-widgets/base",
            "_view_module_version": "1.2.0",
            "_view_name": "StyleView",
            "description_width": ""
          }
        },
        "84edf946fffa464d85b79e813216c66f": {
          "model_module": "@jupyter-widgets/base",
          "model_module_version": "1.2.0",
          "model_name": "LayoutModel",
          "state": {
            "_model_module": "@jupyter-widgets/base",
            "_model_module_version": "1.2.0",
            "_model_name": "LayoutModel",
            "_view_count": null,
            "_view_module": "@jupyter-widgets/base",
            "_view_module_version": "1.2.0",
            "_view_name": "LayoutView",
            "align_content": null,
            "align_items": null,
            "align_self": null,
            "border": null,
            "bottom": null,
            "display": null,
            "flex": null,
            "flex_flow": null,
            "grid_area": null,
            "grid_auto_columns": null,
            "grid_auto_flow": null,
            "grid_auto_rows": null,
            "grid_column": null,
            "grid_gap": null,
            "grid_row": null,
            "grid_template_areas": null,
            "grid_template_columns": null,
            "grid_template_rows": null,
            "height": null,
            "justify_content": null,
            "justify_items": null,
            "left": null,
            "margin": null,
            "max_height": null,
            "max_width": null,
            "min_height": null,
            "min_width": null,
            "object_fit": null,
            "object_position": null,
            "order": null,
            "overflow": null,
            "overflow_x": null,
            "overflow_y": null,
            "padding": null,
            "right": null,
            "top": null,
            "visibility": null,
            "width": null
          }
        },
        "8dfb109a016640bf8067386c5216e8b1": {
          "model_module": "@jupyter-widgets/controls",
          "model_module_version": "1.5.0",
          "model_name": "HTMLModel",
          "state": {
            "_dom_classes": [],
            "_model_module": "@jupyter-widgets/controls",
            "_model_module_version": "1.5.0",
            "_model_name": "HTMLModel",
            "_view_count": null,
            "_view_module": "@jupyter-widgets/controls",
            "_view_module_version": "1.5.0",
            "_view_name": "HTMLView",
            "description": "",
            "description_tooltip": null,
            "layout": "IPY_MODEL_9964b5f9831546b19af3d67cf8e64d8c",
            "placeholder": "​",
            "style": "IPY_MODEL_38cecf687fb442c2a21b3c255f2de82e",
            "value": "model.safetensors: 100%"
          }
        },
        "93b6ff98962348be9505515d1b69f406": {
          "model_module": "@jupyter-widgets/base",
          "model_module_version": "1.2.0",
          "model_name": "LayoutModel",
          "state": {
            "_model_module": "@jupyter-widgets/base",
            "_model_module_version": "1.2.0",
            "_model_name": "LayoutModel",
            "_view_count": null,
            "_view_module": "@jupyter-widgets/base",
            "_view_module_version": "1.2.0",
            "_view_name": "LayoutView",
            "align_content": null,
            "align_items": null,
            "align_self": null,
            "border": null,
            "bottom": null,
            "display": null,
            "flex": null,
            "flex_flow": null,
            "grid_area": null,
            "grid_auto_columns": null,
            "grid_auto_flow": null,
            "grid_auto_rows": null,
            "grid_column": null,
            "grid_gap": null,
            "grid_row": null,
            "grid_template_areas": null,
            "grid_template_columns": null,
            "grid_template_rows": null,
            "height": null,
            "justify_content": null,
            "justify_items": null,
            "left": null,
            "margin": null,
            "max_height": null,
            "max_width": null,
            "min_height": null,
            "min_width": null,
            "object_fit": null,
            "object_position": null,
            "order": null,
            "overflow": null,
            "overflow_x": null,
            "overflow_y": null,
            "padding": null,
            "right": null,
            "top": null,
            "visibility": null,
            "width": null
          }
        },
        "94da92103b8a48b7bb52d9e9d6cea749": {
          "model_module": "@jupyter-widgets/base",
          "model_module_version": "1.2.0",
          "model_name": "LayoutModel",
          "state": {
            "_model_module": "@jupyter-widgets/base",
            "_model_module_version": "1.2.0",
            "_model_name": "LayoutModel",
            "_view_count": null,
            "_view_module": "@jupyter-widgets/base",
            "_view_module_version": "1.2.0",
            "_view_name": "LayoutView",
            "align_content": null,
            "align_items": null,
            "align_self": null,
            "border": null,
            "bottom": null,
            "display": null,
            "flex": null,
            "flex_flow": null,
            "grid_area": null,
            "grid_auto_columns": null,
            "grid_auto_flow": null,
            "grid_auto_rows": null,
            "grid_column": null,
            "grid_gap": null,
            "grid_row": null,
            "grid_template_areas": null,
            "grid_template_columns": null,
            "grid_template_rows": null,
            "height": null,
            "justify_content": null,
            "justify_items": null,
            "left": null,
            "margin": null,
            "max_height": null,
            "max_width": null,
            "min_height": null,
            "min_width": null,
            "object_fit": null,
            "object_position": null,
            "order": null,
            "overflow": null,
            "overflow_x": null,
            "overflow_y": null,
            "padding": null,
            "right": null,
            "top": null,
            "visibility": null,
            "width": null
          }
        },
        "961fed3eb78f4909813ffee913878774": {
          "model_module": "@jupyter-widgets/controls",
          "model_module_version": "1.5.0",
          "model_name": "DescriptionStyleModel",
          "state": {
            "_model_module": "@jupyter-widgets/controls",
            "_model_module_version": "1.5.0",
            "_model_name": "DescriptionStyleModel",
            "_view_count": null,
            "_view_module": "@jupyter-widgets/base",
            "_view_module_version": "1.2.0",
            "_view_name": "StyleView",
            "description_width": ""
          }
        },
        "978264bfa22c46c7987fd915209117d5": {
          "model_module": "@jupyter-widgets/controls",
          "model_module_version": "1.5.0",
          "model_name": "HBoxModel",
          "state": {
            "_dom_classes": [],
            "_model_module": "@jupyter-widgets/controls",
            "_model_module_version": "1.5.0",
            "_model_name": "HBoxModel",
            "_view_count": null,
            "_view_module": "@jupyter-widgets/controls",
            "_view_module_version": "1.5.0",
            "_view_name": "HBoxView",
            "box_style": "",
            "children": [
              "IPY_MODEL_f0dff21b05c84476b554f1b037aced67",
              "IPY_MODEL_488073242d79438b921bfe95a6b07f40",
              "IPY_MODEL_1a358ca7199841c0a169b466d55218cb"
            ],
            "layout": "IPY_MODEL_743b617685bc4816938ad2a1b52fdbc7"
          }
        },
        "9964b5f9831546b19af3d67cf8e64d8c": {
          "model_module": "@jupyter-widgets/base",
          "model_module_version": "1.2.0",
          "model_name": "LayoutModel",
          "state": {
            "_model_module": "@jupyter-widgets/base",
            "_model_module_version": "1.2.0",
            "_model_name": "LayoutModel",
            "_view_count": null,
            "_view_module": "@jupyter-widgets/base",
            "_view_module_version": "1.2.0",
            "_view_name": "LayoutView",
            "align_content": null,
            "align_items": null,
            "align_self": null,
            "border": null,
            "bottom": null,
            "display": null,
            "flex": null,
            "flex_flow": null,
            "grid_area": null,
            "grid_auto_columns": null,
            "grid_auto_flow": null,
            "grid_auto_rows": null,
            "grid_column": null,
            "grid_gap": null,
            "grid_row": null,
            "grid_template_areas": null,
            "grid_template_columns": null,
            "grid_template_rows": null,
            "height": null,
            "justify_content": null,
            "justify_items": null,
            "left": null,
            "margin": null,
            "max_height": null,
            "max_width": null,
            "min_height": null,
            "min_width": null,
            "object_fit": null,
            "object_position": null,
            "order": null,
            "overflow": null,
            "overflow_x": null,
            "overflow_y": null,
            "padding": null,
            "right": null,
            "top": null,
            "visibility": null,
            "width": null
          }
        },
        "9bc1b743034b439ba5891572c1cb26ad": {
          "model_module": "@jupyter-widgets/controls",
          "model_module_version": "1.5.0",
          "model_name": "DescriptionStyleModel",
          "state": {
            "_model_module": "@jupyter-widgets/controls",
            "_model_module_version": "1.5.0",
            "_model_name": "DescriptionStyleModel",
            "_view_count": null,
            "_view_module": "@jupyter-widgets/base",
            "_view_module_version": "1.2.0",
            "_view_name": "StyleView",
            "description_width": ""
          }
        },
        "a45644e47a694bbeaf36e05142d47a38": {
          "model_module": "@jupyter-widgets/controls",
          "model_module_version": "1.5.0",
          "model_name": "HTMLModel",
          "state": {
            "_dom_classes": [],
            "_model_module": "@jupyter-widgets/controls",
            "_model_module_version": "1.5.0",
            "_model_name": "HTMLModel",
            "_view_count": null,
            "_view_module": "@jupyter-widgets/controls",
            "_view_module_version": "1.5.0",
            "_view_name": "HTMLView",
            "description": "",
            "description_tooltip": null,
            "layout": "IPY_MODEL_d28320e593fe4af4948802ad82f8d206",
            "placeholder": "​",
            "style": "IPY_MODEL_e3b881bc44dc4989a52fc70cbd519a68",
            "value": " 48.0/48.0 [00:00&lt;00:00, 2.81kB/s]"
          }
        },
        "a8945d52e3ff457d93ef2b94fd08a884": {
          "model_module": "@jupyter-widgets/controls",
          "model_module_version": "1.5.0",
          "model_name": "ProgressStyleModel",
          "state": {
            "_model_module": "@jupyter-widgets/controls",
            "_model_module_version": "1.5.0",
            "_model_name": "ProgressStyleModel",
            "_view_count": null,
            "_view_module": "@jupyter-widgets/base",
            "_view_module_version": "1.2.0",
            "_view_name": "StyleView",
            "bar_color": null,
            "description_width": ""
          }
        },
        "a8cac1e90eb4455ca25326e32611c1f5": {
          "model_module": "@jupyter-widgets/controls",
          "model_module_version": "1.5.0",
          "model_name": "HTMLModel",
          "state": {
            "_dom_classes": [],
            "_model_module": "@jupyter-widgets/controls",
            "_model_module_version": "1.5.0",
            "_model_name": "HTMLModel",
            "_view_count": null,
            "_view_module": "@jupyter-widgets/controls",
            "_view_module_version": "1.5.0",
            "_view_name": "HTMLView",
            "description": "",
            "description_tooltip": null,
            "layout": "IPY_MODEL_b75dc22538c7470c8fe4173dcdc3e240",
            "placeholder": "​",
            "style": "IPY_MODEL_c9d5d1be17a74d229a6f0706d7636008",
            "value": " 570/570 [00:00&lt;00:00, 32.3kB/s]"
          }
        },
        "b75dc22538c7470c8fe4173dcdc3e240": {
          "model_module": "@jupyter-widgets/base",
          "model_module_version": "1.2.0",
          "model_name": "LayoutModel",
          "state": {
            "_model_module": "@jupyter-widgets/base",
            "_model_module_version": "1.2.0",
            "_model_name": "LayoutModel",
            "_view_count": null,
            "_view_module": "@jupyter-widgets/base",
            "_view_module_version": "1.2.0",
            "_view_name": "LayoutView",
            "align_content": null,
            "align_items": null,
            "align_self": null,
            "border": null,
            "bottom": null,
            "display": null,
            "flex": null,
            "flex_flow": null,
            "grid_area": null,
            "grid_auto_columns": null,
            "grid_auto_flow": null,
            "grid_auto_rows": null,
            "grid_column": null,
            "grid_gap": null,
            "grid_row": null,
            "grid_template_areas": null,
            "grid_template_columns": null,
            "grid_template_rows": null,
            "height": null,
            "justify_content": null,
            "justify_items": null,
            "left": null,
            "margin": null,
            "max_height": null,
            "max_width": null,
            "min_height": null,
            "min_width": null,
            "object_fit": null,
            "object_position": null,
            "order": null,
            "overflow": null,
            "overflow_x": null,
            "overflow_y": null,
            "padding": null,
            "right": null,
            "top": null,
            "visibility": null,
            "width": null
          }
        },
        "c9d5d1be17a74d229a6f0706d7636008": {
          "model_module": "@jupyter-widgets/controls",
          "model_module_version": "1.5.0",
          "model_name": "DescriptionStyleModel",
          "state": {
            "_model_module": "@jupyter-widgets/controls",
            "_model_module_version": "1.5.0",
            "_model_name": "DescriptionStyleModel",
            "_view_count": null,
            "_view_module": "@jupyter-widgets/base",
            "_view_module_version": "1.2.0",
            "_view_name": "StyleView",
            "description_width": ""
          }
        },
        "d28320e593fe4af4948802ad82f8d206": {
          "model_module": "@jupyter-widgets/base",
          "model_module_version": "1.2.0",
          "model_name": "LayoutModel",
          "state": {
            "_model_module": "@jupyter-widgets/base",
            "_model_module_version": "1.2.0",
            "_model_name": "LayoutModel",
            "_view_count": null,
            "_view_module": "@jupyter-widgets/base",
            "_view_module_version": "1.2.0",
            "_view_name": "LayoutView",
            "align_content": null,
            "align_items": null,
            "align_self": null,
            "border": null,
            "bottom": null,
            "display": null,
            "flex": null,
            "flex_flow": null,
            "grid_area": null,
            "grid_auto_columns": null,
            "grid_auto_flow": null,
            "grid_auto_rows": null,
            "grid_column": null,
            "grid_gap": null,
            "grid_row": null,
            "grid_template_areas": null,
            "grid_template_columns": null,
            "grid_template_rows": null,
            "height": null,
            "justify_content": null,
            "justify_items": null,
            "left": null,
            "margin": null,
            "max_height": null,
            "max_width": null,
            "min_height": null,
            "min_width": null,
            "object_fit": null,
            "object_position": null,
            "order": null,
            "overflow": null,
            "overflow_x": null,
            "overflow_y": null,
            "padding": null,
            "right": null,
            "top": null,
            "visibility": null,
            "width": null
          }
        },
        "d4ccb10b56ef4d0590716700b359e4c1": {
          "model_module": "@jupyter-widgets/controls",
          "model_module_version": "1.5.0",
          "model_name": "DescriptionStyleModel",
          "state": {
            "_model_module": "@jupyter-widgets/controls",
            "_model_module_version": "1.5.0",
            "_model_name": "DescriptionStyleModel",
            "_view_count": null,
            "_view_module": "@jupyter-widgets/base",
            "_view_module_version": "1.2.0",
            "_view_name": "StyleView",
            "description_width": ""
          }
        },
        "dd10751fb75f480796025c9fcdb6966a": {
          "model_module": "@jupyter-widgets/controls",
          "model_module_version": "1.5.0",
          "model_name": "HTMLModel",
          "state": {
            "_dom_classes": [],
            "_model_module": "@jupyter-widgets/controls",
            "_model_module_version": "1.5.0",
            "_model_name": "HTMLModel",
            "_view_count": null,
            "_view_module": "@jupyter-widgets/controls",
            "_view_module_version": "1.5.0",
            "_view_name": "HTMLView",
            "description": "",
            "description_tooltip": null,
            "layout": "IPY_MODEL_2ba364d818364f00a79e5df354d2f6fb",
            "placeholder": "​",
            "style": "IPY_MODEL_9bc1b743034b439ba5891572c1cb26ad",
            "value": "config.json: 100%"
          }
        },
        "dee61b791e474846b0fe5a717336af81": {
          "model_module": "@jupyter-widgets/base",
          "model_module_version": "1.2.0",
          "model_name": "LayoutModel",
          "state": {
            "_model_module": "@jupyter-widgets/base",
            "_model_module_version": "1.2.0",
            "_model_name": "LayoutModel",
            "_view_count": null,
            "_view_module": "@jupyter-widgets/base",
            "_view_module_version": "1.2.0",
            "_view_name": "LayoutView",
            "align_content": null,
            "align_items": null,
            "align_self": null,
            "border": null,
            "bottom": null,
            "display": null,
            "flex": null,
            "flex_flow": null,
            "grid_area": null,
            "grid_auto_columns": null,
            "grid_auto_flow": null,
            "grid_auto_rows": null,
            "grid_column": null,
            "grid_gap": null,
            "grid_row": null,
            "grid_template_areas": null,
            "grid_template_columns": null,
            "grid_template_rows": null,
            "height": null,
            "justify_content": null,
            "justify_items": null,
            "left": null,
            "margin": null,
            "max_height": null,
            "max_width": null,
            "min_height": null,
            "min_width": null,
            "object_fit": null,
            "object_position": null,
            "order": null,
            "overflow": null,
            "overflow_x": null,
            "overflow_y": null,
            "padding": null,
            "right": null,
            "top": null,
            "visibility": null,
            "width": null
          }
        },
        "e3b881bc44dc4989a52fc70cbd519a68": {
          "model_module": "@jupyter-widgets/controls",
          "model_module_version": "1.5.0",
          "model_name": "DescriptionStyleModel",
          "state": {
            "_model_module": "@jupyter-widgets/controls",
            "_model_module_version": "1.5.0",
            "_model_name": "DescriptionStyleModel",
            "_view_count": null,
            "_view_module": "@jupyter-widgets/base",
            "_view_module_version": "1.2.0",
            "_view_name": "StyleView",
            "description_width": ""
          }
        },
        "e4ba32edbb894f6f9c84a636627db9ac": {
          "model_module": "@jupyter-widgets/controls",
          "model_module_version": "1.5.0",
          "model_name": "HBoxModel",
          "state": {
            "_dom_classes": [],
            "_model_module": "@jupyter-widgets/controls",
            "_model_module_version": "1.5.0",
            "_model_name": "HBoxModel",
            "_view_count": null,
            "_view_module": "@jupyter-widgets/controls",
            "_view_module_version": "1.5.0",
            "_view_name": "HBoxView",
            "box_style": "",
            "children": [
              "IPY_MODEL_dd10751fb75f480796025c9fcdb6966a",
              "IPY_MODEL_79cd6df8ea4244028e5c8a7f552dbdec",
              "IPY_MODEL_a8cac1e90eb4455ca25326e32611c1f5"
            ],
            "layout": "IPY_MODEL_f91ba7956fbf4ca8b9b07c29d0841a58"
          }
        },
        "ec9a8a0997d943c9ba1741b4efc4e3ad": {
          "model_module": "@jupyter-widgets/base",
          "model_module_version": "1.2.0",
          "model_name": "LayoutModel",
          "state": {
            "_model_module": "@jupyter-widgets/base",
            "_model_module_version": "1.2.0",
            "_model_name": "LayoutModel",
            "_view_count": null,
            "_view_module": "@jupyter-widgets/base",
            "_view_module_version": "1.2.0",
            "_view_name": "LayoutView",
            "align_content": null,
            "align_items": null,
            "align_self": null,
            "border": null,
            "bottom": null,
            "display": null,
            "flex": null,
            "flex_flow": null,
            "grid_area": null,
            "grid_auto_columns": null,
            "grid_auto_flow": null,
            "grid_auto_rows": null,
            "grid_column": null,
            "grid_gap": null,
            "grid_row": null,
            "grid_template_areas": null,
            "grid_template_columns": null,
            "grid_template_rows": null,
            "height": null,
            "justify_content": null,
            "justify_items": null,
            "left": null,
            "margin": null,
            "max_height": null,
            "max_width": null,
            "min_height": null,
            "min_width": null,
            "object_fit": null,
            "object_position": null,
            "order": null,
            "overflow": null,
            "overflow_x": null,
            "overflow_y": null,
            "padding": null,
            "right": null,
            "top": null,
            "visibility": null,
            "width": null
          }
        },
        "ef2deec0b1cc42d6b81b1bccef7acbb4": {
          "model_module": "@jupyter-widgets/controls",
          "model_module_version": "1.5.0",
          "model_name": "HBoxModel",
          "state": {
            "_dom_classes": [],
            "_model_module": "@jupyter-widgets/controls",
            "_model_module_version": "1.5.0",
            "_model_name": "HBoxModel",
            "_view_count": null,
            "_view_module": "@jupyter-widgets/controls",
            "_view_module_version": "1.5.0",
            "_view_name": "HBoxView",
            "box_style": "",
            "children": [
              "IPY_MODEL_77ba65fee37446d28bef970c5559e5f9",
              "IPY_MODEL_0ddd2e8249a64e1eb515be9c713c433f",
              "IPY_MODEL_a45644e47a694bbeaf36e05142d47a38"
            ],
            "layout": "IPY_MODEL_dee61b791e474846b0fe5a717336af81"
          }
        },
        "f0dff21b05c84476b554f1b037aced67": {
          "model_module": "@jupyter-widgets/controls",
          "model_module_version": "1.5.0",
          "model_name": "HTMLModel",
          "state": {
            "_dom_classes": [],
            "_model_module": "@jupyter-widgets/controls",
            "_model_module_version": "1.5.0",
            "_model_name": "HTMLModel",
            "_view_count": null,
            "_view_module": "@jupyter-widgets/controls",
            "_view_module_version": "1.5.0",
            "_view_name": "HTMLView",
            "description": "",
            "description_tooltip": null,
            "layout": "IPY_MODEL_114b5fbd899e46d9bcd4b9f9ec8d191b",
            "placeholder": "​",
            "style": "IPY_MODEL_07f4d02971aa45a79aa26cfa20792632",
            "value": "tokenizer.json: 100%"
          }
        },
        "f102c528148d4c548c52ab9d118deb04": {
          "model_module": "@jupyter-widgets/controls",
          "model_module_version": "1.5.0",
          "model_name": "HTMLModel",
          "state": {
            "_dom_classes": [],
            "_model_module": "@jupyter-widgets/controls",
            "_model_module_version": "1.5.0",
            "_model_name": "HTMLModel",
            "_view_count": null,
            "_view_module": "@jupyter-widgets/controls",
            "_view_module_version": "1.5.0",
            "_view_name": "HTMLView",
            "description": "",
            "description_tooltip": null,
            "layout": "IPY_MODEL_7c3b23f62d3543fa9a5c2b571f697b1e",
            "placeholder": "​",
            "style": "IPY_MODEL_21e96809661844e4972beee75aae9d64",
            "value": " 232k/232k [00:00&lt;00:00, 3.19MB/s]"
          }
        },
        "f91ba7956fbf4ca8b9b07c29d0841a58": {
          "model_module": "@jupyter-widgets/base",
          "model_module_version": "1.2.0",
          "model_name": "LayoutModel",
          "state": {
            "_model_module": "@jupyter-widgets/base",
            "_model_module_version": "1.2.0",
            "_model_name": "LayoutModel",
            "_view_count": null,
            "_view_module": "@jupyter-widgets/base",
            "_view_module_version": "1.2.0",
            "_view_name": "LayoutView",
            "align_content": null,
            "align_items": null,
            "align_self": null,
            "border": null,
            "bottom": null,
            "display": null,
            "flex": null,
            "flex_flow": null,
            "grid_area": null,
            "grid_auto_columns": null,
            "grid_auto_flow": null,
            "grid_auto_rows": null,
            "grid_column": null,
            "grid_gap": null,
            "grid_row": null,
            "grid_template_areas": null,
            "grid_template_columns": null,
            "grid_template_rows": null,
            "height": null,
            "justify_content": null,
            "justify_items": null,
            "left": null,
            "margin": null,
            "max_height": null,
            "max_width": null,
            "min_height": null,
            "min_width": null,
            "object_fit": null,
            "object_position": null,
            "order": null,
            "overflow": null,
            "overflow_x": null,
            "overflow_y": null,
            "padding": null,
            "right": null,
            "top": null,
            "visibility": null,
            "width": null
          }
        }
      }
    }
  },
  "nbformat": 4,
  "nbformat_minor": 0
}
