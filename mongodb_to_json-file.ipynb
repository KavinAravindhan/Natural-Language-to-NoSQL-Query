{
  "cells": [
    {
      "cell_type": "code",
      "execution_count": 1,
      "metadata": {
        "colab": {
          "base_uri": "https://localhost:8080/"
        },
        "id": "AWRIZ9qxGO67",
        "outputId": "a49c27bc-9f22-479e-9511-6e6eae79e74b"
      },
      "outputs": [
        {
          "name": "stdout",
          "output_type": "stream",
          "text": [
            "Collecting pymongo[srv]\n",
            "  Downloading pymongo-4.7.1-cp310-cp310-manylinux_2_17_x86_64.manylinux2014_x86_64.whl (669 kB)\n",
            "\u001b[2K     \u001b[90m━━━━━━━━━━━━━━━━━━━━━━━━━━━━━━━━━━━━━━━━\u001b[0m \u001b[32m670.0/670.0 kB\u001b[0m \u001b[31m2.7 MB/s\u001b[0m eta \u001b[36m0:00:00\u001b[0m\n",
            "\u001b[?25hCollecting dnspython<3.0.0,>=1.16.0 (from pymongo[srv])\n",
            "  Downloading dnspython-2.6.1-py3-none-any.whl (307 kB)\n",
            "\u001b[2K     \u001b[90m━━━━━━━━━━━━━━━━━━━━━━━━━━━━━━━━━━━━━━━━\u001b[0m \u001b[32m307.7/307.7 kB\u001b[0m \u001b[31m21.4 MB/s\u001b[0m eta \u001b[36m0:00:00\u001b[0m\n",
            "\u001b[?25hInstalling collected packages: dnspython, pymongo\n",
            "Successfully installed dnspython-2.6.1 pymongo-4.7.1\n"
          ]
        }
      ],
      "source": [
        "!pip install pymongo[srv]"
      ]
    },
    {
      "cell_type": "code",
      "execution_count": null,
      "metadata": {
        "id": "zyT234tQKIHv"
      },
      "outputs": [],
      "source": [
        "# !pip install \"pymongo[srv]\"==3.6"
      ]
    },
    {
      "cell_type": "code",
      "execution_count": 2,
      "metadata": {
        "colab": {
          "base_uri": "https://localhost:8080/"
        },
        "id": "MvekHwTfIGOG",
        "outputId": "10333ede-2900-4ec3-8a0f-b632acbb9f88"
      },
      "outputs": [
        {
          "name": "stdout",
          "output_type": "stream",
          "text": [
            "3.10.12 (main, Nov 20 2023, 15:14:05) [GCC 11.4.0]\n"
          ]
        }
      ],
      "source": [
        "import sys\n",
        "print(sys.version)"
      ]
    },
    {
      "cell_type": "code",
      "execution_count": 3,
      "metadata": {
        "id": "Zv8eumyqJzCM"
      },
      "outputs": [],
      "source": [
        "import pymongo\n",
        "from pymongo import MongoClient\n",
        "import json"
      ]
    },
    {
      "cell_type": "code",
      "execution_count": 4,
      "metadata": {
        "id": "rrbxLE-_J0c2"
      },
      "outputs": [],
      "source": [
        "# Connect to the MongoDB Atlas cluster\n",
        "# Replace the <connection_string> with that of the cluster\n",
        "client = MongoClient(\"<connection_string>\")"
      ]
    },
    {
      "cell_type": "code",
      "execution_count": 5,
      "metadata": {
        "id": "AX3hj6YiLJBi"
      },
      "outputs": [],
      "source": [
        "# Access the sample_mflix database\n",
        "db = client.sample_mflix"
      ]
    },
    {
      "cell_type": "code",
      "execution_count": 6,
      "metadata": {
        "id": "zEs1HB1KLL_1"
      },
      "outputs": [],
      "source": [
        "# Function to extract schema for a given collection\n",
        "def get_collection_schema(collection_name):\n",
        "    collection = db[collection_name]\n",
        "    sample_document = collection.find_one()\n",
        "    schema = {}\n",
        "    for field, value in sample_document.items():\n",
        "        field_type = type(value).__name__\n",
        "        if isinstance(value, list):\n",
        "            if value:\n",
        "                if isinstance(value[0], dict):\n",
        "                    inner_fields = {}\n",
        "                    for inner_doc in value:\n",
        "                        inner_fields.update(get_collection_schema(collection_name))\n",
        "                    schema[field] = {\"type\": \"array\", \"description\": f\"List of objects with fields: {inner_fields}\"}\n",
        "                else:\n",
        "                    inner_type = type(value[0]).__name__\n",
        "                    schema[field] = {\"type\": \"array\", \"description\": f\"List of {inner_type}s\"}\n",
        "            else:\n",
        "                schema[field] = {\"type\": \"array\"}\n",
        "        else:\n",
        "            schema[field] = {\"type\": field_type}\n",
        "    return schema"
      ]
    },
    {
      "cell_type": "code",
      "execution_count": 7,
      "metadata": {
        "id": "bJ8ysWo2LQ9K"
      },
      "outputs": [],
      "source": [
        "# Function to generate the JSON schema for all collections\n",
        "def generate_schema():\n",
        "    collections_schema = {}\n",
        "    for collection_name in db.list_collection_names():\n",
        "        collections_schema[collection_name] = {\"name\": collection_name, \"description\": f\"Contains detailed information about {collection_name}.\"}\n",
        "        collections_schema[collection_name][\"fields\"] = get_collection_schema(collection_name)\n",
        "    return collections_schema"
      ]
    },
    {
      "cell_type": "code",
      "execution_count": 8,
      "metadata": {
        "id": "i9U65kAzLVjH"
      },
      "outputs": [],
      "source": [
        "# Generate the schema\n",
        "schema = generate_schema()"
      ]
    },
    {
      "cell_type": "code",
      "execution_count": 9,
      "metadata": {
        "colab": {
          "base_uri": "https://localhost:8080/"
        },
        "id": "SAShGRwkLYtv",
        "outputId": "1047ba5a-b44f-44bc-ac11-0f932b7b6e6a"
      },
      "outputs": [
        {
          "data": {
            "text/plain": [
              "{'sessions': {'name': 'sessions',\n",
              "  'description': 'Contains detailed information about sessions.',\n",
              "  'fields': {'_id': {'type': 'ObjectId'},\n",
              "   'user_id': {'type': 'str'},\n",
              "   'jwt': {'type': 'str'}}},\n",
              " 'movies': {'name': 'movies',\n",
              "  'description': 'Contains detailed information about movies.',\n",
              "  'fields': {'_id': {'type': 'ObjectId'},\n",
              "   'plot': {'type': 'str'},\n",
              "   'genres': {'type': 'array', 'description': 'List of strs'},\n",
              "   'runtime': {'type': 'int'},\n",
              "   'cast': {'type': 'array', 'description': 'List of strs'},\n",
              "   'poster': {'type': 'str'},\n",
              "   'title': {'type': 'str'},\n",
              "   'fullplot': {'type': 'str'},\n",
              "   'languages': {'type': 'array', 'description': 'List of strs'},\n",
              "   'released': {'type': 'datetime'},\n",
              "   'directors': {'type': 'array', 'description': 'List of strs'},\n",
              "   'rated': {'type': 'str'},\n",
              "   'awards': {'type': 'dict'},\n",
              "   'lastupdated': {'type': 'str'},\n",
              "   'year': {'type': 'int'},\n",
              "   'imdb': {'type': 'dict'},\n",
              "   'countries': {'type': 'array', 'description': 'List of strs'},\n",
              "   'type': {'type': 'str'},\n",
              "   'tomatoes': {'type': 'dict'},\n",
              "   'num_mflix_comments': {'type': 'int'}}},\n",
              " 'embedded_movies': {'name': 'embedded_movies',\n",
              "  'description': 'Contains detailed information about embedded_movies.',\n",
              "  'fields': {'_id': {'type': 'ObjectId'},\n",
              "   'plot': {'type': 'str'},\n",
              "   'genres': {'type': 'array', 'description': 'List of strs'},\n",
              "   'runtime': {'type': 'int'},\n",
              "   'cast': {'type': 'array', 'description': 'List of strs'},\n",
              "   'num_mflix_comments': {'type': 'int'},\n",
              "   'poster': {'type': 'str'},\n",
              "   'title': {'type': 'str'},\n",
              "   'fullplot': {'type': 'str'},\n",
              "   'languages': {'type': 'array', 'description': 'List of strs'},\n",
              "   'released': {'type': 'datetime'},\n",
              "   'directors': {'type': 'array', 'description': 'List of strs'},\n",
              "   'writers': {'type': 'array', 'description': 'List of strs'},\n",
              "   'awards': {'type': 'dict'},\n",
              "   'lastupdated': {'type': 'str'},\n",
              "   'year': {'type': 'int'},\n",
              "   'imdb': {'type': 'dict'},\n",
              "   'countries': {'type': 'array', 'description': 'List of strs'},\n",
              "   'type': {'type': 'str'},\n",
              "   'tomatoes': {'type': 'dict'},\n",
              "   'plot_embedding': {'type': 'array', 'description': 'List of floats'}}},\n",
              " 'theaters': {'name': 'theaters',\n",
              "  'description': 'Contains detailed information about theaters.',\n",
              "  'fields': {'_id': {'type': 'ObjectId'},\n",
              "   'theaterId': {'type': 'int'},\n",
              "   'location': {'type': 'dict'}}},\n",
              " 'users': {'name': 'users',\n",
              "  'description': 'Contains detailed information about users.',\n",
              "  'fields': {'_id': {'type': 'ObjectId'},\n",
              "   'name': {'type': 'str'},\n",
              "   'email': {'type': 'str'},\n",
              "   'password': {'type': 'str'}}},\n",
              " 'comments': {'name': 'comments',\n",
              "  'description': 'Contains detailed information about comments.',\n",
              "  'fields': {'_id': {'type': 'ObjectId'},\n",
              "   'name': {'type': 'str'},\n",
              "   'email': {'type': 'str'},\n",
              "   'movie_id': {'type': 'ObjectId'},\n",
              "   'text': {'type': 'str'},\n",
              "   'date': {'type': 'datetime'}}}}"
            ]
          },
          "execution_count": 9,
          "metadata": {},
          "output_type": "execute_result"
        }
      ],
      "source": [
        "schema"
      ]
    },
    {
      "cell_type": "code",
      "execution_count": 11,
      "metadata": {
        "colab": {
          "base_uri": "https://localhost:8080/"
        },
        "id": "nFRJIcoEL0cz",
        "outputId": "1f8a4670-bda0-4c4b-fe5e-43f30f330f58"
      },
      "outputs": [
        {
          "name": "stdout",
          "output_type": "stream",
          "text": [
            "Schema generation complete. Schema saved as 'movie.json'.\n"
          ]
        }
      ],
      "source": [
        "# Write the schema to a JSON file\n",
        "with open(\"movie.json\", \"w\") as f:\n",
        "    json.dump({\"collections\": schema}, f, indent=4)\n",
        "\n",
        "print(\"Schema generation complete. Schema saved as 'movie.json'.\")"
      ]
    }
  ],
  "metadata": {
    "colab": {
      "provenance": []
    },
    "kernelspec": {
      "display_name": "Python 3",
      "name": "python3"
    },
    "language_info": {
      "name": "python"
    }
  },
  "nbformat": 4,
  "nbformat_minor": 0
}
